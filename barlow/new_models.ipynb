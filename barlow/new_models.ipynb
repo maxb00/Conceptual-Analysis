{
 "cells": [
  {
   "cell_type": "markdown",
   "metadata": {},
   "source": [
    "# Conceptual Analysis Workbook for 6/15\n",
    "### Plan:\n",
    "* Load models (GPT-3 from txt, OPT from transformers)\n",
    "* Define helper methods for angle tests\n",
    "* Conduct angle tests w/ GPT and OPT\n",
    "* Define + discuss complexity tests\n",
    "* Conduct complexity tests w/ OPT"
   ]
  },
  {
   "cell_type": "code",
   "execution_count": 171,
   "metadata": {},
   "outputs": [],
   "source": [
    "import os\n",
    "import openai\n",
    "import torch\n",
    "\n",
    "import numpy as np\n",
    "\n",
    "from sklearn.metrics.pairwise import cosine_similarity\n",
    "from transformers import GPT2Tokenizer, OPTModel\n",
    "\n",
    "# Set in conda\n",
    "openai.api_key = os.getenv('OPENAI_API_KEY')"
   ]
  },
  {
   "cell_type": "markdown",
   "metadata": {},
   "source": [
    "## Load Models"
   ]
  },
  {
   "cell_type": "markdown",
   "metadata": {},
   "source": [
    "### Vocab"
   ]
  },
  {
   "cell_type": "code",
   "execution_count": 172,
   "metadata": {},
   "outputs": [],
   "source": [
    "# Load our common words vocab from file\n",
    "\n",
    "vocab = []\n",
    "with open(u'/gpfs/fs1/home/mbarlow6/Desktop/Conceptual-Analysis/barlow/valid_vocab.txt', 'r') as f:\n",
    "    for w in f:\n",
    "        vocab.append(w.strip())"
   ]
  },
  {
   "cell_type": "markdown",
   "metadata": {},
   "source": [
    "### GPT-3"
   ]
  },
  {
   "cell_type": "code",
   "execution_count": 173,
   "metadata": {},
   "outputs": [
    {
     "data": {
      "text/plain": [
       "\"\\n# Babbage embeds: 2048 dims\\nbab_embeds = []\\nwith open(u'/gpfs/fs1/home/mbarlow6/Desktop/Conceptual-Analysis/barlow/gpt/gpt_babbage.txt', 'r') as f:\\n    for line in f:\\n        bab_embeds.append([float(x) for x in line.strip().split()])\\n\\nmodel_bab = dict(zip(vocab, bab_embeds))\\n\""
      ]
     },
     "execution_count": 173,
     "metadata": {},
     "output_type": "execute_result"
    }
   ],
   "source": [
    "# Loading saved embeddings from GPT-3 Ada\n",
    "# Ada embeds: 1024 dims\n",
    "\n",
    "ada_embeds = []\n",
    "with open(u'/gpfs/fs1/home/mbarlow6/Desktop/Conceptual-Analysis/barlow/gpt/gpt_ada.txt', 'r') as f:\n",
    "    for line in f:\n",
    "        ada_embeds.append([float(x) for x in line.strip().split()])\n",
    "\n",
    "model_gpt = dict(zip(vocab, ada_embeds))\n",
    "\n",
    "# Babbage load included below as comment.\n",
    "\"\"\"\n",
    "# Babbage embeds: 2048 dims\n",
    "bab_embeds = []\n",
    "with open(u'/gpfs/fs1/home/mbarlow6/Desktop/Conceptual-Analysis/barlow/gpt/gpt_babbage.txt', 'r') as f:\n",
    "    for line in f:\n",
    "        bab_embeds.append([float(x) for x in line.strip().split()])\n",
    "\n",
    "model_bab = dict(zip(vocab, bab_embeds))\n",
    "\"\"\"\n",
    "#"
   ]
  },
  {
   "cell_type": "code",
   "execution_count": 174,
   "metadata": {},
   "outputs": [],
   "source": [
    "# this will be my function for getting GPT-3 embeddings from API\n",
    "gpt_models = ['text-similarity-ada-001',\n",
    "              'text-similarity-babbage-001',\n",
    "              'text-similarity-curie-001',\n",
    "              'text-similarity-davinci-001']\n",
    "def get_embedding(text, engine='text-similarity-ada-001'):\n",
    "    text = text.replace('\\n', ' ')\n",
    "    return openai.Embedding.create(input=[text], engine=engine)['data'][0]['embedding']"
   ]
  },
  {
   "cell_type": "markdown",
   "metadata": {},
   "source": [
    "### OPT"
   ]
  },
  {
   "cell_type": "code",
   "execution_count": 175,
   "metadata": {},
   "outputs": [],
   "source": [
    "# Loding OPT with HuggingFace Transformers. Paramenter size can be changed- ['125m', '350m', '1.3b', '2.7b', '6.7b', '13b', '30b']\n",
    "# NOTE: 1.3b uses 2.6G of .cache space.\n",
    "\n",
    "# NOTE: The documentation recommends using the GPT2Tokenizer here.\n",
    "tokenizer = GPT2Tokenizer.from_pretrained(\"facebook/opt-1.3b\", cache_dir='/scratch/mbarlow6/.cache/')\n",
    "model_opt_raw = OPTModel.from_pretrained(\"facebook/opt-1.3b\", cache_dir='/scratch/mbarlow6/.cache/')"
   ]
  },
  {
   "cell_type": "code",
   "execution_count": 176,
   "metadata": {},
   "outputs": [],
   "source": [
    "opt_embeds = []\n",
    "with open(u'/gpfs/fs1/home/mbarlow6/Desktop/Conceptual-Analysis/barlow/opt/1_3B.txt', 'r') as f:\n",
    "    for line in f:\n",
    "        opt_embeds.append([float(x) for x in line.strip().split()])\n",
    "model_opt = dict(zip(vocab, opt_embeds))"
   ]
  },
  {
   "cell_type": "code",
   "execution_count": 177,
   "metadata": {},
   "outputs": [],
   "source": [
    "# This is how I'm getting the embedding from OPT.\n",
    "def squeeze(word, tokenizer=tokenizer, model=model_opt_raw):\n",
    "    # prepare inputs and model\n",
    "    inputs = tokenizer(word, return_tensors=\"pt\") # return pytorch tensors\n",
    "    print('Tokens Requested:')\n",
    "    print(tokenizer.batch_decode(inputs.input_ids[0]))\n",
    "    with torch.no_grad(): # added 6/16\n",
    "        outputs = model(**inputs)\n",
    "\n",
    "    # get embedding from final layer\n",
    "    last_hidden_states = outputs.last_hidden_state # I have confirmed this is the same\n",
    "                                                   # As the strategy from Tianyi\n",
    "\n",
    "    # remove unnecessary dimension\n",
    "    embeddings = torch.squeeze(last_hidden_states, dim=0)\n",
    "\n",
    "    # convert to list\n",
    "    # return [embed.tolist() for embed in embeddings][1]\n",
    "\n",
    "    # add all of the vectors together\n",
    "    final_embed = np.array(embeddings[1])\n",
    "    if embeddings.shape[0] > 2:\n",
    "        for next_emb in embeddings[2:]:\n",
    "            final_embed += np.array(next_emb)\n",
    "        final_embed /= embeddings.shape[0] - 1\n",
    "    return final_embed"
   ]
  },
  {
   "cell_type": "code",
   "execution_count": 178,
   "metadata": {},
   "outputs": [
    {
     "name": "stdout",
     "output_type": "stream",
     "text": [
      "Tokens Requested:\n",
      "['</s>', 'Hello', ' world', '!', ' It', ' is', ' I', ',', ' Don', ' Qu', 'ix', 'ote', '.']\n"
     ]
    },
    {
     "data": {
      "text/plain": [
       "array([-1.1419873, -0.643372 , -1.0564904, ...,  0.8400207, -1.6957184,\n",
       "       -1.0830728], dtype=float32)"
      ]
     },
     "execution_count": 178,
     "metadata": {},
     "output_type": "execute_result"
    }
   ],
   "source": [
    "squeeze('Hello world! It is I, Don Quixote.')"
   ]
  },
  {
   "cell_type": "markdown",
   "metadata": {},
   "source": [
    "## Define Helpers (for angle)"
   ]
  },
  {
   "cell_type": "code",
   "execution_count": 179,
   "metadata": {},
   "outputs": [],
   "source": [
    "def positive(words, model='gpt'):\n",
    "    \"\"\"\n",
    "    Args:\n",
    "        words: iterable\n",
    "        model: 'gpt' or 'opt'\n",
    "    Returns:\n",
    "        Positive (summed vectors) of word embeddings of a given list of words from the specified model. Defaults to GPT-3.\n",
    "    \"\"\"\n",
    "    if isinstance(words, str):\n",
    "        print(f\"You requested the positive of the string \\\"{words}\\\". Did you mean [\\\"{words}\\\"]?\")\n",
    "\n",
    "    out = 0\n",
    "    for token in words:\n",
    "        # convert token to string\n",
    "        word = str(token)\n",
    "\n",
    "        # do model check - least intensive operation to repeat\n",
    "        if model.lower() == 'gpt':\n",
    "            # look for token in cached GPT embeds\n",
    "            if word in model_gpt:\n",
    "                ex = model_gpt[word]  # ex for \"extracted\"\n",
    "            # if not found, query API\n",
    "            else:\n",
    "                ex = get_embedding(word)\n",
    "                model_gpt[word] = ex\n",
    "        elif model.lower() == 'opt':\n",
    "            if word in model_opt:\n",
    "                ex = model_opt[word]\n",
    "            else:\n",
    "                # squeeze!\n",
    "                ex = squeeze(word)\n",
    "        else:\n",
    "            raise ValueError('Please provide either gpt or opt as a model choice.')\n",
    "\n",
    "        # construct positive\n",
    "        if isinstance(out, int):\n",
    "            out = np.array(ex).reshape(1, -1)\n",
    "        else:\n",
    "            out += np.array(ex).reshape(1, -1)\n",
    "            \n",
    "    return out if not isinstance(out, int) else np.array([])"
   ]
  },
  {
   "cell_type": "code",
   "execution_count": 180,
   "metadata": {},
   "outputs": [],
   "source": [
    "def most_similar(target, phrase=False, topn=10, model='gpt'):\n",
    "    \"\"\"\n",
    "    Args:\n",
    "        target: str or list[float] (if phrase)\n",
    "        phrase: bool    -> True if target is vector. Default False.\n",
    "        topn: int       -> Number of results to keep [0:2+topn]\n",
    "        model: 'gpt' or 'opt'\n",
    "    Returns:\n",
    "        Top n most similar words in common vocab to the target vector in the specified model.\n",
    "    \"\"\"\n",
    "    # holder for all similarity scores\n",
    "    sims = {}\n",
    "\n",
    "    # initialize starting point\n",
    "    a = target\n",
    "\n",
    "    # if no phrase, must convert to embed.\n",
    "    if not phrase:\n",
    "        a = positive([a], model) # I'm going to abuse positive.\n",
    "\n",
    "    # now, we check every B in our vocab\n",
    "    for term in vocab:\n",
    "        b = positive([term], model)\n",
    "        if isinstance(target, str):\n",
    "            if term != target:\n",
    "                sims[term] = cosine_similarity(a, b)\n",
    "        elif b.any():\n",
    "            sims[term] = cosine_similarity(a, b)\n",
    "    \n",
    "    return list({k: v for k, v in sorted(sims.items(), key=lambda x: x[1], reverse=True)}.items())[:2+topn]"
   ]
  },
  {
   "cell_type": "code",
   "execution_count": 181,
   "metadata": {},
   "outputs": [],
   "source": [
    "def definition(words, topn=10, model='gpt'):\n",
    "    \"\"\"\n",
    "    Args:\n",
    "        words: iterable -> Items to be combined into a positive and defined\n",
    "        topn: int       -> number of words to keep in definiton\n",
    "        model: 'gpt' or 'opt'\n",
    "    Returns:\n",
    "        Top N most similar words in the specified model to a positive of the string representations\n",
    "        of any provided interable, if it's members can be cast to strings. \n",
    "    \"\"\"\n",
    "    # get phrase\n",
    "    if isinstance(words, str):\n",
    "        words = [words]\n",
    "    phrase = positive(words, model)\n",
    "\n",
    "    # get definition\n",
    "    def_of_positive = most_similar(phrase, True, topn, model)\n",
    "\n",
    "    return def_of_positive"
   ]
  },
  {
   "cell_type": "code",
   "execution_count": 182,
   "metadata": {},
   "outputs": [],
   "source": [
    "def define(words, topn=10):\n",
    "    \"\"\"\n",
    "    Args:\n",
    "        words: string or iterable -> Items to be combined into a positive and defined\n",
    "        topn: int                 -> number of words to keep in definiton\n",
    "    Returns:\n",
    "        None. Formats and prints definition from both models.\n",
    "    \"\"\"\n",
    "    print(*words, sep=', ')\n",
    "    print('GPT-3:')\n",
    "    print(definition(words, topn, 'gpt'))\n",
    "    print('------------------------------------------------------')\n",
    "    print('OPT:')\n",
    "    print(definition(words, topn, 'opt'))\n",
    "    print('------------------------------------------------------')"
   ]
  },
  {
   "cell_type": "code",
   "execution_count": 183,
   "metadata": {},
   "outputs": [],
   "source": [
    "def calculate_similarity(words, target, vec=False, model='gpt'):\n",
    "    \"\"\"\n",
    "    Args:\n",
    "        words: iterable or vector   -> Items to be combined into a positive and compared,\n",
    "                                       or already constructed vector of matching dimensions.\n",
    "        target: str     -> single term to calulate similarity to.\n",
    "        vec: bool       -> true if 'words' is a vector\n",
    "        model: 'gpt' or 'opt'\n",
    "    Returns:\n",
    "        The cosine similarity of the words vector and target term in specified model.\n",
    "    \"\"\"\n",
    "    # get phrase\n",
    "    phrase = words\n",
    "    if not vec:\n",
    "        if isinstance(words, str):\n",
    "            phrase = positive([words], model)\n",
    "        else:\n",
    "            phrase = positive(words, model)\n",
    "    \n",
    "    # get target\n",
    "    target = positive([target], model)\n",
    "\n",
    "    return cosine_similarity(phrase, target)[0][0]\n"
   ]
  },
  {
   "cell_type": "code",
   "execution_count": 184,
   "metadata": {},
   "outputs": [],
   "source": [
    "def sim_test(words, target):\n",
    "    \"\"\"\n",
    "    Args:\n",
    "        words: iterable, str, or vector -> Items to be combined into a positive and compared,\n",
    "                                            or already constructed vector of matching dimensions.\n",
    "        target: str                     -> single term to calulate similarity to.\n",
    "    Returns:\n",
    "        None. Formats and prints similarity from both models.\n",
    "    \"\"\"\n",
    "    print(*words, sep=', ', end='')\n",
    "    print(f' -> {target}')\n",
    "    print('GPT-3:')\n",
    "    print(calculate_similarity(words, target, model='gpt'))\n",
    "    print('------------------------------------------------------')\n",
    "    print('OPT:')\n",
    "    print(calculate_similarity(words, target, model='opt'))\n",
    "    print('------------------------------------------------------')"
   ]
  },
  {
   "cell_type": "markdown",
   "metadata": {},
   "source": [
    "I'm choosing to leave out a function where both A and B are vectors, as that is mostly helpful for phrase vectors we're not constucting ourselves - so I'll include it later if needed."
   ]
  },
  {
   "cell_type": "markdown",
   "metadata": {},
   "source": [
    "## Conduct Angle tests"
   ]
  },
  {
   "cell_type": "markdown",
   "metadata": {},
   "source": [
    "### A - Bachelors, Husbands, and Wives\n",
    "Words describing spousal relations."
   ]
  },
  {
   "cell_type": "code",
   "execution_count": 185,
   "metadata": {},
   "outputs": [
    {
     "name": "stdout",
     "output_type": "stream",
     "text": [
      "man, unmarried\n",
      "GPT-3:\n",
      "[('man', array([[0.96075165]])), ('unmarried', array([[0.96075165]])), ('mixture', array([[0.95492556]])), ('sort', array([[0.92664048]])), ('resident', array([[0.92474028]])), ('kitchen', array([[0.91976509]])), ('landscape', array([[0.91883643]])), ('occupy', array([[0.91856791]])), ('geography', array([[0.91596578]])), ('knit', array([[0.91542595]])), ('p.m.', array([[0.91415888]])), ('railroad', array([[0.91380011]]))]\n",
      "------------------------------------------------------\n",
      "OPT:\n",
      "[('man', array([[0.88599687]])), ('manner', array([[0.84875869]])), ('manage', array([[0.8198654]])), ('unmarried', array([[0.76266626]])), ('unfortunately', array([[0.73278264]])), ('unemployed', array([[0.73142168]])), ('boyfriend', array([[0.71435011]])), ('unlikely', array([[0.70675865]])), ('unlike', array([[0.69843259]])), ('woman', array([[0.6917361]])), ('mate', array([[0.68681759]])), ('unacceptable', array([[0.68536389]]))]\n",
      "------------------------------------------------------\n"
     ]
    }
   ],
   "source": [
    "define(['man', 'unmarried'])"
   ]
  },
  {
   "cell_type": "code",
   "execution_count": 186,
   "metadata": {},
   "outputs": [
    {
     "name": "stdout",
     "output_type": "stream",
     "text": [
      "man, married\n",
      "GPT-3:\n",
      "[('man', array([[0.96178941]])), ('married', array([[0.9617894]])), ('mixture', array([[0.95722058]])), ('palace', array([[0.92757294]])), ('tax', array([[0.92669628]])), ('earn', array([[0.92401706]])), ('package', array([[0.92374845]])), ('phase', array([[0.92117782]])), ('pupil', array([[0.92108494]])), ('ease', array([[0.91982054]])), ('cancel', array([[0.91770757]])), ('painful', array([[0.91756225]]))]\n",
      "------------------------------------------------------\n",
      "OPT:\n",
      "[('man', array([[0.86633847]])), ('manner', array([[0.83163956]])), ('manage', array([[0.81410604]])), ('married', array([[0.7982615]])), ('boyfriend', array([[0.74501651]])), ('mate', array([[0.71873402]])), ('yesterday', array([[0.69999539]])), ('woman', array([[0.697068]])), ('brother', array([[0.69481484]])), ('brothers', array([[0.69035788]])), ('girl', array([[0.68302403]])), ('yeah', array([[0.67783933]]))]\n",
      "------------------------------------------------------\n"
     ]
    }
   ],
   "source": [
    "define(['man', 'married'])"
   ]
  },
  {
   "cell_type": "code",
   "execution_count": 187,
   "metadata": {},
   "outputs": [
    {
     "name": "stdout",
     "output_type": "stream",
     "text": [
      "man, unmarried -> bachelor\n",
      "GPT-3:\n",
      "0.8694018001827069\n",
      "------------------------------------------------------\n",
      "OPT:\n",
      "0.41610598788816566\n",
      "------------------------------------------------------\n"
     ]
    }
   ],
   "source": [
    "sim_test(['man', 'unmarried'], 'bachelor')"
   ]
  },
  {
   "cell_type": "code",
   "execution_count": 188,
   "metadata": {},
   "outputs": [
    {
     "name": "stdout",
     "output_type": "stream",
     "text": [
      "man, married -> husband\n",
      "GPT-3:\n",
      "0.8948082387821381\n",
      "------------------------------------------------------\n",
      "OPT:\n",
      "0.6647823236771563\n",
      "------------------------------------------------------\n"
     ]
    }
   ],
   "source": [
    "sim_test(['man', 'married'], 'husband')"
   ]
  },
  {
   "cell_type": "code",
   "execution_count": 189,
   "metadata": {},
   "outputs": [
    {
     "name": "stdout",
     "output_type": "stream",
     "text": [
      "woman, married\n",
      "GPT-3:\n",
      "[('woman', array([[0.96390753]])), ('married', array([[0.96390753]])), ('pupil', array([[0.93324007]])), ('railroad', array([[0.92834275]])), ('disappointment', array([[0.92653557]])), ('cancel', array([[0.9251154]])), ('painful', array([[0.92502677]])), ('palace', array([[0.92372286]])), ('fetch', array([[0.92271516]])), ('faith', array([[0.92236675]])), ('running', array([[0.92115944]])), ('actor', array([[0.92062613]]))]\n",
      "------------------------------------------------------\n",
      "OPT:\n",
      "[('woman', array([[0.88587642]])), ('married', array([[0.82386254]])), ('daughter', array([[0.77974624]])), ('boyfriend', array([[0.76577424]])), ('girlfriend', array([[0.74751902]])), ('girl', array([[0.73701611]])), ('wife', array([[0.73488944]])), ('husband', array([[0.73301067]])), ('grandmother', array([[0.68714716]])), ('granddaughter', array([[0.68301617]])), ('children', array([[0.67936361]])), ('manner', array([[0.67808685]]))]\n",
      "------------------------------------------------------\n"
     ]
    }
   ],
   "source": [
    "define(['woman', 'married'])"
   ]
  },
  {
   "cell_type": "code",
   "execution_count": 190,
   "metadata": {},
   "outputs": [
    {
     "name": "stdout",
     "output_type": "stream",
     "text": [
      "woman, married -> wife\n",
      "GPT-3:\n",
      "0.8418697738514673\n",
      "------------------------------------------------------\n",
      "OPT:\n",
      "0.734889438201916\n",
      "------------------------------------------------------\n"
     ]
    }
   ],
   "source": [
    "sim_test(['woman', 'married'], 'wife')"
   ]
  },
  {
   "cell_type": "code",
   "execution_count": 191,
   "metadata": {},
   "outputs": [
    {
     "name": "stdout",
     "output_type": "stream",
     "text": [
      "woman, spouse\n",
      "GPT-3:\n",
      "[('spouse', array([[0.94943401]])), ('woman', array([[0.949434]])), ('width', array([[0.92651648]])), ('railroad', array([[0.91887132]])), ('painful', array([[0.91856077]])), ('faith', array([[0.91742113]])), ('cancel', array([[0.91710516]])), ('palace', array([[0.91570877]])), ('critical', array([[0.91506279]])), ('till', array([[0.91293668]])), ('lazy', array([[0.91244314]])), ('beside', array([[0.91200722]]))]\n",
      "------------------------------------------------------\n",
      "OPT:\n",
      "[('woman', array([[0.91228447]])), ('spouse', array([[0.78908906]])), ('boyfriend', array([[0.77552945]])), ('spouses', array([[0.77229732]])), ('daughter', array([[0.76964035]])), ('husband', array([[0.76885478]])), ('wife', array([[0.75410773]])), ('girlfriend', array([[0.74503148]])), ('girl', array([[0.74202005]])), ('moment', array([[0.70004672]])), ('manner', array([[0.69585122]])), ('guy', array([[0.69518836]]))]\n",
      "------------------------------------------------------\n"
     ]
    }
   ],
   "source": [
    "define(['woman', 'spouse'])"
   ]
  },
  {
   "cell_type": "code",
   "execution_count": 192,
   "metadata": {},
   "outputs": [
    {
     "name": "stdout",
     "output_type": "stream",
     "text": [
      "women, spouses\n",
      "GPT-3:\n",
      "[('spouses', array([[0.96412527]])), ('spring', array([[0.93702292]])), ('ear', array([[0.93473576]])), ('party', array([[0.93251428]])), ('ours', array([[0.92566306]])), ('brush', array([[0.92565899]])), ('painful', array([[0.92550278]])), ('various', array([[0.92221346]])), ('geography', array([[0.92187047]])), ('sisters', array([[0.92024253]])), ('access', array([[0.92019819]])), ('empire', array([[0.91934091]]))]\n",
      "------------------------------------------------------\n",
      "OPT:\n",
      "Tokens Requested:\n",
      "['</s>', 'women']\n",
      "[('spouses', array([[0.837883]])), ('children', array([[0.79607431]])), ('girls', array([[0.78910444]])), ('wives', array([[0.78439078]])), ('husbands', array([[0.73374251]])), ('woman', array([[0.73218368]])), ('boys', array([[0.7312016]])), ('people', array([[0.71320289]])), ('spouse', array([[0.70230903]])), ('daughter', array([[0.69744422]])), ('sheep', array([[0.69038891]])), ('himself', array([[0.68383807]]))]\n",
      "------------------------------------------------------\n"
     ]
    }
   ],
   "source": [
    "define(['women', 'spouses'])"
   ]
  },
  {
   "cell_type": "code",
   "execution_count": 193,
   "metadata": {},
   "outputs": [
    {
     "name": "stdout",
     "output_type": "stream",
     "text": [
      "woman, spouse -> wife\n",
      "GPT-3:\n",
      "0.8302057291267502\n",
      "------------------------------------------------------\n",
      "OPT:\n",
      "0.7541077283467653\n",
      "------------------------------------------------------\n"
     ]
    }
   ],
   "source": [
    "sim_test(['woman', 'spouse'], 'wife')"
   ]
  },
  {
   "cell_type": "code",
   "execution_count": 194,
   "metadata": {},
   "outputs": [
    {
     "name": "stdout",
     "output_type": "stream",
     "text": [
      "women, spouses -> wives\n",
      "GPT-3:\n",
      "0.8865878369668883\n",
      "------------------------------------------------------\n",
      "OPT:\n",
      "Tokens Requested:\n",
      "['</s>', 'women']\n",
      "0.7843907847361444\n",
      "------------------------------------------------------\n"
     ]
    }
   ],
   "source": [
    "sim_test(['women', 'spouses'], 'wives')"
   ]
  },
  {
   "cell_type": "code",
   "execution_count": 195,
   "metadata": {},
   "outputs": [
    {
     "name": "stdout",
     "output_type": "stream",
     "text": [
      "man, spouse\n",
      "GPT-3:\n",
      "[('mixture', array([[0.95253434]])), ('spouse', array([[0.94911784]])), ('man', array([[0.94911783]])), ('virtually', array([[0.9221998]])), ('silver', array([[0.91915238]])), ('information', array([[0.91893894]])), ('separate', array([[0.91803186]])), ('palace', array([[0.91785384]])), ('flavour', array([[0.91667311]])), ('till', array([[0.91661684]])), ('width', array([[0.9162023]])), ('occupy', array([[0.91355709]]))]\n",
      "------------------------------------------------------\n",
      "OPT:\n",
      "[('man', array([[0.89942324]])), ('manner', array([[0.85772565]])), ('manage', array([[0.81622573]])), ('spouse', array([[0.76242521]])), ('boyfriend', array([[0.74822593]])), ('spouses', array([[0.73851195]])), ('mate', array([[0.70810371]])), ('woman', array([[0.70309464]])), ('boy', array([[0.69514694]])), ('husband', array([[0.69127019]])), ('moment', array([[0.68736434]])), ('girl', array([[0.67885692]]))]\n",
      "------------------------------------------------------\n"
     ]
    }
   ],
   "source": [
    "define(['man', 'spouse'])"
   ]
  },
  {
   "cell_type": "code",
   "execution_count": 196,
   "metadata": {},
   "outputs": [
    {
     "name": "stdout",
     "output_type": "stream",
     "text": [
      "men, spouses\n",
      "GPT-3:\n",
      "[('spouses', array([[0.96002072]])), ('party', array([[0.93883412]])), ('box', array([[0.93116393]])), ('brush', array([[0.92933049]])), ('ours', array([[0.92874469]])), ('painful', array([[0.92799058]])), ('various', array([[0.92785933]])), ('fetch', array([[0.92750024]])), ('geography', array([[0.92634868]])), ('temporarily', array([[0.92598712]])), ('detailed', array([[0.92587874]])), ('faith', array([[0.92532543]]))]\n",
      "------------------------------------------------------\n",
      "OPT:\n",
      "Tokens Requested:\n",
      "['</s>', 'men']\n",
      "[('spouses', array([[0.84660808]])), ('spouse', array([[0.74563118]])), ('husbands', array([[0.73599219]])), ('boys', array([[0.73183862]])), ('wives', array([[0.71008121]])), ('girls', array([[0.70893027]])), ('children', array([[0.68173138]])), ('siblings', array([[0.67303802]])), ('daughters', array([[0.66850371]])), ('moment', array([[0.66378441]])), ('husband', array([[0.65396775]])), ('offspring', array([[0.65279736]]))]\n",
      "------------------------------------------------------\n"
     ]
    }
   ],
   "source": [
    "define(['men', 'spouses'])"
   ]
  },
  {
   "cell_type": "code",
   "execution_count": 197,
   "metadata": {},
   "outputs": [
    {
     "name": "stdout",
     "output_type": "stream",
     "text": [
      "male, spouse\n",
      "GPT-3:\n",
      "[('spouse', array([[0.94819066]])), ('male', array([[0.94819065]])), ('width', array([[0.92843548]])), ('p.m.', array([[0.92446656]])), ('railroad', array([[0.92237943]])), ('cancel', array([[0.92166726]])), ('faith', array([[0.92109198]])), ('running', array([[0.91976917]])), ('geography', array([[0.91698051]])), ('fetch', array([[0.91675896]])), ('painful', array([[0.91674291]])), ('detailed', array([[0.91596848]]))]\n",
      "------------------------------------------------------\n",
      "OPT:\n",
      "[('male', array([[0.87326338]])), ('female', array([[0.80014056]])), ('spouse', array([[0.77356672]])), ('spouses', array([[0.73729638]])), ('boyfriend', array([[0.67644408]])), ('wife', array([[0.65842795]])), ('husband', array([[0.6539461]])), ('daughter', array([[0.65338688]])), ('woman', array([[0.6446877]])), ('employee', array([[0.64211625]])), ('girlfriend', array([[0.64110653]])), ('girl', array([[0.63088405]]))]\n",
      "------------------------------------------------------\n"
     ]
    }
   ],
   "source": [
    "define(['male', 'spouse'])"
   ]
  },
  {
   "cell_type": "code",
   "execution_count": 198,
   "metadata": {},
   "outputs": [
    {
     "name": "stdout",
     "output_type": "stream",
     "text": [
      "male, spouses\n",
      "GPT-3:\n",
      "[('spouses', array([[0.95148224]])), ('male', array([[0.95148224]])), ('party', array([[0.9303511]])), ('geography', array([[0.92946202]])), ('fetch', array([[0.92698467]])), ('p.m.', array([[0.92653765]])), ('railroad', array([[0.92604905]])), ('running', array([[0.92502615]])), ('faith', array([[0.92343408]])), ('cancel', array([[0.92161899]])), ('painful', array([[0.92026344]])), ('ours', array([[0.92018114]]))]\n",
      "------------------------------------------------------\n",
      "OPT:\n",
      "[('male', array([[0.86333014]])), ('spouses', array([[0.79540057]])), ('female', array([[0.79339229]])), ('spouse', array([[0.73837002]])), ('husbands', array([[0.68592647]])), ('boyfriend', array([[0.68439661]])), ('daughter', array([[0.67251993]])), ('wives', array([[0.67086208]])), ('woman', array([[0.65861696]])), ('herself', array([[0.65802554]])), ('boys', array([[0.65589311]])), ('girls', array([[0.65273743]]))]\n",
      "------------------------------------------------------\n"
     ]
    }
   ],
   "source": [
    "define(['male', 'spouses'])"
   ]
  },
  {
   "cell_type": "code",
   "execution_count": 199,
   "metadata": {},
   "outputs": [
    {
     "name": "stdout",
     "output_type": "stream",
     "text": [
      "male, spouse -> husband\n",
      "GPT-3:\n",
      "0.8915628588982125\n",
      "------------------------------------------------------\n",
      "OPT:\n",
      "0.6539461025975769\n",
      "------------------------------------------------------\n"
     ]
    }
   ],
   "source": [
    "sim_test(['male', 'spouse'], 'husband')"
   ]
  },
  {
   "cell_type": "code",
   "execution_count": 200,
   "metadata": {},
   "outputs": [
    {
     "name": "stdout",
     "output_type": "stream",
     "text": [
      "male, spouses -> husbands\n",
      "GPT-3:\n",
      "0.8687174186239782\n",
      "------------------------------------------------------\n",
      "OPT:\n",
      "0.6859264736097604\n",
      "------------------------------------------------------\n"
     ]
    }
   ],
   "source": [
    "sim_test(['male', 'spouses'], 'husbands')"
   ]
  },
  {
   "cell_type": "code",
   "execution_count": 201,
   "metadata": {},
   "outputs": [
    {
     "name": "stdout",
     "output_type": "stream",
     "text": [
      "man, spouse -> husband\n",
      "GPT-3:\n",
      "0.8939715264899357\n",
      "------------------------------------------------------\n",
      "OPT:\n",
      "0.691270186406268\n",
      "------------------------------------------------------\n"
     ]
    }
   ],
   "source": [
    "sim_test(['man', 'spouse'], 'husband')"
   ]
  },
  {
   "cell_type": "code",
   "execution_count": 202,
   "metadata": {},
   "outputs": [
    {
     "name": "stdout",
     "output_type": "stream",
     "text": [
      "men, spouses -> husbands\n",
      "GPT-3:\n",
      "0.8658772325352551\n",
      "------------------------------------------------------\n",
      "OPT:\n",
      "Tokens Requested:\n",
      "['</s>', 'men']\n",
      "0.7359921873260872\n",
      "------------------------------------------------------\n"
     ]
    }
   ],
   "source": [
    "sim_test(['men', 'spouses'], 'husbands')"
   ]
  },
  {
   "cell_type": "markdown",
   "metadata": {},
   "source": [
    "### B - Brothers, sisters, and daughters\n",
    "Family words related to children."
   ]
  },
  {
   "cell_type": "markdown",
   "metadata": {},
   "source": [
    "* Male, sibling, brother."
   ]
  },
  {
   "cell_type": "code",
   "execution_count": 203,
   "metadata": {},
   "outputs": [
    {
     "name": "stdout",
     "output_type": "stream",
     "text": [
      "man, sibling\n",
      "GPT-3:\n",
      "[('sibling', array([[0.96017968]])), ('man', array([[0.96017968]])), ('mixture', array([[0.93901828]])), ('priority', array([[0.91530786]])), ('strip', array([[0.91235929]])), ('diary', array([[0.9096537]])), ('sheet', array([[0.9095486]])), ('infect', array([[0.90333015]])), ('use', array([[0.9018139]])), ('clean', array([[0.90094298]])), ('supply', array([[0.89903186]])), ('mile', array([[0.8990293]]))]\n",
      "------------------------------------------------------\n",
      "OPT:\n",
      "[('man', array([[0.89419924]])), ('manner', array([[0.85168694]])), ('manage', array([[0.80377161]])), ('siblings', array([[0.74284579]])), ('sibling', array([[0.72680261]])), ('suspect', array([[0.72540785]])), ('sister', array([[0.71889461]])), ('boyfriend', array([[0.712106]])), ('sadly', array([[0.71098774]])), ('sisters', array([[0.71072679]])), ('boy', array([[0.69644699]])), ('suddenly', array([[0.6834409]]))]\n",
      "------------------------------------------------------\n"
     ]
    }
   ],
   "source": [
    "define(['man', 'sibling'])"
   ]
  },
  {
   "cell_type": "code",
   "execution_count": 204,
   "metadata": {},
   "outputs": [
    {
     "name": "stdout",
     "output_type": "stream",
     "text": [
      "man, sibling -> brother\n",
      "GPT-3:\n",
      "0.8396088279513378\n",
      "------------------------------------------------------\n",
      "OPT:\n",
      "0.6679592762596386\n",
      "------------------------------------------------------\n"
     ]
    }
   ],
   "source": [
    "sim_test(['man', 'sibling'], 'brother')"
   ]
  },
  {
   "cell_type": "code",
   "execution_count": 205,
   "metadata": {},
   "outputs": [
    {
     "name": "stdout",
     "output_type": "stream",
     "text": [
      "men, siblings -> brothers\n",
      "GPT-3:\n",
      "0.8410352841652213\n",
      "------------------------------------------------------\n",
      "OPT:\n",
      "Tokens Requested:\n",
      "['</s>', 'men']\n",
      "0.6497953526607885\n",
      "------------------------------------------------------\n"
     ]
    }
   ],
   "source": [
    "sim_test(['men', 'siblings'], 'brothers')"
   ]
  },
  {
   "cell_type": "code",
   "execution_count": 206,
   "metadata": {},
   "outputs": [
    {
     "name": "stdout",
     "output_type": "stream",
     "text": [
      "boys, siblings\n",
      "GPT-3:\n",
      "[('siblings', array([[0.95944378]])), ('boys', array([[0.95944378]])), ('attach', array([[0.94378946]])), ('sufficiently', array([[0.94127007]])), ('painful', array([[0.9228015]])), ('palace', array([[0.92166]])), ('deeply', array([[0.91670334]])), ('lazy', array([[0.91661007]])), ('faith', array([[0.91613933]])), ('musician', array([[0.91588915]])), ('millimetre', array([[0.9156872]])), ('reach', array([[0.91548756]]))]\n",
      "------------------------------------------------------\n",
      "OPT:\n",
      "[('boys', array([[0.91449954]])), ('siblings', array([[0.87065827]])), ('girls', array([[0.83958621]])), ('sisters', array([[0.82475289]])), ('boyfriend', array([[0.7480489]])), ('brothers', array([[0.73731182]])), ('children', array([[0.72503196]])), ('wives', array([[0.72172919]])), ('husbands', array([[0.72062511]])), ('sister', array([[0.7067407]])), ('daughters', array([[0.70424283]])), ('singer', array([[0.69709095]]))]\n",
      "------------------------------------------------------\n"
     ]
    }
   ],
   "source": [
    "define(['boys', 'siblings'])"
   ]
  },
  {
   "cell_type": "code",
   "execution_count": 207,
   "metadata": {},
   "outputs": [
    {
     "name": "stdout",
     "output_type": "stream",
     "text": [
      "boy, sibling -> brother\n",
      "GPT-3:\n",
      "0.8409528303692209\n",
      "------------------------------------------------------\n",
      "OPT:\n",
      "0.6601419017511898\n",
      "------------------------------------------------------\n"
     ]
    }
   ],
   "source": [
    "sim_test(['boy', 'sibling'], 'brother')"
   ]
  },
  {
   "cell_type": "code",
   "execution_count": 208,
   "metadata": {},
   "outputs": [
    {
     "name": "stdout",
     "output_type": "stream",
     "text": [
      "boys, siblings -> brothers\n",
      "GPT-3:\n",
      "0.847101667333075\n",
      "------------------------------------------------------\n",
      "OPT:\n",
      "0.737311816255271\n",
      "------------------------------------------------------\n"
     ]
    }
   ],
   "source": [
    "sim_test(['boys', 'siblings'], 'brothers')"
   ]
  },
  {
   "cell_type": "code",
   "execution_count": 209,
   "metadata": {},
   "outputs": [
    {
     "name": "stdout",
     "output_type": "stream",
     "text": [
      "male, sibling\n",
      "GPT-3:\n",
      "[('sibling', array([[0.93807161]])), ('male', array([[0.93807161]])), ('running', array([[0.91181414]])), ('fetch', array([[0.9080858]])), ('railroad', array([[0.90697853]])), ('faith', array([[0.90686211]])), ('cancel', array([[0.90676692]])), ('geography', array([[0.90671527]])), ('promptly', array([[0.90480561]])), ('p.m.', array([[0.90445498]])), ('main', array([[0.90416444]])), ('affect', array([[0.90355422]]))]\n",
      "------------------------------------------------------\n",
      "OPT:\n",
      "[('male', array([[0.87198459]])), ('female', array([[0.79518543]])), ('sibling', array([[0.75141468]])), ('siblings', array([[0.70507791]])), ('sister', array([[0.67325145]])), ('suspect', array([[0.67135762]])), ('sisters', array([[0.66620635]])), ('silly', array([[0.64052713]])), ('sadly', array([[0.62848466]])), ('sensible', array([[0.6282936]])), ('boyfriend', array([[0.62764548]])), ('singer', array([[0.62542285]]))]\n",
      "------------------------------------------------------\n"
     ]
    }
   ],
   "source": [
    "define(['male', 'sibling'])"
   ]
  },
  {
   "cell_type": "code",
   "execution_count": 210,
   "metadata": {},
   "outputs": [
    {
     "name": "stdout",
     "output_type": "stream",
     "text": [
      "male, sibling -> brother\n",
      "GPT-3:\n",
      "0.8541904415388808\n",
      "------------------------------------------------------\n",
      "OPT:\n",
      "0.5604805400965658\n",
      "------------------------------------------------------\n"
     ]
    }
   ],
   "source": [
    "sim_test(['male', 'sibling'], 'brother')"
   ]
  },
  {
   "cell_type": "code",
   "execution_count": 211,
   "metadata": {},
   "outputs": [
    {
     "name": "stdout",
     "output_type": "stream",
     "text": [
      "male, siblings -> brothers\n",
      "GPT-3:\n",
      "0.831681511295733\n",
      "------------------------------------------------------\n",
      "OPT:\n",
      "0.6768129077329091\n",
      "------------------------------------------------------\n"
     ]
    }
   ],
   "source": [
    "sim_test(['male', 'siblings'], 'brothers')"
   ]
  },
  {
   "cell_type": "markdown",
   "metadata": {},
   "source": [
    "* Female, sibling, sister"
   ]
  },
  {
   "cell_type": "code",
   "execution_count": 212,
   "metadata": {},
   "outputs": [
    {
     "name": "stdout",
     "output_type": "stream",
     "text": [
      "female, sibling\n",
      "GPT-3:\n",
      "[('female', array([[0.94894142]])), ('sibling', array([[0.94894142]])), ('deep', array([[0.92549443]])), ('painful', array([[0.918009]])), ('cancel', array([[0.9160146]])), ('promptly', array([[0.91476622]])), ('palace', array([[0.91425834]])), ('affect', array([[0.91366803]])), ('primary', array([[0.9127056]])), ('running', array([[0.91260407]])), ('upset', array([[0.91226773]])), ('supply', array([[0.91106401]]))]\n",
      "------------------------------------------------------\n",
      "OPT:\n",
      "[('female', array([[0.86960456]])), ('male', array([[0.83729849]])), ('sibling', array([[0.72298015]])), ('siblings', array([[0.68569697]])), ('sister', array([[0.66188809]])), ('sisters', array([[0.64652272]])), ('silly', array([[0.64212161]])), ('suspect', array([[0.63803801]])), ('sadly', array([[0.63451318]])), ('daughter', array([[0.62384798]])), ('girl', array([[0.62339667]])), ('boyfriend', array([[0.61938215]]))]\n",
      "------------------------------------------------------\n"
     ]
    }
   ],
   "source": [
    "define(['female', 'sibling'])"
   ]
  },
  {
   "cell_type": "code",
   "execution_count": 213,
   "metadata": {},
   "outputs": [
    {
     "name": "stdout",
     "output_type": "stream",
     "text": [
      "female, siblings\n",
      "GPT-3:\n",
      "[('siblings', array([[0.96418032]])), ('female', array([[0.96418032]])), ('attach', array([[0.94840848]])), ('deep', array([[0.94007258]])), ('painful', array([[0.9375789]])), ('cancel', array([[0.93415229]])), ('palace', array([[0.93217046]])), ('automatic', array([[0.92539383]])), ('reach', array([[0.92490965]])), ('critical', array([[0.92458128]])), ('running', array([[0.92398693]])), ('p.m.', array([[0.92317658]]))]\n",
      "------------------------------------------------------\n",
      "OPT:\n",
      "[('female', array([[0.84995164]])), ('male', array([[0.81778721]])), ('siblings', array([[0.77870285]])), ('sisters', array([[0.70990269]])), ('daughter', array([[0.70557974]])), ('girls', array([[0.6888967]])), ('boyfriend', array([[0.68582654]])), ('brothers', array([[0.6847739]])), ('sadly', array([[0.67738579]])), ('sibling', array([[0.67508822]])), ('herself', array([[0.67210598]])), ('sister', array([[0.67026154]]))]\n",
      "------------------------------------------------------\n"
     ]
    }
   ],
   "source": [
    "define(['female', 'siblings'])"
   ]
  },
  {
   "cell_type": "code",
   "execution_count": 214,
   "metadata": {},
   "outputs": [
    {
     "name": "stdout",
     "output_type": "stream",
     "text": [
      "female, sibling -> sister\n",
      "GPT-3:\n",
      "0.8577400040210704\n",
      "------------------------------------------------------\n",
      "OPT:\n",
      "0.6618880883028158\n",
      "------------------------------------------------------\n"
     ]
    }
   ],
   "source": [
    "sim_test(['female', 'sibling'], 'sister')"
   ]
  },
  {
   "cell_type": "code",
   "execution_count": 215,
   "metadata": {},
   "outputs": [
    {
     "name": "stdout",
     "output_type": "stream",
     "text": [
      "female, siblings -> sisters\n",
      "GPT-3:\n",
      "0.8599560310184233\n",
      "------------------------------------------------------\n",
      "OPT:\n",
      "0.7099026930323483\n",
      "------------------------------------------------------\n"
     ]
    }
   ],
   "source": [
    "sim_test(['female', 'siblings'], 'sisters')"
   ]
  },
  {
   "cell_type": "code",
   "execution_count": 216,
   "metadata": {},
   "outputs": [
    {
     "name": "stdout",
     "output_type": "stream",
     "text": [
      "woman, sibling\n",
      "GPT-3:\n",
      "[('sibling', array([[0.95074864]])), ('woman', array([[0.95074863]])), ('use', array([[0.90781291]])), ('criticize', array([[0.90627842]])), ('disappointment', array([[0.90514363]])), ('convention', array([[0.90302389]])), ('supply', array([[0.90275653]])), ('promptly', array([[0.90171579]])), ('affect', array([[0.90120201]])), ('writing', array([[0.89982994]])), ('initially', array([[0.89950243]])), ('sight', array([[0.89904202]]))]\n",
      "------------------------------------------------------\n",
      "OPT:\n",
      "[('woman', array([[0.89587637]])), ('boyfriend', array([[0.75847323]])), ('siblings', array([[0.75766839]])), ('daughter', array([[0.75735476]])), ('girl', array([[0.74797687]])), ('sibling', array([[0.72322071]])), ('husband', array([[0.7106164]])), ('sisters', array([[0.70624838]])), ('sister', array([[0.70586254]])), ('girlfriend', array([[0.70511143]])), ('manner', array([[0.70042037]])), ('guy', array([[0.68955852]]))]\n",
      "------------------------------------------------------\n"
     ]
    }
   ],
   "source": [
    "define(['woman', 'sibling'])"
   ]
  },
  {
   "cell_type": "code",
   "execution_count": 217,
   "metadata": {},
   "outputs": [
    {
     "name": "stdout",
     "output_type": "stream",
     "text": [
      "women, siblings\n",
      "GPT-3:\n",
      "[('siblings', array([[0.96022151]])), ('spring', array([[0.94392774]])), ('attach', array([[0.94335247]])), ('ear', array([[0.93385946]])), ('painful', array([[0.92785258]])), ('palace', array([[0.92506742]])), ('project', array([[0.92327227]])), ('detailed', array([[0.92300329]])), ('empire', array([[0.92207786]])), ('cancel', array([[0.92117149]])), ('lazy', array([[0.92042697]])), ('south', array([[0.91886338]]))]\n",
      "------------------------------------------------------\n",
      "OPT:\n",
      "Tokens Requested:\n",
      "['</s>', 'women']\n",
      "[('siblings', array([[0.82980536]])), ('girls', array([[0.81353281]])), ('children', array([[0.80043451]])), ('boys', array([[0.7607112]])), ('wives', array([[0.75463091]])), ('sisters', array([[0.75351682]])), ('woman', array([[0.7243997]])), ('daughter', array([[0.72020618]])), ('husbands', array([[0.7161681]])), ('people', array([[0.69913829]])), ('boyfriend', array([[0.69245769]])), ('spouses', array([[0.69183881]]))]\n",
      "------------------------------------------------------\n"
     ]
    }
   ],
   "source": [
    "define(['women', 'siblings'])"
   ]
  },
  {
   "cell_type": "code",
   "execution_count": 218,
   "metadata": {},
   "outputs": [
    {
     "name": "stdout",
     "output_type": "stream",
     "text": [
      "woman, sibling -> sister\n",
      "GPT-3:\n",
      "0.8481172800513743\n",
      "------------------------------------------------------\n",
      "OPT:\n",
      "0.7058625376889611\n",
      "------------------------------------------------------\n"
     ]
    }
   ],
   "source": [
    "sim_test(['woman', 'sibling'], 'sister')"
   ]
  },
  {
   "cell_type": "code",
   "execution_count": 219,
   "metadata": {},
   "outputs": [
    {
     "name": "stdout",
     "output_type": "stream",
     "text": [
      "women, siblings -> sisters\n",
      "GPT-3:\n",
      "0.8795312896585115\n",
      "------------------------------------------------------\n",
      "OPT:\n",
      "Tokens Requested:\n",
      "['</s>', 'women']\n",
      "0.7535168206827803\n",
      "------------------------------------------------------\n"
     ]
    }
   ],
   "source": [
    "sim_test(['women', 'siblings'], 'sisters')"
   ]
  },
  {
   "cell_type": "code",
   "execution_count": 220,
   "metadata": {},
   "outputs": [
    {
     "name": "stdout",
     "output_type": "stream",
     "text": [
      "girl, sibling\n",
      "GPT-3:\n",
      "[('girl', array([[0.9459775]])), ('sibling', array([[0.94597749]])), ('window', array([[0.91540565]])), ('use', array([[0.91085134]])), ('primary', array([[0.90949964]])), ('unfortunately', array([[0.90856722]])), ('sight', array([[0.90597707]])), ('supply', array([[0.90581062]])), ('novel', array([[0.90564322]])), ('impressed', array([[0.90547067]])), ('convention', array([[0.90505321]])), ('end', array([[0.90493376]]))]\n",
      "------------------------------------------------------\n",
      "OPT:\n",
      "[('girl', array([[0.88919549]])), ('boyfriend', array([[0.7888657]])), ('sibling', array([[0.7615359]])), ('siblings', array([[0.75971009]])), ('sister', array([[0.75658656]])), ('boy', array([[0.74645393]])), ('sisters', array([[0.73892425]])), ('boys', array([[0.73056955]])), ('girls', array([[0.71688293]])), ('guy', array([[0.71393727]])), ('woman', array([[0.71070014]])), ('daughter', array([[0.70900997]]))]\n",
      "------------------------------------------------------\n"
     ]
    }
   ],
   "source": [
    "define(['girl', 'sibling'])"
   ]
  },
  {
   "cell_type": "code",
   "execution_count": 221,
   "metadata": {},
   "outputs": [
    {
     "name": "stdout",
     "output_type": "stream",
     "text": [
      "girl, siblings\n",
      "GPT-3:\n",
      "[('girl', array([[0.95943611]])), ('siblings', array([[0.9594361]])), ('attach', array([[0.94210448]])), ('window', array([[0.93377698]])), ('painful', array([[0.92442016]])), ('instead', array([[0.92411282]])), ('palace', array([[0.92192259]])), ('confront', array([[0.92050739]])), ('essentially', array([[0.92033357]])), ('lazy', array([[0.9194402]])), ('religious', array([[0.91651251]])), ('novel', array([[0.91625012]]))]\n",
      "------------------------------------------------------\n",
      "OPT:\n",
      "[('girl', array([[0.88526684]])), ('siblings', array([[0.82802366]])), ('boyfriend', array([[0.82448777]])), ('boys', array([[0.78791937]])), ('girls', array([[0.77979248]])), ('sisters', array([[0.77827186]])), ('daughter', array([[0.76678805]])), ('boy', array([[0.75019388]])), ('sister', array([[0.74346141]])), ('woman', array([[0.74186804]])), ('girlfriend', array([[0.7392184]])), ('brothers', array([[0.73762833]]))]\n",
      "------------------------------------------------------\n"
     ]
    }
   ],
   "source": [
    "define(['girl', 'siblings'])"
   ]
  },
  {
   "cell_type": "code",
   "execution_count": 222,
   "metadata": {},
   "outputs": [
    {
     "name": "stdout",
     "output_type": "stream",
     "text": [
      "girl, sibling -> sister\n",
      "GPT-3:\n",
      "0.8665039544669283\n",
      "------------------------------------------------------\n",
      "OPT:\n",
      "0.7565865573462401\n",
      "------------------------------------------------------\n"
     ]
    }
   ],
   "source": [
    "sim_test(['girl', 'sibling'], 'sister')"
   ]
  },
  {
   "cell_type": "code",
   "execution_count": 223,
   "metadata": {},
   "outputs": [
    {
     "name": "stdout",
     "output_type": "stream",
     "text": [
      "girls, siblings -> sisters\n",
      "GPT-3:\n",
      "0.8587090827138641\n",
      "------------------------------------------------------\n",
      "OPT:\n",
      "0.819369708249551\n",
      "------------------------------------------------------\n"
     ]
    }
   ],
   "source": [
    "sim_test(['girls', 'siblings'], 'sisters')"
   ]
  },
  {
   "cell_type": "markdown",
   "metadata": {},
   "source": [
    "* Female, children, daughter"
   ]
  },
  {
   "cell_type": "code",
   "execution_count": 224,
   "metadata": {},
   "outputs": [
    {
     "name": "stdout",
     "output_type": "stream",
     "text": [
      "girl, children\n",
      "GPT-3:\n",
      "[('children', array([[0.94094108]])), ('girl', array([[0.94094108]])), ('uncle', array([[0.91653626]])), ('adopt', array([[0.91585119]])), ('window', array([[0.91493453]])), ('star', array([[0.91407403]])), ('they', array([[0.91147709]])), ('bake', array([[0.90771697]])), ('palace', array([[0.9073263]])), ('painful', array([[0.90538119]])), ('traveller', array([[0.90279068]])), ('confront', array([[0.90249859]]))]\n",
      "------------------------------------------------------\n",
      "OPT:\n",
      "[('children', array([[0.90536403]])), ('girl', array([[0.87788343]])), ('girls', array([[0.82511924]])), ('boyfriend', array([[0.82508051]])), ('boys', array([[0.81460421]])), ('daughter', array([[0.81100345]])), ('woman', array([[0.79871315]])), ('girlfriend', array([[0.7501949]])), ('boy', array([[0.73805745]])), ('guy', array([[0.7102405]])), ('brothers', array([[0.70649786]])), ('himself', array([[0.68645132]]))]\n",
      "------------------------------------------------------\n"
     ]
    }
   ],
   "source": [
    "define(['girl', 'children'])"
   ]
  },
  {
   "cell_type": "code",
   "execution_count": 225,
   "metadata": {},
   "outputs": [
    {
     "name": "stdout",
     "output_type": "stream",
     "text": [
      "woman, children\n",
      "GPT-3:\n",
      "[('children', array([[0.9370872]])), ('woman', array([[0.93708719]])), ('adopt', array([[0.91614025]])), ('star', array([[0.9148706]])), ('uncle', array([[0.91383739]])), ('they', array([[0.91332712]])), ('palace', array([[0.91010612]])), ('environmental', array([[0.90185463]])), ('disappointment', array([[0.90089292]])), ('bake', array([[0.90038313]])), ('painful', array([[0.89864822]])), ('cancel', array([[0.89739831]]))]\n",
      "------------------------------------------------------\n",
      "OPT:\n",
      "[('children', array([[0.91337232]])), ('woman', array([[0.90825248]])), ('daughter', array([[0.81887212]])), ('boyfriend', array([[0.77666656]])), ('girl', array([[0.7477719]])), ('girls', array([[0.74721739]])), ('girlfriend', array([[0.73548311]])), ('boys', array([[0.73020051]])), ('sheep', array([[0.71167462]])), ('himself', array([[0.70014884]])), ('people', array([[0.69824698]])), ('wives', array([[0.69449494]]))]\n",
      "------------------------------------------------------\n"
     ]
    }
   ],
   "source": [
    "define(['woman', 'children'])"
   ]
  },
  {
   "cell_type": "code",
   "execution_count": 226,
   "metadata": {},
   "outputs": [
    {
     "name": "stdout",
     "output_type": "stream",
     "text": [
      "female, children\n",
      "GPT-3:\n",
      "[('children', array([[0.94857671]])), ('female', array([[0.9485767]])), ('deep', array([[0.92573277]])), ('uncle', array([[0.91951944]])), ('adopt', array([[0.91738473]])), ('painful', array([[0.91609185]])), ('star', array([[0.91604889]])), ('palace', array([[0.91505008]])), ('particularly', array([[0.9142275]])), ('environmental', array([[0.91276548]])), ('bake', array([[0.91231643]])), ('they', array([[0.91155265]]))]\n",
      "------------------------------------------------------\n",
      "OPT:\n",
      "[('children', array([[0.87996103]])), ('female', array([[0.84014377]])), ('male', array([[0.80123607]])), ('daughter', array([[0.75877657]])), ('girls', array([[0.74866693]])), ('woman', array([[0.72263096]])), ('boys', array([[0.71128611]])), ('boyfriend', array([[0.7075634]])), ('ourselves', array([[0.70732907]])), ('themselves', array([[0.70521577]])), ('herself', array([[0.68938328]])), ('yourself', array([[0.68817425]]))]\n",
      "------------------------------------------------------\n"
     ]
    }
   ],
   "source": [
    "define(['female', 'children'])"
   ]
  },
  {
   "cell_type": "code",
   "execution_count": 227,
   "metadata": {},
   "outputs": [
    {
     "name": "stdout",
     "output_type": "stream",
     "text": [
      "girl, chidren -> daughter\n",
      "GPT-3:\n",
      "0.8401352909477144\n",
      "------------------------------------------------------\n",
      "OPT:\n",
      "Tokens Requested:\n",
      "['</s>', 'chid', 'ren']\n",
      "0.7325265578442671\n",
      "------------------------------------------------------\n"
     ]
    }
   ],
   "source": [
    "sim_test(['girl', 'chidren'], 'daughter')"
   ]
  },
  {
   "cell_type": "code",
   "execution_count": 228,
   "metadata": {},
   "outputs": [
    {
     "name": "stdout",
     "output_type": "stream",
     "text": [
      "woman, children -> daughter\n",
      "GPT-3:\n",
      "0.8420301527910762\n",
      "------------------------------------------------------\n",
      "OPT:\n",
      "0.8188721245126398\n",
      "------------------------------------------------------\n"
     ]
    }
   ],
   "source": [
    "sim_test(['woman', 'children'], 'daughter')"
   ]
  },
  {
   "cell_type": "code",
   "execution_count": 229,
   "metadata": {},
   "outputs": [
    {
     "name": "stdout",
     "output_type": "stream",
     "text": [
      "female, children -> daughter\n",
      "GPT-3:\n",
      "0.8445875597374192\n",
      "------------------------------------------------------\n",
      "OPT:\n",
      "0.7587765659774348\n",
      "------------------------------------------------------\n"
     ]
    }
   ],
   "source": [
    "sim_test(['female', 'children'], 'daughter')"
   ]
  },
  {
   "cell_type": "code",
   "execution_count": 230,
   "metadata": {},
   "outputs": [
    {
     "name": "stdout",
     "output_type": "stream",
     "text": [
      "female, offspring\n",
      "GPT-3:\n",
      "[('offspring', array([[0.9552243]])), ('female', array([[0.95522429]])), ('international', array([[0.95321031]])), ('deep', array([[0.93202035]])), ('painful', array([[0.92778771]])), ('suited', array([[0.92689145]])), ('married', array([[0.92329431]])), ('cancel', array([[0.92124075]])), ('palace', array([[0.92106429]])), ('running', array([[0.92046663]])), ('south', array([[0.91710052]])), ('faith', array([[0.91676896]]))]\n",
      "------------------------------------------------------\n",
      "OPT:\n",
      "[('female', array([[0.87692438]])), ('male', array([[0.84060205]])), ('offspring', array([[0.8110481]])), ('offence', array([[0.70519822]])), ('offense', array([[0.7004269]])), ('yourself', array([[0.68977235]])), ('engineer', array([[0.68897642]])), ('herself', array([[0.68803341]])), ('offsprings', array([[0.68038262]])), ('daughter', array([[0.67888336]])), ('characteristic', array([[0.67719783]])), ('theater', array([[0.67619683]]))]\n",
      "------------------------------------------------------\n"
     ]
    }
   ],
   "source": [
    "define(['female', 'offspring'])"
   ]
  },
  {
   "cell_type": "code",
   "execution_count": 231,
   "metadata": {},
   "outputs": [
    {
     "name": "stdout",
     "output_type": "stream",
     "text": [
      "female, offsprings\n",
      "GPT-3:\n",
      "[('offsprings', array([[0.95897397]])), ('female', array([[0.95897397]])), ('painful', array([[0.94093495]])), ('deep', array([[0.93769553]])), ('cancel', array([[0.9321885]])), ('sir', array([[0.92848834]])), ('p.m.', array([[0.92823463]])), ('geography', array([[0.92542417]])), ('faith', array([[0.92316683]])), ('reach', array([[0.92267821]])), ('detailed', array([[0.9222622]])), ('running', array([[0.92177646]]))]\n",
      "------------------------------------------------------\n",
      "OPT:\n",
      "[('female', array([[0.87725824]])), ('male', array([[0.83706846]])), ('offspring', array([[0.75311841]])), ('offsprings', array([[0.74021413]])), ('yourself', array([[0.67846745]])), ('herself', array([[0.67311358]])), ('offence', array([[0.66997113]])), ('engineer', array([[0.66761057]])), ('offense', array([[0.66697159]])), ('theater', array([[0.66098366]])), ('upsetting', array([[0.65994977]])), ('ourselves', array([[0.65955305]]))]\n",
      "------------------------------------------------------\n"
     ]
    }
   ],
   "source": [
    "define(['female', 'offsprings'])"
   ]
  },
  {
   "cell_type": "code",
   "execution_count": 232,
   "metadata": {},
   "outputs": [
    {
     "name": "stdout",
     "output_type": "stream",
     "text": [
      "female, offspring -> daughter\n",
      "GPT-3:\n",
      "0.8677396355942211\n",
      "------------------------------------------------------\n",
      "OPT:\n",
      "0.678883357606557\n",
      "------------------------------------------------------\n"
     ]
    }
   ],
   "source": [
    "sim_test(['female', 'offspring'], 'daughter')"
   ]
  },
  {
   "cell_type": "code",
   "execution_count": 233,
   "metadata": {},
   "outputs": [
    {
     "name": "stdout",
     "output_type": "stream",
     "text": [
      "female, offsprings -> daughters\n",
      "GPT-3:\n",
      "0.8918549073463923\n",
      "------------------------------------------------------\n",
      "OPT:\n",
      "0.5291348186725898\n",
      "------------------------------------------------------\n"
     ]
    }
   ],
   "source": [
    "sim_test(['female', 'offsprings'], 'daughters')"
   ]
  },
  {
   "cell_type": "code",
   "execution_count": 234,
   "metadata": {},
   "outputs": [
    {
     "name": "stdout",
     "output_type": "stream",
     "text": [
      "woman, offspring\n",
      "GPT-3:\n",
      "[('offspring', array([[0.95358454]])), ('woman', array([[0.95358453]])), ('international', array([[0.94209221]])), ('suited', array([[0.91873119]])), ('married', array([[0.91066208]])), ('disappointment', array([[0.90805711]])), ('movie', array([[0.90690083]])), ('palace', array([[0.90676449]])), ('south', array([[0.90427567]])), ('insert', array([[0.90362966]])), ('actor', array([[0.90271004]])), ('faith', array([[0.90241922]]))]\n",
      "------------------------------------------------------\n",
      "OPT:\n",
      "[('woman', array([[0.91045006]])), ('offspring', array([[0.82900441]])), ('daughter', array([[0.78466042]])), ('boyfriend', array([[0.78027761]])), ('girl', array([[0.74647449]])), ('sheep', array([[0.73401525]])), ('girlfriend', array([[0.73270331]])), ('manner', array([[0.73088709]])), ('children', array([[0.72963593]])), ('husband', array([[0.7147413]])), ('moment', array([[0.70754416]])), ('grandmother', array([[0.70515811]]))]\n",
      "------------------------------------------------------\n"
     ]
    }
   ],
   "source": [
    "define(['woman', 'offspring'])"
   ]
  },
  {
   "cell_type": "code",
   "execution_count": 235,
   "metadata": {},
   "outputs": [
    {
     "name": "stdout",
     "output_type": "stream",
     "text": [
      "woman, offsprings\n",
      "GPT-3:\n",
      "[('offsprings', array([[0.95075304]])), ('woman', array([[0.95075303]])), ('sir', array([[0.92102418]])), ('painful', array([[0.92080745]])), ('railroad', array([[0.91733202]])), ('cancel', array([[0.91730146]])), ('geography', array([[0.91642609]])), ('disappointment', array([[0.9160576]])), ('faith', array([[0.91517561]])), ('fetch', array([[0.91495424]])), ('remarkably', array([[0.9145772]])), ('p.m.', array([[0.91418087]]))]\n",
      "------------------------------------------------------\n",
      "OPT:\n",
      "[('woman', array([[0.90820128]])), ('offspring', array([[0.78036752]])), ('boyfriend', array([[0.76019013]])), ('daughter', array([[0.7601111]])), ('offsprings', array([[0.75886107]])), ('girl', array([[0.73544182]])), ('manner', array([[0.72162578]])), ('girlfriend', array([[0.71212304]])), ('sheep', array([[0.71041533]])), ('children', array([[0.69923521]])), ('husband', array([[0.6961577]])), ('moment', array([[0.69528562]]))]\n",
      "------------------------------------------------------\n"
     ]
    }
   ],
   "source": [
    "define(['woman', 'offsprings'])"
   ]
  },
  {
   "cell_type": "code",
   "execution_count": 236,
   "metadata": {},
   "outputs": [
    {
     "name": "stdout",
     "output_type": "stream",
     "text": [
      "woman, offspring -> daughter\n",
      "GPT-3:\n",
      "0.8565423896407167\n",
      "------------------------------------------------------\n",
      "OPT:\n",
      "0.7846604170325195\n",
      "------------------------------------------------------\n"
     ]
    }
   ],
   "source": [
    "sim_test(['woman', 'offspring'], 'daughter')"
   ]
  },
  {
   "cell_type": "code",
   "execution_count": 237,
   "metadata": {},
   "outputs": [
    {
     "name": "stdout",
     "output_type": "stream",
     "text": [
      "women, offsprings -> daughters\n",
      "GPT-3:\n",
      "0.8878329752833398\n",
      "------------------------------------------------------\n",
      "OPT:\n",
      "Tokens Requested:\n",
      "['</s>', 'women']\n",
      "0.6137858841638983\n",
      "------------------------------------------------------\n"
     ]
    }
   ],
   "source": [
    "sim_test(['women', 'offsprings'], 'daughters')"
   ]
  },
  {
   "cell_type": "markdown",
   "metadata": {},
   "source": [
    "### C - Animals, diminutives, and augmentatives!\n",
    "Is a baby duck a duckling?"
   ]
  },
  {
   "cell_type": "code",
   "execution_count": 238,
   "metadata": {},
   "outputs": [
    {
     "name": "stdout",
     "output_type": "stream",
     "text": [
      "baby, duck\n",
      "GPT-3:\n",
      "[('duck', array([[0.95701729]])), ('baby', array([[0.95701729]])), ('fetch', array([[0.94558363]])), ('p.m.', array([[0.94479164]])), ('faith', array([[0.94428225]])), ('painful', array([[0.9392233]])), ('geography', array([[0.93803537]])), ('musician', array([[0.93739275]])), ('railroad', array([[0.93677627]])), ('cancel', array([[0.93586957]])), ('service', array([[0.93541335]])), ('girlfriend', array([[0.93453179]]))]\n",
      "------------------------------------------------------\n",
      "OPT:\n",
      "[('baby', array([[0.8944635]])), ('duckling', array([[0.82070828]])), ('duck', array([[0.73324031]])), ('dull', array([[0.63670497]])), ('boyfriend', array([[0.63140144]])), ('dog', array([[0.6271043]])), ('grandchild', array([[0.60557158]])), ('brother', array([[0.60462366]])), ('manner', array([[0.59863398]])), ('boy', array([[0.59857614]])), ('gentleman', array([[0.59816138]])), ('brothers', array([[0.59461311]]))]\n",
      "------------------------------------------------------\n"
     ]
    }
   ],
   "source": [
    "define(['baby', 'duck'])"
   ]
  },
  {
   "cell_type": "code",
   "execution_count": 239,
   "metadata": {},
   "outputs": [
    {
     "name": "stdout",
     "output_type": "stream",
     "text": [
      "baby, duck -> duckling\n",
      "GPT-3:\n",
      "0.897308247851017\n",
      "------------------------------------------------------\n",
      "OPT:\n",
      "0.8207082787645852\n",
      "------------------------------------------------------\n"
     ]
    }
   ],
   "source": [
    "sim_test(['baby', 'duck'], 'duckling')"
   ]
  },
  {
   "cell_type": "code",
   "execution_count": 240,
   "metadata": {},
   "outputs": [
    {
     "name": "stdout",
     "output_type": "stream",
     "text": [
      "small, duck\n",
      "GPT-3:\n",
      "[('duck', array([[0.9450144]])), ('small', array([[0.94501439]])), ('sir', array([[0.92546081]])), ('painful', array([[0.92234558]])), ('nervous', array([[0.91944586]])), ('faith', array([[0.91931763]])), ('tidy', array([[0.91709425]])), ('fold', array([[0.91632713]])), ('cancel', array([[0.91627355]])), ('actor', array([[0.91604444]])), ('true', array([[0.9158778]])), ('prize', array([[0.91558175]]))]\n",
      "------------------------------------------------------\n",
      "OPT:\n",
      "[('small', array([[0.88045688]])), ('tiny', array([[0.75464504]])), ('large', array([[0.74117972]])), ('duckling', array([[0.74019656]])), ('duck', array([[0.67832458]])), ('dull', array([[0.67627452]])), ('big', array([[0.66218972]])), ('medium', array([[0.64528117]])), ('huge', array([[0.64096338]])), ('largely', array([[0.64061875]])), ('massive', array([[0.62553514]])), ('enormous', array([[0.61891381]]))]\n",
      "------------------------------------------------------\n"
     ]
    }
   ],
   "source": [
    "define(['small', 'duck'])"
   ]
  },
  {
   "cell_type": "code",
   "execution_count": 241,
   "metadata": {},
   "outputs": [
    {
     "name": "stdout",
     "output_type": "stream",
     "text": [
      "small, duck -> duckling\n",
      "GPT-3:\n",
      "0.882054549998347\n",
      "------------------------------------------------------\n",
      "OPT:\n",
      "0.7401965589597839\n",
      "------------------------------------------------------\n"
     ]
    }
   ],
   "source": [
    "sim_test(['small', 'duck'], 'duckling')"
   ]
  },
  {
   "cell_type": "code",
   "execution_count": 242,
   "metadata": {},
   "outputs": [
    {
     "name": "stdout",
     "output_type": "stream",
     "text": [
      "little, duck\n",
      "GPT-3:\n",
      "[('duck', array([[0.95614679]])), ('little', array([[0.95614679]])), ('uncomfortable', array([[0.94179995]])), ('permit', array([[0.92754926]])), ('fetch', array([[0.92190154]])), ('faith', array([[0.92148741]])), ('painful', array([[0.92067581]])), ('railroad', array([[0.91942785]])), ('palace', array([[0.91902756]])), ('cancel', array([[0.91844589]])), ('tidy', array([[0.91806266]])), ('separately', array([[0.91772735]]))]\n",
      "------------------------------------------------------\n",
      "OPT:\n",
      "[('little', array([[0.87876319]])), ('duckling', array([[0.72971186]])), ('duck', array([[0.68317835]])), ('tiny', array([[0.68098247]])), ('dull', array([[0.63744482]])), ('small', array([[0.59295361]])), ('big', array([[0.58550272]])), ('cheerful', array([[0.56135181]])), ('supermarket', array([[0.54468194]])), ('mysterious', array([[0.54396742]])), ('ugly', array([[0.54304636]])), ('quiet', array([[0.54301485]]))]\n",
      "------------------------------------------------------\n"
     ]
    }
   ],
   "source": [
    "define(['little', 'duck'])"
   ]
  },
  {
   "cell_type": "code",
   "execution_count": 243,
   "metadata": {},
   "outputs": [
    {
     "name": "stdout",
     "output_type": "stream",
     "text": [
      "little, duck -> duckling\n",
      "GPT-3:\n",
      "0.8837072469577396\n",
      "------------------------------------------------------\n",
      "OPT:\n",
      "0.7297118572340415\n",
      "------------------------------------------------------\n"
     ]
    }
   ],
   "source": [
    "sim_test(['little', 'duck'], 'duckling')"
   ]
  },
  {
   "cell_type": "code",
   "execution_count": 244,
   "metadata": {},
   "outputs": [
    {
     "name": "stdout",
     "output_type": "stream",
     "text": [
      "child, duck\n",
      "GPT-3:\n",
      "[('duck', array([[0.95391393]])), ('child', array([[0.95391393]])), ('permit', array([[0.92738942]])), ('painful', array([[0.92647701]])), ('dollar', array([[0.92209303]])), ('faith', array([[0.92097938]])), ('traveller', array([[0.91975183]])), ('tip', array([[0.91944645]])), ('tidy', array([[0.91866874]])), ('musician', array([[0.91796413]])), ('lecture', array([[0.91770484]])), ('sensitive', array([[0.91765714]]))]\n",
      "------------------------------------------------------\n",
      "OPT:\n",
      "[('child', array([[0.88113026]])), ('duckling', array([[0.76597676]])), ('duck', array([[0.7302207]])), ('grandchild', array([[0.66464533]])), ('dog', array([[0.64402397]])), ('kid', array([[0.62809922]])), ('dull', array([[0.61413976]])), ('children', array([[0.60097775]])), ('horse', array([[0.60066857]])), ('bird', array([[0.59539006]])), ('daughter', array([[0.59424374]])), ('boyfriend', array([[0.59198555]]))]\n",
      "------------------------------------------------------\n"
     ]
    }
   ],
   "source": [
    "define(['child', 'duck'])"
   ]
  },
  {
   "cell_type": "code",
   "execution_count": 245,
   "metadata": {},
   "outputs": [
    {
     "name": "stdout",
     "output_type": "stream",
     "text": [
      "child, duck -> duckling\n",
      "GPT-3:\n",
      "0.8923464670576384\n",
      "------------------------------------------------------\n",
      "OPT:\n",
      "0.7659767552101429\n",
      "------------------------------------------------------\n"
     ]
    }
   ],
   "source": [
    "sim_test(['child', 'duck'], 'duckling')"
   ]
  },
  {
   "cell_type": "code",
   "execution_count": 246,
   "metadata": {},
   "outputs": [
    {
     "name": "stdout",
     "output_type": "stream",
     "text": [
      "small, cat\n",
      "GPT-3:\n",
      "[('cat', array([[0.95670576]])), ('small', array([[0.95670575]])), ('sir', array([[0.93894873]])), ('request', array([[0.92836981]])), ('true', array([[0.92641984]])), ('pride', array([[0.92635361]])), ('painful', array([[0.92512622]])), ('debt', array([[0.92436316]])), ('category', array([[0.92403086]])), ('prize', array([[0.92276058]])), ('nervous', array([[0.92238745]])), ('fold', array([[0.92049372]]))]\n",
      "------------------------------------------------------\n",
      "OPT:\n",
      "[('small', array([[0.82094419]])), ('cat', array([[0.79901713]])), ('tiny', array([[0.72089972]])), ('large', array([[0.71504081]])), ('medium', array([[0.63646627]])), ('largely', array([[0.63480959]])), ('dog', array([[0.63187101]])), ('big', array([[0.62717907]])), ('horse', array([[0.62409981]])), ('massive', array([[0.61414607]])), ('huge', array([[0.61372583]])), ('bird', array([[0.61055431]]))]\n",
      "------------------------------------------------------\n"
     ]
    }
   ],
   "source": [
    "define(['small', 'cat'])"
   ]
  },
  {
   "cell_type": "code",
   "execution_count": 247,
   "metadata": {},
   "outputs": [
    {
     "name": "stdout",
     "output_type": "stream",
     "text": [
      "small, cat -> kitten\n",
      "GPT-3:\n",
      "0.8577500890852248\n",
      "------------------------------------------------------\n",
      "OPT:\n",
      "0.5512441060839587\n",
      "------------------------------------------------------\n"
     ]
    }
   ],
   "source": [
    "sim_test(['small', 'cat'], 'kitten')"
   ]
  },
  {
   "cell_type": "code",
   "execution_count": 248,
   "metadata": {},
   "outputs": [
    {
     "name": "stdout",
     "output_type": "stream",
     "text": [
      "baby, cat\n",
      "GPT-3:\n",
      "[('cat', array([[0.96769925]])), ('baby', array([[0.96769925]])), ('p.m.', array([[0.94845328]])), ('faith', array([[0.94605369]])), ('fetch', array([[0.94382014]])), ('painful', array([[0.94274814]])), ('mad', array([[0.94222608]])), ('sure', array([[0.94141385]])), ('musician', array([[0.94099478]])), ('geography', array([[0.9407841]])), ('railroad', array([[0.93749465]])), ('detailed', array([[0.93652217]]))]\n",
      "------------------------------------------------------\n",
      "OPT:\n",
      "[('baby', array([[0.86200834]])), ('cat', array([[0.85184241]])), ('dog', array([[0.7085855]])), ('horse', array([[0.67216923]])), ('duckling', array([[0.65254134]])), ('kitten', array([[0.64655186]])), ('boyfriend', array([[0.63744312]])), ('bird', array([[0.63262869]])), ('painter', array([[0.61701269]])), ('grandchild', array([[0.61482385]])), ('girl', array([[0.61238386]])), ('daughter', array([[0.60215836]]))]\n",
      "------------------------------------------------------\n"
     ]
    }
   ],
   "source": [
    "define(['baby', 'cat'])"
   ]
  },
  {
   "cell_type": "code",
   "execution_count": 249,
   "metadata": {},
   "outputs": [
    {
     "name": "stdout",
     "output_type": "stream",
     "text": [
      "baby, cat -> kitten\n",
      "GPT-3:\n",
      "0.8382702496540664\n",
      "------------------------------------------------------\n",
      "OPT:\n",
      "0.6465518569775568\n",
      "------------------------------------------------------\n"
     ]
    }
   ],
   "source": [
    "sim_test(['baby', 'cat'], 'kitten')"
   ]
  },
  {
   "cell_type": "code",
   "execution_count": 250,
   "metadata": {},
   "outputs": [
    {
     "name": "stdout",
     "output_type": "stream",
     "text": [
      "child, cat\n",
      "GPT-3:\n",
      "[('cat', array([[0.96481342]])), ('child', array([[0.96481342]])), ('sir', array([[0.93098449]])), ('painful', array([[0.92994462]])), ('dollar', array([[0.92767769]])), ('god', array([[0.92678911]])), ('print', array([[0.92479548]])), ('tip', array([[0.92283918]])), ('faith', array([[0.92280647]])), ('lecture', array([[0.92239058]])), ('musician', array([[0.92158506]])), ('garden', array([[0.92085516]]))]\n",
      "------------------------------------------------------\n",
      "OPT:\n",
      "[('cat', array([[0.86243468]])), ('child', array([[0.85685055]])), ('dog', array([[0.71574176]])), ('horse', array([[0.67127791]])), ('grandchild', array([[0.65429417]])), ('bird', array([[0.64615893]])), ('animal', array([[0.64045734]])), ('kid', array([[0.63315702]])), ('kitten', array([[0.62056295]])), ('children', array([[0.60605723]])), ('petrol', array([[0.60372918]])), ('daughter', array([[0.60089627]]))]\n",
      "------------------------------------------------------\n"
     ]
    }
   ],
   "source": [
    "define(['child', 'cat'])"
   ]
  },
  {
   "cell_type": "code",
   "execution_count": 251,
   "metadata": {},
   "outputs": [
    {
     "name": "stdout",
     "output_type": "stream",
     "text": [
      "child, cat -> kitten\n",
      "GPT-3:\n",
      "0.840062334931147\n",
      "------------------------------------------------------\n",
      "OPT:\n",
      "0.6205629534031849\n",
      "------------------------------------------------------\n"
     ]
    }
   ],
   "source": [
    "sim_test(['child', 'cat'], 'kitten')"
   ]
  },
  {
   "cell_type": "code",
   "execution_count": 252,
   "metadata": {},
   "outputs": [
    {
     "name": "stdout",
     "output_type": "stream",
     "text": [
      "small, dog\n",
      "GPT-3:\n",
      "[('dog', array([[0.94822268]])), ('small', array([[0.94822267]])), ('pink', array([[0.92265997]])), ('thus', array([[0.91883569]])), ('debt', array([[0.91490908]])), ('sir', array([[0.91471006]])), ('our', array([[0.91285894]])), ('anger', array([[0.9113272]])), ('painful', array([[0.91106002]])), ('faith', array([[0.91100371]])), ('project', array([[0.91087175]])), ('prize', array([[0.91061859]]))]\n",
      "------------------------------------------------------\n",
      "OPT:\n",
      "[('small', array([[0.82949888]])), ('dog', array([[0.80736465]])), ('tiny', array([[0.72037022]])), ('large', array([[0.71748746]])), ('big', array([[0.66850792]])), ('largely', array([[0.65091305]])), ('horse', array([[0.65057691]])), ('medium', array([[0.64333134]])), ('duckling', array([[0.63044234]])), ('huge', array([[0.62830195]])), ('massive', array([[0.62361093]])), ('bird', array([[0.61673953]]))]\n",
      "------------------------------------------------------\n"
     ]
    }
   ],
   "source": [
    "define(['small', 'dog'])"
   ]
  },
  {
   "cell_type": "code",
   "execution_count": 253,
   "metadata": {},
   "outputs": [
    {
     "name": "stdout",
     "output_type": "stream",
     "text": [
      "small, dog -> puppy\n",
      "GPT-3:\n",
      "0.8379980894460466\n",
      "------------------------------------------------------\n",
      "OPT:\n",
      "0.4666601571108455\n",
      "------------------------------------------------------\n"
     ]
    }
   ],
   "source": [
    "sim_test(['small', 'dog'], 'puppy')"
   ]
  },
  {
   "cell_type": "code",
   "execution_count": 254,
   "metadata": {},
   "outputs": [
    {
     "name": "stdout",
     "output_type": "stream",
     "text": [
      "baby, dog\n",
      "GPT-3:\n",
      "[('dog', array([[0.95563051]])), ('baby', array([[0.9556305]])), ('faith', array([[0.94048947]])), ('p.m.', array([[0.9363032]])), ('fetch', array([[0.93497318]])), ('sure', array([[0.93322338]])), ('musician', array([[0.93261014]])), ('painful', array([[0.93248474]])), ('project', array([[0.93084438]])), ('mad', array([[0.93082802]])), ('pop', array([[0.93043548]])), ('thus', array([[0.92975692]]))]\n",
      "------------------------------------------------------\n",
      "OPT:\n",
      "[('baby', array([[0.8778958]])), ('dog', array([[0.86807916]])), ('horse', array([[0.69111261]])), ('boyfriend', array([[0.68431885]])), ('duckling', array([[0.6759419]])), ('cat', array([[0.66298348]])), ('girl', array([[0.65390101]])), ('boy', array([[0.63962768]])), ('grandchild', array([[0.63870288]])), ('sheep', array([[0.63338643]])), ('bird', array([[0.63291151]])), ('daughter', array([[0.63268127]]))]\n",
      "------------------------------------------------------\n"
     ]
    }
   ],
   "source": [
    "define(['baby', 'dog'])"
   ]
  },
  {
   "cell_type": "code",
   "execution_count": 255,
   "metadata": {},
   "outputs": [
    {
     "name": "stdout",
     "output_type": "stream",
     "text": [
      "baby, dog -> puppy\n",
      "GPT-3:\n",
      "0.838821379081278\n",
      "------------------------------------------------------\n",
      "OPT:\n",
      "0.5681281718151536\n",
      "------------------------------------------------------\n"
     ]
    }
   ],
   "source": [
    "sim_test(['baby', 'dog'], 'puppy')"
   ]
  },
  {
   "cell_type": "code",
   "execution_count": 256,
   "metadata": {},
   "outputs": [
    {
     "name": "stdout",
     "output_type": "stream",
     "text": [
      "child, dog\n",
      "GPT-3:\n",
      "[('dog', array([[0.95146621]])), ('child', array([[0.95146621]])), ('thus', array([[0.92760923]])), ('pink', array([[0.92375225]])), ('our', array([[0.92352074]])), ('god', array([[0.92351801]])), ('painful', array([[0.92072344]])), ('anger', array([[0.92014789]])), ('faith', array([[0.91816297]])), ('jacket', array([[0.91728785]])), ('print', array([[0.91682653]])), ('lecture', array([[0.91574212]]))]\n",
      "------------------------------------------------------\n",
      "OPT:\n",
      "[('dog', array([[0.87842071]])), ('child', array([[0.87441113]])), ('horse', array([[0.69044733]])), ('grandchild', array([[0.67781907]])), ('cat', array([[0.66894425]])), ('kid', array([[0.66740925]])), ('animal', array([[0.65607985]])), ('boyfriend', array([[0.64621574]])), ('bird', array([[0.64601425]])), ('children', array([[0.64470104]])), ('daughter', array([[0.63192984]])), ('woman', array([[0.62751116]]))]\n",
      "------------------------------------------------------\n"
     ]
    }
   ],
   "source": [
    "define(['child', 'dog'])"
   ]
  },
  {
   "cell_type": "code",
   "execution_count": 257,
   "metadata": {},
   "outputs": [
    {
     "name": "stdout",
     "output_type": "stream",
     "text": [
      "child, dog -> puppy\n",
      "GPT-3:\n",
      "0.8626987176526459\n",
      "------------------------------------------------------\n",
      "OPT:\n",
      "0.5489872908962015\n",
      "------------------------------------------------------\n"
     ]
    }
   ],
   "source": [
    "sim_test(['child', 'dog'], 'puppy')"
   ]
  },
  {
   "cell_type": "code",
   "execution_count": 258,
   "metadata": {},
   "outputs": [
    {
     "name": "stdout",
     "output_type": "stream",
     "text": [
      "baby, male, horse\n",
      "GPT-3:\n",
      "[('baby', array([[0.95063693]])), ('male', array([[0.94874088]])), ('running', array([[0.94181219]])), ('p.m.', array([[0.93671669]])), ('geography', array([[0.93580801]])), ('regulation', array([[0.93529647]])), ('fetch', array([[0.93212432]])), ('faith', array([[0.9316958]])), ('railroad', array([[0.93142148]])), ('horse', array([[0.92950995]])), ('painful', array([[0.92885185]])), ('cancel', array([[0.92825565]]))]\n",
      "------------------------------------------------------\n",
      "OPT:\n",
      "[('baby', array([[0.83494556]])), ('horse', array([[0.80766836]])), ('male', array([[0.80014969]])), ('female', array([[0.76371495]])), ('boyfriend', array([[0.69990002]])), ('girl', array([[0.68438179]])), ('daughter', array([[0.66976619]])), ('duckling', array([[0.66668274]])), ('dog', array([[0.65867223]])), ('gentleman', array([[0.65019298]])), ('engineer', array([[0.6480748]])), ('dozen', array([[0.64406862]]))]\n",
      "------------------------------------------------------\n"
     ]
    }
   ],
   "source": [
    "define(['baby', 'male', 'horse'])"
   ]
  },
  {
   "cell_type": "code",
   "execution_count": 259,
   "metadata": {},
   "outputs": [
    {
     "name": "stdout",
     "output_type": "stream",
     "text": [
      "adult, female, horse\n",
      "GPT-3:\n",
      "[('female', array([[0.95187831]])), ('painful', array([[0.93909204]])), ('deep', array([[0.93524596]])), ('adult', array([[0.93335622]])), ('running', array([[0.93160731]])), ('cancel', array([[0.93084813]])), ('geography', array([[0.9304093]])), ('critical', array([[0.92898235]])), ('railroad', array([[0.92880537]])), ('p.m.', array([[0.92683084]])), ('palace', array([[0.92650243]])), ('regulation', array([[0.92611908]]))]\n",
      "------------------------------------------------------\n",
      "OPT:\n",
      "[('female', array([[0.84283212]])), ('adult', array([[0.81751551]])), ('male', array([[0.81625054]])), ('horse', array([[0.77601843]])), ('fashionable', array([[0.65209794]])), ('theater', array([[0.65193443]])), ('realistic', array([[0.6518423]])), ('ordinary', array([[0.6479414]])), ('normal', array([[0.64606417]])), ('animal', array([[0.64456642]])), ('striped', array([[0.64259425]])), ('professional', array([[0.64221752]]))]\n",
      "------------------------------------------------------\n"
     ]
    }
   ],
   "source": [
    "define(['adult', 'female', 'horse'])"
   ]
  },
  {
   "cell_type": "code",
   "execution_count": 260,
   "metadata": {},
   "outputs": [
    {
     "name": "stdout",
     "output_type": "stream",
     "text": [
      "adult, male, pig\n",
      "GPT-3:\n",
      "[('adult', array([[0.94270278]])), ('geography', array([[0.93096675]])), ('railroad', array([[0.92994474]])), ('pig', array([[0.92802976]])), ('p.m.', array([[0.92801637]])), ('cancel', array([[0.92651977]])), ('sir', array([[0.92555307]])), ('musician', array([[0.92453199]])), ('till', array([[0.92351806]])), ('painful', array([[0.92323255]])), ('detailed', array([[0.92273397]])), ('faith', array([[0.92191605]]))]\n",
      "------------------------------------------------------\n",
      "OPT:\n",
      "[('male', array([[0.82866941]])), ('adult', array([[0.81233877]])), ('female', array([[0.7736721]])), ('duckling', array([[0.62896686]])), ('gentleman', array([[0.62479044]])), ('pig', array([[0.61942653]])), ('boyfriend', array([[0.61735534]])), ('pupil', array([[0.61682667]])), ('cheerful', array([[0.61140559]])), ('fashionable', array([[0.61102747]])), ('depressed', array([[0.60919503]])), ('attractive', array([[0.60733198]]))]\n",
      "------------------------------------------------------\n"
     ]
    }
   ],
   "source": [
    "define(['adult', 'male', 'pig'])"
   ]
  },
  {
   "cell_type": "code",
   "execution_count": 261,
   "metadata": {},
   "outputs": [
    {
     "name": "stdout",
     "output_type": "stream",
     "text": [
      "adult, male, human\n",
      "GPT-3:\n",
      "[('geography', array([[0.9348806]])), ('railroad', array([[0.93430497]])), ('adult', array([[0.93266518]])), ('fetch', array([[0.93209523]])), ('p.m.', array([[0.93102566]])), ('running', array([[0.92911551]])), ('cancel', array([[0.92828343]])), ('painful', array([[0.92750833]])), ('resident', array([[0.92656574]])), ('detailed', array([[0.9261149]])), ('faith', array([[0.92582756]])), ('musician', array([[0.92527566]]))]\n",
      "------------------------------------------------------\n",
      "OPT:\n",
      "[('male', array([[0.85302329]])), ('human', array([[0.82744897]])), ('female', array([[0.81946735]])), ('adult', array([[0.80872708]])), ('individual', array([[0.6527067]])), ('normal', array([[0.64265617]])), ('realistic', array([[0.64177597]])), ('professional', array([[0.64122464]])), ('animal', array([[0.63904789]])), ('ordinary', array([[0.63306372]])), ('aggressive', array([[0.63157068]])), ('characteristic', array([[0.63057265]]))]\n",
      "------------------------------------------------------\n"
     ]
    }
   ],
   "source": [
    "define(['adult', 'male', 'human'])"
   ]
  },
  {
   "cell_type": "code",
   "execution_count": 262,
   "metadata": {},
   "outputs": [
    {
     "name": "stdout",
     "output_type": "stream",
     "text": [
      "adult, female, human\n",
      "GPT-3:\n",
      "[('female', array([[0.94632514]])), ('adult', array([[0.94075289]])), ('deep', array([[0.93716648]])), ('painful', array([[0.93648091]])), ('geography', array([[0.92967681]])), ('cancel', array([[0.92935938]])), ('human', array([[0.92926627]])), ('railroad', array([[0.92857335]])), ('palace', array([[0.92690942]])), ('till', array([[0.926251]])), ('p.m.', array([[0.92597495]])), ('yours', array([[0.92562348]]))]\n",
      "------------------------------------------------------\n",
      "OPT:\n",
      "[('female', array([[0.85558201]])), ('male', array([[0.82612877]])), ('human', array([[0.8241804]])), ('adult', array([[0.80692311]])), ('individual', array([[0.66325365]])), ('realistic', array([[0.65662445]])), ('normal', array([[0.65522186]])), ('professional', array([[0.65363421]])), ('ordinary', array([[0.65072221]])), ('traditional', array([[0.64363186]])), ('aggressive', array([[0.64337065]])), ('unique', array([[0.64064227]]))]\n",
      "------------------------------------------------------\n"
     ]
    }
   ],
   "source": [
    "define(['adult', 'female', 'human'])"
   ]
  },
  {
   "cell_type": "markdown",
   "metadata": {},
   "source": [
    "### D - Philosophy, math, miscellaneous\n",
    "The rest of our old tests."
   ]
  },
  {
   "cell_type": "code",
   "execution_count": 263,
   "metadata": {},
   "outputs": [
    {
     "name": "stdout",
     "output_type": "stream",
     "text": [
      "persuade, sentence\n",
      "GPT-3:\n",
      "[('persuade', array([[0.94641686]])), ('sentence', array([[0.94641686]])), ('badly', array([[0.93669279]])), ('betting', array([[0.92758232]])), ('busy', array([[0.92083611]])), ('gasoline', array([[0.9202528]])), ('reality', array([[0.91669369]])), ('itself', array([[0.91620985]])), ('song', array([[0.91607274]])), ('noticeable', array([[0.91499261]])), ('affection', array([[0.91417384]])), ('abandon', array([[0.91247439]]))]\n",
      "------------------------------------------------------\n",
      "OPT:\n",
      "[('persuade', array([[0.83671688]])), ('sentence', array([[0.8195098]])), ('convince', array([[0.69954178]])), ('involvement', array([[0.69331195]])), ('involve', array([[0.68454357]])), ('punish', array([[0.66072247]])), ('assure', array([[0.65523364]])), ('introduce', array([[0.64389573]])), ('advise', array([[0.64319198]])), ('educate', array([[0.64089168]])), ('insulting', array([[0.63973465]])), ('investigate', array([[0.6385171]]))]\n",
      "------------------------------------------------------\n"
     ]
    }
   ],
   "source": [
    "define(['persuade', 'sentence'])"
   ]
  },
  {
   "cell_type": "code",
   "execution_count": 264,
   "metadata": {},
   "outputs": [
    {
     "name": "stdout",
     "output_type": "stream",
     "text": [
      "persuade, sentence -> argument\n",
      "GPT-3:\n",
      "0.8632533265475226\n",
      "------------------------------------------------------\n",
      "OPT:\n",
      "0.5547963155180089\n",
      "------------------------------------------------------\n"
     ]
    }
   ],
   "source": [
    "sim_test(['persuade', 'sentence'], 'argument')"
   ]
  },
  {
   "cell_type": "code",
   "execution_count": 265,
   "metadata": {},
   "outputs": [
    {
     "name": "stdout",
     "output_type": "stream",
     "text": [
      "logical, belief\n",
      "GPT-3:\n",
      "[('logical', array([[0.96713349]])), ('belief', array([[0.96713349]])), ('painful', array([[0.94407583]])), ('geography', array([[0.94151192]])), ('railroad', array([[0.94109712]])), ('p.m.', array([[0.94076712]])), ('faith', array([[0.94028171]])), ('tightly', array([[0.93789961]])), ('critical', array([[0.93691529]])), ('musician', array([[0.93662476]])), ('reveal', array([[0.93628935]])), ('fetch', array([[0.93533123]]))]\n",
      "------------------------------------------------------\n",
      "OPT:\n",
      "[('logical', array([[0.86862996]])), ('belief', array([[0.86381819]])), ('logic', array([[0.81533296]])), ('believe', array([[0.7535399]])), ('belong', array([[0.71327251]])), ('rationals', array([[0.67620464]])), ('technique', array([[0.64710893]])), ('alphabetical', array([[0.63678802]])), ('procedure', array([[0.63668094]])), ('religion', array([[0.63634938]])), ('faithful', array([[0.63272187]])), ('fundamental', array([[0.63147129]]))]\n",
      "------------------------------------------------------\n"
     ]
    }
   ],
   "source": [
    "define(['logical', 'belief'])"
   ]
  },
  {
   "cell_type": "code",
   "execution_count": 266,
   "metadata": {},
   "outputs": [
    {
     "name": "stdout",
     "output_type": "stream",
     "text": [
      "logical, belief -> argument\n",
      "GPT-3:\n",
      "0.9160718816942857\n",
      "------------------------------------------------------\n",
      "OPT:\n",
      "0.5709568993043491\n",
      "------------------------------------------------------\n"
     ]
    }
   ],
   "source": [
    "sim_test(['logical', 'belief'], 'argument')"
   ]
  },
  {
   "cell_type": "code",
   "execution_count": 267,
   "metadata": {},
   "outputs": [
    {
     "name": "stdout",
     "output_type": "stream",
     "text": [
      "logical, reason\n",
      "GPT-3:\n",
      "[('logical', array([[0.95688798]])), ('reason', array([[0.95688797]])), ('stock', array([[0.94497193]])), ('painful', array([[0.93865343]])), ('railroad', array([[0.93573513]])), ('critical', array([[0.93289972]])), ('geography', array([[0.93179805]])), ('p.m.', array([[0.93119304]])), ('harmless', array([[0.93011167]])), ('faith', array([[0.92962625]])), ('reveal', array([[0.92855963]])), ('musician', array([[0.92583717]]))]\n",
      "------------------------------------------------------\n",
      "OPT:\n",
      "[('reason', array([[0.87357407]])), ('logical', array([[0.80021513]])), ('logic', array([[0.78088509]])), ('reasonably', array([[0.75641834]])), ('rationals', array([[0.72245499]])), ('meaning', array([[0.64376435]])), ('expectation', array([[0.64298202]])), ('interpretation', array([[0.64164943]])), ('consideration', array([[0.63574697]])), ('argument', array([[0.63484154]])), ('partner', array([[0.63376084]])), ('listen', array([[0.63230839]]))]\n",
      "------------------------------------------------------\n"
     ]
    }
   ],
   "source": [
    "define(['logical', 'reason'])"
   ]
  },
  {
   "cell_type": "code",
   "execution_count": 268,
   "metadata": {},
   "outputs": [
    {
     "name": "stdout",
     "output_type": "stream",
     "text": [
      "logical, reason -> argument\n",
      "GPT-3:\n",
      "0.9002934753084291\n",
      "------------------------------------------------------\n",
      "OPT:\n",
      "0.6348415368459757\n",
      "------------------------------------------------------\n"
     ]
    }
   ],
   "source": [
    "sim_test(['logical', 'reason'], 'argument')"
   ]
  },
  {
   "cell_type": "code",
   "execution_count": 269,
   "metadata": {},
   "outputs": [
    {
     "name": "stdout",
     "output_type": "stream",
     "text": [
      "thinking, argument\n",
      "GPT-3:\n",
      "[('argument', array([[0.96122531]])), ('thinking', array([[0.9612253]])), ('railroad', array([[0.92953899]])), ('painful', array([[0.92827987]])), ('substantially', array([[0.9282762]])), ('married', array([[0.92687983]])), ('geography', array([[0.92578606]])), ('crisp', array([[0.92554119]])), ('pressure', array([[0.92531534]])), ('faith', array([[0.92478623]])), ('p.m.', array([[0.92416276]])), ('sharp', array([[0.92372705]]))]\n",
      "------------------------------------------------------\n",
      "OPT:\n",
      "[('thinking', array([[0.85832499]])), ('argument', array([[0.82997235]])), ('consideration', array([[0.74066288]])), ('think', array([[0.72082258]])), ('meaning', array([[0.71746699]])), ('interpretation', array([[0.70234272]])), ('argue', array([[0.68953856]])), ('suggestion', array([[0.68713442]])), ('eventually', array([[0.68542112]])), ('statement', array([[0.68029933]])), ('therefore', array([[0.67930948]])), ('threaten', array([[0.67878433]]))]\n",
      "------------------------------------------------------\n"
     ]
    }
   ],
   "source": [
    "define(['thinking', 'argument'])"
   ]
  },
  {
   "cell_type": "code",
   "execution_count": 270,
   "metadata": {},
   "outputs": [
    {
     "name": "stdout",
     "output_type": "stream",
     "text": [
      "thinking, argument -> philosophy\n",
      "GPT-3:\n",
      "0.9012961462088043\n",
      "------------------------------------------------------\n",
      "OPT:\n",
      "0.4444142881852201\n",
      "------------------------------------------------------\n"
     ]
    }
   ],
   "source": [
    "sim_test(['thinking', 'argument'], 'philosophy')"
   ]
  },
  {
   "cell_type": "code",
   "execution_count": 271,
   "metadata": {},
   "outputs": [
    {
     "name": "stdout",
     "output_type": "stream",
     "text": [
      "thought, argument -> philosophy\n",
      "GPT-3:\n",
      "0.8977197605222109\n",
      "------------------------------------------------------\n",
      "OPT:\n",
      "0.44721401809349026\n",
      "------------------------------------------------------\n"
     ]
    }
   ],
   "source": [
    "sim_test(['thought', 'argument'], 'philosophy')"
   ]
  },
  {
   "cell_type": "code",
   "execution_count": 272,
   "metadata": {},
   "outputs": [
    {
     "name": "stdout",
     "output_type": "stream",
     "text": [
      "true, belief\n",
      "GPT-3:\n",
      "[('true', array([[0.96714533]])), ('belief', array([[0.96714533]])), ('painful', array([[0.94647005]])), ('railroad', array([[0.9413442]])), ('critical', array([[0.9404674]])), ('p.m.', array([[0.94029256]])), ('geography', array([[0.93894082]])), ('sir', array([[0.93847576]])), ('cancel', array([[0.93822778]])), ('palace', array([[0.93753308]])), ('actually', array([[0.93662061]])), ('detailed', array([[0.93502189]]))]\n",
      "------------------------------------------------------\n",
      "OPT:\n",
      "[('true', array([[0.87764979]])), ('belief', array([[0.75873532]])), ('believe', array([[0.74446273]])), ('realize', array([[0.6886078]])), ('faithful', array([[0.66734857]])), ('aware', array([[0.65545248]])), ('realistic', array([[0.65376915]])), ('real', array([[0.62629237]])), ('delighted', array([[0.62198338]])), ('relaxed', array([[0.62174303]])), ('belong', array([[0.61320332]])), ('indeed', array([[0.61007705]]))]\n",
      "------------------------------------------------------\n"
     ]
    }
   ],
   "source": [
    "define(['true', 'belief'])"
   ]
  },
  {
   "cell_type": "code",
   "execution_count": 273,
   "metadata": {},
   "outputs": [
    {
     "name": "stdout",
     "output_type": "stream",
     "text": [
      "true, belief -> knowledge\n",
      "GPT-3:\n",
      "0.8868240877731091\n",
      "------------------------------------------------------\n",
      "OPT:\n",
      "0.5352893002277124\n",
      "------------------------------------------------------\n"
     ]
    }
   ],
   "source": [
    "sim_test(['true', 'belief'], 'knowledge')"
   ]
  },
  {
   "cell_type": "code",
   "execution_count": 274,
   "metadata": {},
   "outputs": [
    {
     "name": "stdout",
     "output_type": "stream",
     "text": [
      "spiritual, belief\n",
      "GPT-3:\n",
      "[('spiritual', array([[0.95417885]])), ('belief', array([[0.95417885]])), ('dot', array([[0.94073239]])), ('railroad', array([[0.91999745]])), ('painful', array([[0.91858588]])), ('actually', array([[0.91716593]])), ('critical', array([[0.91644914]])), ('cancel', array([[0.91484993]])), ('geography', array([[0.91347712]])), ('musician', array([[0.91294121]])), ('palace', array([[0.9127524]])), ('independently', array([[0.91272207]]))]\n",
      "------------------------------------------------------\n",
      "OPT:\n",
      "[('spiritual', array([[0.87034736]])), ('belief', array([[0.83798405]])), ('faithful', array([[0.72998719]])), ('spirit', array([[0.72427947]])), ('believe', array([[0.70880214]])), ('faith', array([[0.70805509]])), ('faithfully', array([[0.64903794]])), ('rationals', array([[0.64657206]])), ('religion', array([[0.64461468]])), ('belong', array([[0.64302949]])), ('celebration', array([[0.64276058]])), ('kindness', array([[0.64170325]]))]\n",
      "------------------------------------------------------\n"
     ]
    }
   ],
   "source": [
    "define(['spiritual', 'belief'])"
   ]
  },
  {
   "cell_type": "code",
   "execution_count": 275,
   "metadata": {},
   "outputs": [
    {
     "name": "stdout",
     "output_type": "stream",
     "text": [
      "spiritual, belief -> religion\n",
      "GPT-3:\n",
      "0.8485276341928929\n",
      "------------------------------------------------------\n",
      "OPT:\n",
      "0.6446146805508773\n",
      "------------------------------------------------------\n"
     ]
    }
   ],
   "source": [
    "sim_test(['spiritual', 'belief'], 'religion')"
   ]
  },
  {
   "cell_type": "code",
   "execution_count": 276,
   "metadata": {},
   "outputs": [
    {
     "name": "stdout",
     "output_type": "stream",
     "text": [
      "right, belief\n",
      "GPT-3:\n",
      "[('right', array([[0.94906963]])), ('belief', array([[0.94906962]])), ('painful', array([[0.91685907]])), ('actually', array([[0.91252915]])), ('curious', array([[0.91236697]])), ('tightly', array([[0.91218768]])), ('railroad', array([[0.91148723]])), ('delay', array([[0.91106328]])), ('palace', array([[0.91061818]])), ('cancel', array([[0.90986761]])), ('us', array([[0.90951625]])), ('bake', array([[0.90725356]]))]\n",
      "------------------------------------------------------\n",
      "OPT:\n",
      "[('right', array([[0.88663246]])), ('rightly', array([[0.79997001]])), ('belief', array([[0.74495137]])), ('believe', array([[0.71396814]])), ('left', array([[0.67253461]])), ('correct', array([[0.66707518]])), ('belong', array([[0.64569427]])), ('relaxed', array([[0.62526856]])), ('delighted', array([[0.61893427]])), ('relaxing', array([[0.61631692]])), ('correctly', array([[0.61619076]])), ('offence', array([[0.60949718]]))]\n",
      "------------------------------------------------------\n"
     ]
    }
   ],
   "source": [
    "define(['right', 'belief'])"
   ]
  },
  {
   "cell_type": "code",
   "execution_count": 277,
   "metadata": {},
   "outputs": [
    {
     "name": "stdout",
     "output_type": "stream",
     "text": [
      "right, belief -> moral\n",
      "GPT-3:\n",
      "0.8486567301185884\n",
      "------------------------------------------------------\n",
      "OPT:\n",
      "0.40070703800869045\n",
      "------------------------------------------------------\n"
     ]
    }
   ],
   "source": [
    "sim_test(['right', 'belief'], 'moral')"
   ]
  },
  {
   "cell_type": "code",
   "execution_count": 278,
   "metadata": {},
   "outputs": [
    {
     "name": "stdout",
     "output_type": "stream",
     "text": [
      "right, belief -> ideal\n",
      "GPT-3:\n",
      "0.8721914049388988\n",
      "------------------------------------------------------\n",
      "OPT:\n",
      "0.5667773656074907\n",
      "------------------------------------------------------\n"
     ]
    }
   ],
   "source": [
    "sim_test(['right', 'belief'], 'ideal')"
   ]
  },
  {
   "cell_type": "code",
   "execution_count": 279,
   "metadata": {},
   "outputs": [
    {
     "name": "stdout",
     "output_type": "stream",
     "text": [
      "good, evil, belief\n",
      "GPT-3:\n",
      "[('belief', array([[0.94307681]])), ('palace', array([[0.93246121]])), ('good', array([[0.9308848]])), ('painful', array([[0.92840944]])), ('cancel', array([[0.9245966]])), ('critical', array([[0.92452661]])), ('become', array([[0.92386925]])), ('phase', array([[0.92244803]])), ('other', array([[0.92232604]])), ('evil', array([[0.92223569]])), ('railroad', array([[0.92213277]])), ('harmless', array([[0.92204286]]))]\n",
      "------------------------------------------------------\n",
      "OPT:\n",
      "[('good', array([[0.83703678]])), ('goods', array([[0.81345991]])), ('evil', array([[0.78717757]])), ('goodbye', array([[0.77193636]])), ('bad', array([[0.74157314]])), ('great', array([[0.70718767]])), ('bad-tempered', array([[0.70472051]])), ('powerful', array([[0.69615658]])), ('outstanding', array([[0.6950207]])), ('faithful', array([[0.68686234]])), ('cool', array([[0.6843338]])), ('excellent', array([[0.68182784]]))]\n",
      "------------------------------------------------------\n"
     ]
    }
   ],
   "source": [
    "define(['good', 'evil', 'belief'])"
   ]
  },
  {
   "cell_type": "code",
   "execution_count": 280,
   "metadata": {},
   "outputs": [
    {
     "name": "stdout",
     "output_type": "stream",
     "text": [
      "good, evil, belief -> moral\n",
      "GPT-3:\n",
      "0.8641716196507854\n",
      "------------------------------------------------------\n",
      "OPT:\n",
      "0.4743267906423037\n",
      "------------------------------------------------------\n"
     ]
    }
   ],
   "source": [
    "sim_test(['good', 'evil', 'belief'], 'moral')"
   ]
  },
  {
   "cell_type": "code",
   "execution_count": 281,
   "metadata": {},
   "outputs": [
    {
     "name": "stdout",
     "output_type": "stream",
     "text": [
      "woman, leader -> chairwoman\n",
      "GPT-3:\n",
      "0.8615575969668379\n",
      "------------------------------------------------------\n",
      "OPT:\n",
      "0.7556887174927774\n",
      "------------------------------------------------------\n"
     ]
    }
   ],
   "source": [
    "sim_test(['woman', 'leader'], 'chairwoman')"
   ]
  },
  {
   "cell_type": "code",
   "execution_count": 282,
   "metadata": {},
   "outputs": [
    {
     "name": "stdout",
     "output_type": "stream",
     "text": [
      "man, leader -> chairman\n",
      "GPT-3:\n",
      "0.8812164216505443\n",
      "------------------------------------------------------\n",
      "OPT:\n",
      "0.699520369640954\n",
      "------------------------------------------------------\n"
     ]
    }
   ],
   "source": [
    "sim_test(['man', 'leader'], 'chairman')"
   ]
  },
  {
   "cell_type": "code",
   "execution_count": 283,
   "metadata": {},
   "outputs": [
    {
     "name": "stdout",
     "output_type": "stream",
     "text": [
      "rectangular, table, numbers\n",
      "GPT-3:\n",
      "[('numbers', array([[0.94657369]])), ('table', array([[0.94514559]])), ('palace', array([[0.94003799]])), ('damage', array([[0.93838589]])), ('they', array([[0.93075692]])), ('rectangular', array([[0.9291309]])), ('us', array([[0.9284431]])), ('phase', array([[0.92728538]])), ('virtually', array([[0.92587001]])), ('my', array([[0.92576034]])), ('belief', array([[0.92559076]])), ('art', array([[0.92423126]]))]\n",
      "------------------------------------------------------\n",
      "OPT:\n",
      "[('tablet', array([[0.82963304]])), ('table', array([[0.80849223]])), ('rectangular', array([[0.78385821]])), ('numbers', array([[0.74694204]])), ('alphabetical', array([[0.70007471]])), ('alphabetically', array([[0.69062785]])), ('cupboard', array([[0.68655391]])), ('envelope', array([[0.67585029]])), ('thickness', array([[0.67247592]])), ('arrangement', array([[0.66626549]])), ('plate', array([[0.66115098]])), ('powerset', array([[0.66048327]]))]\n",
      "------------------------------------------------------\n"
     ]
    }
   ],
   "source": [
    "define(['rectangular', 'table', 'numbers'])"
   ]
  },
  {
   "cell_type": "code",
   "execution_count": 284,
   "metadata": {},
   "outputs": [
    {
     "name": "stdout",
     "output_type": "stream",
     "text": [
      "relation, two, sets\n",
      "GPT-3:\n",
      "[('relation', array([[0.94488525]])), ('two', array([[0.94335603]])), ('sets', array([[0.94308371]])), ('painful', array([[0.94263134]])), ('musician', array([[0.93675604]])), ('sharp', array([[0.93627486]])), ('phase', array([[0.93601383]])), ('motor', array([[0.93586518]])), ('traveller', array([[0.93518029]])), ('faith', array([[0.93485898]])), ('critical', array([[0.93468944]])), ('reveal', array([[0.93431214]]))]\n",
      "------------------------------------------------------\n",
      "OPT:\n",
      "[('two', array([[0.80209866]])), ('sets', array([[0.78173972]])), ('three', array([[0.77964713]])), ('several', array([[0.77486788]])), ('dozen', array([[0.74944074]])), ('four', array([[0.73844933]])), ('few', array([[0.73840925]])), ('fourteen', array([[0.72973883]])), ('characteristic', array([[0.72026034]])), ('fourteenth', array([[0.71767809]])), ('relation', array([[0.71510071]])), ('eight', array([[0.71316496]]))]\n",
      "------------------------------------------------------\n"
     ]
    }
   ],
   "source": [
    "define(['relation', 'two', 'sets'])"
   ]
  },
  {
   "cell_type": "code",
   "execution_count": 285,
   "metadata": {},
   "outputs": [
    {
     "name": "stdout",
     "output_type": "stream",
     "text": [
      "scalar, function, matrix\n",
      "GPT-3:\n",
      "[('function', array([[0.94724589]])), ('scalar', array([[0.93606084]])), ('travel', array([[0.93469953]])), ('additional', array([[0.93334434]])), ('prison', array([[0.93159487]])), ('uncertain', array([[0.93080937]])), ('matrix', array([[0.93058896]])), ('boat', array([[0.92880126]])), ('traveller', array([[0.92601973]])), ('pressure', array([[0.92336992]])), ('late', array([[0.92257613]])), ('difficult', array([[0.92192047]]))]\n",
      "------------------------------------------------------\n",
      "OPT:\n",
      "[('function', array([[0.80147669]])), ('matrix', array([[0.77200039]])), ('scalar', array([[0.70157783]])), ('mathematics', array([[0.66953431]])), ('procedure', array([[0.6615268]])), ('powerset', array([[0.66072817]])), ('output', array([[0.6524851]])), ('method', array([[0.64421531]])), ('determinant', array([[0.64264471]])), ('alphabetical', array([[0.64126842]])), ('calculation', array([[0.64007909]])), ('tablet', array([[0.64002983]]))]\n",
      "------------------------------------------------------\n"
     ]
    }
   ],
   "source": [
    "define(['scalar', 'function', 'matrix'])"
   ]
  },
  {
   "cell_type": "code",
   "execution_count": 286,
   "metadata": {},
   "outputs": [
    {
     "name": "stdout",
     "output_type": "stream",
     "text": [
      "objective -> goal\n",
      "GPT-3:\n",
      "0.8408090139690734\n",
      "------------------------------------------------------\n",
      "OPT:\n",
      "0.5550858586958061\n",
      "------------------------------------------------------\n"
     ]
    }
   ],
   "source": [
    "sim_test(['objective'], 'goal')"
   ]
  },
  {
   "cell_type": "code",
   "execution_count": 287,
   "metadata": {},
   "outputs": [
    {
     "name": "stdout",
     "output_type": "stream",
     "text": [
      "actor -> actress\n",
      "GPT-3:\n",
      "0.8744601066235698\n",
      "------------------------------------------------------\n",
      "OPT:\n",
      "0.8003212504922155\n",
      "------------------------------------------------------\n"
     ]
    }
   ],
   "source": [
    "sim_test(['actor'], 'actress')"
   ]
  },
  {
   "cell_type": "code",
   "execution_count": 288,
   "metadata": {},
   "outputs": [
    {
     "name": "stdout",
     "output_type": "stream",
     "text": [
      "afternoon -> morning\n",
      "GPT-3:\n",
      "0.8443593299688374\n",
      "------------------------------------------------------\n",
      "OPT:\n",
      "0.6570280926965197\n",
      "------------------------------------------------------\n"
     ]
    }
   ],
   "source": [
    "sim_test(['afternoon'], 'morning')"
   ]
  },
  {
   "cell_type": "markdown",
   "metadata": {},
   "source": [
    "## Define Helpers (for magnitude)"
   ]
  },
  {
   "cell_type": "code",
   "execution_count": 289,
   "metadata": {},
   "outputs": [],
   "source": [
    "# this function doesn't allow model specification, as GPT-3 vectors are normalized.\n",
    "def sum_complexity(word, vec=False):\n",
    "    \"\"\"\n",
    "    Args:\n",
    "        word: iterable, string, or vector   -> embedding to be summed.\n",
    "        vec: bool                           -> True if word is already vector.\n",
    "    Returns:\n",
    "        Float score of the sum of the absolute value of each datapoint in the embedding.\n",
    "    \"\"\"\n",
    "    phrase = word\n",
    "    if not vec:\n",
    "        if isinstance(word, str):\n",
    "            phrase = positive([word], model='opt')\n",
    "        else:\n",
    "            phrase = positive(word, model='opt')\n",
    "    \n",
    "    modified = [abs(float(x)) for x in phrase[0]]\n",
    "    return sum(modified)\n",
    "    "
   ]
  },
  {
   "cell_type": "code",
   "execution_count": 290,
   "metadata": {},
   "outputs": [],
   "source": [
    "def above_zero_complexity(word, vec=False, threshold=0.3):\n",
    "    \"\"\"\n",
    "    Args:\n",
    "        word: iterable, string, or vector -> embedding to be evaluated\n",
    "        vec: bool                         -> True if word is already vector.\n",
    "        threshold: float                  -> Absolute value cutoff point\n",
    "    Returns:\n",
    "        Float score of the amount of 'signifigant' features according to the threshold,\n",
    "        divided by the number of total dimensions.\n",
    "    \"\"\"\n",
    "    phrase = word\n",
    "    if not vec:\n",
    "        if isinstance(word, str):\n",
    "            phrase = positive([word], model='opt')\n",
    "        else:\n",
    "            phrase = positive(word, model='opt')\n",
    "\n",
    "    modified = [abs(float(x)) for x in phrase[0] if abs(float(x)) > threshold]\n",
    "    return len(modified) / phrase.shape[1]"
   ]
  },
  {
   "cell_type": "code",
   "execution_count": 291,
   "metadata": {},
   "outputs": [],
   "source": [
    "def compare_complexity(words, threshold=0.3):\n",
    "    \"\"\"\n",
    "    Args:\n",
    "        words: iterable     -> items to be converted to tokens and compared.\n",
    "        threshold: fload    -> threshold for signifigant features with a_z_c()\n",
    "    Returns:\n",
    "        None. Formatted printing results for each item in words.\n",
    "    \"\"\"\n",
    "    for w in words:\n",
    "        print(w)\n",
    "        print(f\"Sum Complexity: {sum_complexity(w)}\")\n",
    "        print(f\"Above Zero Complexity t-[{threshold}]: {above_zero_complexity(w, threshold=threshold)}\")\n",
    "        print('------------------------------------------------------')"
   ]
  },
  {
   "cell_type": "markdown",
   "metadata": {},
   "source": [
    "## Conduct Magnitude Tests\n",
    "This is a shorter section, and all of our tests are on OPT-1.3b."
   ]
  },
  {
   "cell_type": "code",
   "execution_count": 292,
   "metadata": {},
   "outputs": [
    {
     "name": "stdout",
     "output_type": "stream",
     "text": [
      "man\n",
      "Sum Complexity: 3869.5862306837994\n",
      "Above Zero Complexity t-[0.3]: 0.88427734375\n",
      "------------------------------------------------------\n",
      "bachelor\n",
      "Sum Complexity: 2698.8530232064036\n",
      "Above Zero Complexity t-[0.3]: 0.83837890625\n",
      "------------------------------------------------------\n",
      "husband\n",
      "Sum Complexity: 3166.152847165996\n",
      "Above Zero Complexity t-[0.3]: 0.86865234375\n",
      "------------------------------------------------------\n",
      "father\n",
      "Sum Complexity: 3597.1006672526614\n",
      "Above Zero Complexity t-[0.3]: 0.88232421875\n",
      "------------------------------------------------------\n"
     ]
    }
   ],
   "source": [
    "compare_complexity(['man', 'bachelor', 'husband', 'father'])"
   ]
  },
  {
   "cell_type": "code",
   "execution_count": 293,
   "metadata": {},
   "outputs": [
    {
     "name": "stdout",
     "output_type": "stream",
     "text": [
      "woman\n",
      "Sum Complexity: 3872.5401260519952\n",
      "Above Zero Complexity t-[0.3]: 0.89453125\n",
      "------------------------------------------------------\n",
      "wife\n",
      "Sum Complexity: 3150.2648618432054\n",
      "Above Zero Complexity t-[0.3]: 0.86572265625\n",
      "------------------------------------------------------\n",
      "mother\n",
      "Sum Complexity: 3577.5514898506563\n",
      "Above Zero Complexity t-[0.3]: 0.88623046875\n",
      "------------------------------------------------------\n"
     ]
    }
   ],
   "source": [
    "compare_complexity(['woman', 'wife', 'mother'])"
   ]
  },
  {
   "cell_type": "code",
   "execution_count": 294,
   "metadata": {},
   "outputs": [
    {
     "name": "stdout",
     "output_type": "stream",
     "text": [
      "cat\n",
      "Sum Complexity: 3582.265500087301\n",
      "Above Zero Complexity t-[0.3]: 0.8984375\n",
      "------------------------------------------------------\n",
      "kitten\n",
      "Sum Complexity: 2721.9515306861103\n",
      "Above Zero Complexity t-[0.3]: 0.8505859375\n",
      "------------------------------------------------------\n"
     ]
    }
   ],
   "source": [
    "compare_complexity(['cat', 'kitten'])"
   ]
  },
  {
   "cell_type": "code",
   "execution_count": 295,
   "metadata": {},
   "outputs": [
    {
     "name": "stdout",
     "output_type": "stream",
     "text": [
      "dog\n",
      "Sum Complexity: 3529.758090367607\n",
      "Above Zero Complexity t-[0.3]: 0.87548828125\n",
      "------------------------------------------------------\n",
      "puppy\n",
      "Sum Complexity: 2501.963118016458\n",
      "Above Zero Complexity t-[0.3]: 0.8310546875\n",
      "------------------------------------------------------\n"
     ]
    }
   ],
   "source": [
    "compare_complexity(['dog', 'puppy'])"
   ]
  },
  {
   "cell_type": "code",
   "execution_count": 296,
   "metadata": {},
   "outputs": [
    {
     "name": "stdout",
     "output_type": "stream",
     "text": [
      "duck\n",
      "Sum Complexity: 2385.5241269427966\n",
      "Above Zero Complexity t-[0.3]: 0.83203125\n",
      "------------------------------------------------------\n",
      "duckling\n",
      "Sum Complexity: 2413.2875814224694\n",
      "Above Zero Complexity t-[0.3]: 0.822265625\n",
      "------------------------------------------------------\n"
     ]
    }
   ],
   "source": [
    "compare_complexity(['duck', 'duckling'])"
   ]
  },
  {
   "cell_type": "code",
   "execution_count": 297,
   "metadata": {},
   "outputs": [
    {
     "name": "stdout",
     "output_type": "stream",
     "text": [
      "set\n",
      "Sum Complexity: 3559.938992388498\n",
      "Above Zero Complexity t-[0.3]: 0.8818359375\n",
      "------------------------------------------------------\n",
      "powerset\n",
      "Sum Complexity: 2987.547173115257\n",
      "Above Zero Complexity t-[0.3]: 0.861328125\n",
      "------------------------------------------------------\n"
     ]
    }
   ],
   "source": [
    "compare_complexity(['set', 'powerset'])"
   ]
  },
  {
   "cell_type": "code",
   "execution_count": 298,
   "metadata": {},
   "outputs": [
    {
     "name": "stdout",
     "output_type": "stream",
     "text": [
      "matrix\n",
      "Sum Complexity: 2349.8595615273\n",
      "Above Zero Complexity t-[0.3]: 0.83349609375\n",
      "------------------------------------------------------\n",
      "determinant\n",
      "Sum Complexity: 2404.382755302548\n",
      "Above Zero Complexity t-[0.3]: 0.814453125\n",
      "------------------------------------------------------\n"
     ]
    }
   ],
   "source": [
    "compare_complexity(['matrix', 'determinant'])"
   ]
  },
  {
   "cell_type": "markdown",
   "metadata": {},
   "source": [
    "## Phrase comparison\n",
    "In the past, we have not had access to models that make a phrase, so we use positives. I will explore some of those combinations below.\n",
    "Phrases of interest:\n",
    "* \"white house\"\n",
    "* \"baby duck\"\n",
    "* \"logical belief\"\n",
    "\n",
    "and so on..."
   ]
  },
  {
   "cell_type": "code",
   "execution_count": 299,
   "metadata": {},
   "outputs": [
    {
     "name": "stdout",
     "output_type": "stream",
     "text": [
      "logical belief\n",
      "GPT-3:\n",
      "[('spoken', array([[0.93689853]])), ('lorry', array([[0.92014554]])), ('up', array([[0.91018386]])), ('bedroom', array([[0.8914305]])), ('sea', array([[0.8895526]])), ('list', array([[0.86985034]])), ('finished', array([[0.86606042]])), ('wife', array([[0.86285496]])), ('technology', array([[0.85796905]])), ('broken', array([[0.85456666]])), ('palace', array([[0.85325309]])), ('crack', array([[0.85229479]]))]\n",
      "------------------------------------------------------\n",
      "OPT:\n",
      "Tokens Requested:\n",
      "['</s>', 'log', 'ical', ' belief']\n",
      "[('logical', array([[0.90879445]])), ('logic', array([[0.82582437]])), ('rationals', array([[0.70750108]])), ('fundamental', array([[0.63134636]])), ('interpretation', array([[0.62565902]])), ('characteristic', array([[0.62406868]])), ('alphabetical', array([[0.6218814]])), ('belief', array([[0.62176686]])), ('argument', array([[0.61687262]])), ('technique', array([[0.61575624]])), ('determination', array([[0.61146013]])), ('criticism', array([[0.61142887]]))]\n",
      "------------------------------------------------------\n"
     ]
    }
   ],
   "source": [
    "define(['logical belief']) # this usage should work."
   ]
  },
  {
   "cell_type": "code",
   "execution_count": 300,
   "metadata": {},
   "outputs": [
    {
     "name": "stdout",
     "output_type": "stream",
     "text": [
      "white, house -> white house\n",
      "GPT-3:\n",
      "0.8369098553623789\n",
      "------------------------------------------------------\n",
      "OPT:\n",
      "Tokens Requested:\n",
      "['</s>', 'white', ' house']\n",
      "0.8336804357490843\n",
      "------------------------------------------------------\n"
     ]
    }
   ],
   "source": [
    "sim_test([\"white\", \"house\"], 'white house') # this is also valid!"
   ]
  },
  {
   "cell_type": "code",
   "execution_count": 301,
   "metadata": {},
   "outputs": [
    {
     "name": "stdout",
     "output_type": "stream",
     "text": [
      "white house -> Joe Biden\n",
      "GPT-3:\n",
      "0.8575577085369428\n",
      "------------------------------------------------------\n",
      "OPT:\n",
      "Tokens Requested:\n",
      "['</s>', 'white', ' house']\n",
      "Tokens Requested:\n",
      "['</s>', 'Joe', ' Biden']\n",
      "0.3369971\n",
      "------------------------------------------------------\n"
     ]
    }
   ],
   "source": [
    "sim_test(['white house'], 'Joe Biden') # we can even do unique, new tests with our wrappers!"
   ]
  },
  {
   "cell_type": "code",
   "execution_count": 302,
   "metadata": {},
   "outputs": [
    {
     "name": "stdout",
     "output_type": "stream",
     "text": [
      "baby duck\n",
      "GPT-3:\n",
      "[('elect', array([[0.93903434]])), ('pipe', array([[0.92644236]])), ('ink', array([[0.90906323]])), ('federal', array([[0.87660101]])), ('will', array([[0.87258577]])), ('electrical', array([[0.86769641]])), ('purpose', array([[0.86710025]])), ('give', array([[0.86388197]])), ('meat', array([[0.86152264]])), ('birth', array([[0.86036832]])), ('kitten', array([[0.85628729]])), ('underneath', array([[0.8552504]]))]\n",
      "------------------------------------------------------\n",
      "OPT:\n",
      "Tokens Requested:\n",
      "['</s>', 'baby', ' duck']\n",
      "[('baby', array([[0.88773087]])), ('duckling', array([[0.73983023]])), ('boyfriend', array([[0.6958212]])), ('daughter', array([[0.68505451]])), ('girl', array([[0.64308662]])), ('sheep', array([[0.6389099]])), ('granddaughter', array([[0.63541719]])), ('grandson', array([[0.63522208]])), ('chairwoman', array([[0.63346683]])), ('grandchild', array([[0.63198318]])), ('horse', array([[0.63164074]])), ('chairman', array([[0.63016237]]))]\n",
      "------------------------------------------------------\n"
     ]
    }
   ],
   "source": [
    "define(['baby duck'])"
   ]
  },
  {
   "cell_type": "code",
   "execution_count": 303,
   "metadata": {},
   "outputs": [
    {
     "name": "stdout",
     "output_type": "stream",
     "text": [
      "baby, duck -> baby duck\n",
      "GPT-3:\n",
      "0.801534060134556\n",
      "------------------------------------------------------\n",
      "OPT:\n",
      "Tokens Requested:\n",
      "['</s>', 'baby', ' duck']\n",
      "0.8855328136843644\n",
      "------------------------------------------------------\n"
     ]
    }
   ],
   "source": [
    "sim_test(['baby', 'duck'], 'baby duck')"
   ]
  },
  {
   "cell_type": "code",
   "execution_count": 304,
   "metadata": {},
   "outputs": [
    {
     "name": "stdout",
     "output_type": "stream",
     "text": [
      "baby duck -> duckling\n",
      "GPT-3:\n",
      "0.7931393521274706\n",
      "------------------------------------------------------\n",
      "OPT:\n",
      "Tokens Requested:\n",
      "['</s>', 'baby', ' duck']\n",
      "0.7398302282765973\n",
      "------------------------------------------------------\n"
     ]
    }
   ],
   "source": [
    "sim_test(['baby duck'], 'duckling')"
   ]
  },
  {
   "cell_type": "markdown",
   "metadata": {},
   "source": [
    "As some brief discussion before submit, some of these scores are very surprising. That final sim_test has me scratching my head a bit, why did OPT score it at 0.19?\n",
    "\n",
    "There are different sizes of OPT to be tried, but I like the 2048-D vectors from OPT-1.3B, and it didn't use too much cache space. We can (and should) test this on larger versions (Paramenter size can be changed- ['125m', '350m', '1.3b', '2.7b', '6.7b', '13b', '30b']). For reference, 350M has 512-D vectors. If there is an error in vector generation I will fix it, I hope this is easy to use and read."
   ]
  },
  {
   "cell_type": "markdown",
   "metadata": {},
   "source": [
    "Notes:\n",
    "* Average Similarity? How does this look, how can we calculate\n",
    "* Use larger OPT models? Cache them?\n",
    "* Phrase tests :)\n",
    "    * sentences?\n",
    "\n",
    "Early development and language development - which words and concepts come first?"
   ]
  }
 ],
 "metadata": {
  "interpreter": {
   "hash": "61174510596986b89f051fe1fb9b54319a4de5e2848d14238be8667826f54348"
  },
  "kernelspec": {
   "display_name": "Python 3.9.12 64-bit ('aca': conda)",
   "name": "python3"
  },
  "language_info": {
   "codemirror_mode": {
    "name": "ipython",
    "version": 3
   },
   "file_extension": ".py",
   "mimetype": "text/x-python",
   "name": "python",
   "nbconvert_exporter": "python",
   "pygments_lexer": "ipython3",
   "version": "3.10.4"
  },
  "orig_nbformat": 4
 },
 "nbformat": 4,
 "nbformat_minor": 2
}
