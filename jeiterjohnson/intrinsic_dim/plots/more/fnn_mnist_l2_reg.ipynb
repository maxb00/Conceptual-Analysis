{
 "cells": [
  {
   "cell_type": "markdown",
   "metadata": {},
   "source": [
    "# 2-layer FNN on MNIST\n",
    "\n",
    "This is MLP (784-200-200-10) on MNIST. Adam algorithm (lr=0.001) with 100 epoches.\n",
    "\n",
    "\n",
    "#### 100 hidden units\n",
    "\n",
    "    Total params: 89,610\n",
    "    Trainable params: 89,610\n",
    "    Non-trainable params: 0\n",
    "\n",
    "####  200 hidden units\n",
    "\n",
    "    Total params: 199,210\n",
    "    Trainable params: 199,210\n",
    "    Non-trainable params: 0\n",
    "\n",
    "####  200 hidden units with 10 intrinsic dim\n",
    "\n",
    "    Total params: 2,191,320\n",
    "    Trainable params: 10\n",
    "    Non-trainable params: 2,191,310\n",
    "    \n",
    "####  200 hidden units with 5000 intrinsic dim    \n",
    "    Total params: 996,254,210\n",
    "    Trainable params: 5,000\n",
    "    Non-trainable params: 996,249,210    "
   ]
  },
  {
   "cell_type": "code",
   "execution_count": 25,
   "metadata": {
    "collapsed": true
   },
   "outputs": [],
   "source": [
    "import os, sys\n",
    "import numpy as np\n",
    "from matplotlib.pyplot import *\n",
    "%matplotlib inline\n",
    "\n",
    "\"\"\" Extract final stats from resman's diary file\"\"\"\n",
    "def extract_num(lines0, is_reg=False):\n",
    "\n",
    "    if is_reg:\n",
    "        valid_loss_str     = lines0[-5]\n",
    "        valid_accuracy_str = lines0[-6]\n",
    "        train_loss_str     = lines0[-8]\n",
    "        train_accuracy_str = lines0[-9]\n",
    "        average_time_str   = lines0[-10]        \n",
    "        run_time_str       = lines0[-11]   \n",
    "        \n",
    "    else: \n",
    "        valid_loss_str     = lines0[-6]\n",
    "        valid_accuracy_str = lines0[-7]\n",
    "        train_loss_str     = lines0[-10]\n",
    "        train_accuracy_str = lines0[-11]\n",
    "        average_time_str   = lines0[-12]        \n",
    "        run_time_str       = lines0[-13]\n",
    "\n",
    "\n",
    "    valid_loss     = float(valid_loss_str.split( )[-1])\n",
    "    valid_accuracy = float(valid_accuracy_str.split( )[-1])\n",
    "    train_loss     = float(train_loss_str.split( )[-1])\n",
    "    train_accuracy = float(train_accuracy_str.split( )[-1])\n",
    "    run_time       = float(run_time_str.split( )[-1])\n",
    "    \n",
    "    return valid_loss, valid_accuracy, train_loss, train_accuracy, run_time\n",
    "\n",
    "\"\"\" Extract number of total parameters for each net config from resman's diary file\"\"\"\n",
    "def parse_num_params(line0):\n",
    "    line_str = ''.join(lines0)\n",
    "    idx = line_str.find(\"Total params\")\n",
    "    param_str = line_str[idx+14:idx+14+20] # 14 is the length of string \"Total params: \"\n",
    "    param_num = param_str.split(\"\\n\")[0]\n",
    "    return int(locale.atof(param_num))"
   ]
  },
  {
   "cell_type": "code",
   "execution_count": 26,
   "metadata": {},
   "outputs": [
    {
     "name": "stdout",
     "output_type": "stream",
     "text": [
      "../results/fnn_mnist_l2_dir_reg\n",
      "['1', '0.1', '0.01', '0.001', '0.0001', '0.00001', '0.000001', '0.0000001', '0.00000001', '0.000000001', '0']\n",
      "17.10.06.13.56.52.078   final_stats val_accuracy 0.1009\n",
      "\n",
      "L2 penalty: 1\n",
      "(2.30513, 0.1009, 2.30388, 0.10786, 107.788)\n",
      "\n",
      "17.10.06.13.59.21.789   final_stats val_accuracy 0.3702\n",
      "\n",
      "L2 penalty: 0.1\n",
      "(2.26632, 0.3702, 2.27208, 0.3774, 121.687)\n",
      "\n",
      "17.10.06.13.57.06.191   final_stats val_accuracy 0.8779\n",
      "\n",
      "L2 penalty: 0.01\n",
      "(0.834621, 0.8779, 0.830635, 0.89026, 106.953)\n",
      "\n",
      "17.10.06.13.57.09.119   final_stats val_accuracy 0.9697\n",
      "\n",
      "L2 penalty: 0.001\n",
      "(0.250095, 0.9697, 0.240817, 0.972, 105.023)\n",
      "\n",
      "17.10.06.13.57.09.726   final_stats val_accuracy 0.979\n",
      "\n",
      "L2 penalty: 0.0001\n",
      "(0.0960051, 0.979, 0.0398964, 0.99892, 105.282)\n",
      "\n",
      "17.10.06.13.59.29.778   final_stats val_accuracy 0.9818\n",
      "\n",
      "L2 penalty: 0.00001\n",
      "(0.0738053, 0.9818, 0.00647127, 1.0, 117.099)\n",
      "\n",
      "17.10.06.13.56.49.973   final_stats val_accuracy 0.982\n",
      "\n",
      "L2 penalty: 0.000001\n",
      "(0.0997598, 0.982, 0.00143469, 1.0, 107.207)\n",
      "\n",
      "17.10.06.13.57.05.129   final_stats val_accuracy 0.9828\n",
      "\n",
      "L2 penalty: 0.0000001\n",
      "(0.105701, 0.9828, 0.00018196, 1.0, 105.728)\n",
      "\n",
      "17.10.06.13.59.47.417   final_stats val_accuracy 0.9827\n",
      "\n",
      "L2 penalty: 0.00000001\n",
      "(0.107839, 0.9827, 3.17159e-05, 1.0, 119.962)\n",
      "\n",
      "17.10.06.13.57.04.261   final_stats val_accuracy 0.9837\n",
      "\n",
      "L2 penalty: 0.000000001\n",
      "(0.106336, 0.9837, 1.62128e-05, 1.0, 104.502)\n",
      "\n",
      "17.10.06.13.56.47.656   final_stats val_accuracy 0.9837\n",
      "\n",
      "L2 penalty: 0\n",
      "(0.0994206, 0.9837, 1.54391e-05, 1.0, 92.7551)\n",
      "\n",
      "(11, 5)\n"
     ]
    }
   ],
   "source": [
    "results_dir = '../results/fnn_mnist_l2_dir_reg' \n",
    "print results_dir\n",
    "\n",
    "l2_value = [1,0.1,0.01,0.001,0.0001,0.00001,0.000001,0.0000001,0.00000001,0.000000001,0]\n",
    "\n",
    "l2_value_str = []\n",
    "for i in range(len(l2_value)):\n",
    "    if i<len(l2_value)-1:       \n",
    "        v = format(l2_value[i], '.'+str(i)+'f') \n",
    "    else:    \n",
    "        v = format(l2_value[i], '.'+str(0)+'f') \n",
    "    l2_value_str.append(v)\n",
    "    \n",
    "print l2_value_str\n",
    "# dim = [0,250,500,750,1000,1250,1500,1750,1900,1950,2000,2050,2100,2250,2500,3000,4000,5000,5250,5500,5750,6000,6250,6500,6750,7000,7250,7500,7750,8000,8250,8500,8750,9000,9250,9500,9750,10000,15000,20000,25000,30000,35000,40000,45000,50000]\n",
    "dim = [0]\n",
    "\n",
    "# filename list of diary\n",
    "diary_names = []\n",
    "for subdir, dirs, files in os.walk(results_dir):\n",
    "    for file in files:\n",
    "        if file == 'diary':\n",
    "            fname = os.path.join(subdir, file)\n",
    "            diary_names.append(fname)\n",
    "# print diary_names\n",
    "          \n",
    "Rs = []    \n",
    "diary_names_ordered = []\n",
    "error_files = []\n",
    "\n",
    "for l2 in l2_value_str:\n",
    "    for d in dim:\n",
    "        for f in diary_names:\n",
    "            if '_'+str(d)+ '_2_200_'+ l2 +'/' in f:\n",
    "                # print \"%d is in\" % d + f\n",
    "                diary_names_ordered.append(f)        \n",
    "\n",
    "                with open(f,'r') as ff:\n",
    "                    lines0 = ff.readlines()\n",
    "                    try:\n",
    "                        R = extract_num(lines0, l2=='0')\n",
    "                    except ValueError: \n",
    "                        error_files.append((l2,d))\n",
    "                        R = np.zeros(len(R))\n",
    "                        print \"Error. Can not read config: reg %f and dim %d.\" % (l2, d) \n",
    "\n",
    "                    print \"L2 penalty: \"+l2+ \"\\n\"  + str(R) + \"\\n\"                \n",
    "\n",
    "                    Rs.append(R)\n",
    "                                        \n",
    "Rs = np.array(Rs)\n",
    "print Rs.shape"
   ]
  },
  {
   "cell_type": "code",
   "execution_count": null,
   "metadata": {
    "collapsed": true
   },
   "outputs": [],
   "source": []
  },
  {
   "cell_type": "markdown",
   "metadata": {},
   "source": [
    "## Performance comparison with Baseline"
   ]
  },
  {
   "cell_type": "code",
   "execution_count": 44,
   "metadata": {},
   "outputs": [
    {
     "data": {
      "image/png": "[encoded data removed]",
      "text/plain": [
       "<matplotlib.figure.Figure at 0x7f7b5dade050>"
      ]
     },
     "metadata": {},
     "output_type": "display_data"
    },
    {
     "data": {
      "image/png": "[encoded data removed]",
      "text/plain": [
       "<matplotlib.figure.Figure at 0x7f7b5d97f250>"
      ]
     },
     "metadata": {},
     "output_type": "display_data"
    }
   ],
   "source": [
    "N = 11\n",
    "\n",
    "# plot nll\n",
    "fig, ax = subplots(1)\n",
    "\n",
    "font = {'family' : 'normal',\n",
    "        'weight' : 'normal',\n",
    "        'size'   : 16}\n",
    "matplotlib.rc('font', **font)\n",
    "\n",
    "ax.plot(l2_value, Rs[:,0],'bo-', label=\"Testing\")\n",
    "ax.plot(l2_value, Rs[:,2],'go-', label=\"Training\")\n",
    "\n",
    "ax.set_xlabel('L2 penalty')\n",
    "ax.set_ylabel('NLL')\n",
    "ax.set_xscale('log')\n",
    "ax.legend()\n",
    "ax.grid()\n",
    "# ax.set_ylim([-0.1,1.1])\n",
    "fig.set_size_inches(5, 4)\n",
    "\n",
    "\n",
    "\n",
    "# plot acc\n",
    "fig, ax = subplots(1)\n",
    "\n",
    "font = {'family' : 'normal',\n",
    "        'weight' : 'normal',\n",
    "        'size'   : 16}\n",
    "matplotlib.rc('font', **font)\n",
    "\n",
    "ax.plot(l2_value, Rs[:,1],'bo-', label=\"Testing\")\n",
    "ax.plot(l2_value, Rs[:,3],'go-', label=\"Training\")\n",
    "\n",
    "ax.set_xlabel('L2 penalty')\n",
    "ax.set_ylabel('Accuray')\n",
    "ax.set_xscale('log')\n",
    "ax.legend()\n",
    "ax.grid()\n",
    "ax.set_ylim([0.5,1.02])\n",
    "fig.set_size_inches(5, 4)"
   ]
  },
  {
   "cell_type": "code",
   "execution_count": null,
   "metadata": {},
   "outputs": [],
   "source": []
  },
  {
   "cell_type": "code",
   "execution_count": null,
   "metadata": {},
   "outputs": [],
   "source": []
  },
  {
   "cell_type": "markdown",
   "metadata": {},
   "source": [
    "## Performance Per Dim"
   ]
  },
  {
   "cell_type": "code",
   "execution_count": null,
   "metadata": {},
   "outputs": [],
   "source": []
  },
  {
   "cell_type": "code",
   "execution_count": null,
   "metadata": {},
   "outputs": [],
   "source": []
  },
  {
   "cell_type": "code",
   "execution_count": null,
   "metadata": {},
   "outputs": [],
   "source": []
  },
  {
   "cell_type": "code",
   "execution_count": null,
   "metadata": {
    "collapsed": true
   },
   "outputs": [],
   "source": []
  }
 ],
 "metadata": {
  "kernelspec": {
   "display_name": "Python 2",
   "language": "python",
   "name": "python2"
  },
  "language_info": {
   "codemirror_mode": {
    "name": "ipython",
    "version": 2
   },
   "file_extension": ".py",
   "mimetype": "text/x-python",
   "name": "python",
   "nbconvert_exporter": "python",
   "pygments_lexer": "ipython2",
   "version": "2.7.12"
  }
 },
 "nbformat": 4,
 "nbformat_minor": 2
}
