{
 "cells": [
  {
   "cell_type": "markdown",
   "metadata": {},
   "source": [
    "# LeNet on Cifar\n",
    "\n",
    "This is LeNet (6c-16c-120-84) on Cifar10. Adam algorithm (lr=0.001) with 100 epoches.\n",
    "\n",
    "\n",
    "#### LeNet\n",
    "\n",
    "    Total params: 44,426\n",
    "    Trainable params: 44,426\n",
    "    Non-trainable params: 0\n",
    "\n",
    "\n",
    "####  LeNet with 10 intrinsic dim\n",
    "\n",
    "    Total params: 682,076\n",
    "    Trainable params: 10\n",
    "    Non-trainable params: 682,066\n",
    "    \n",
    "#### LeNet with 15000 intrinsic dim    \n",
    "    Total params: 930,167,006\n",
    "    Trainable params: 15,000\n",
    "    Non-trainable params: 930,152,006"
   ]
  },
  {
   "cell_type": "code",
   "execution_count": 1,
   "metadata": {
    "collapsed": true
   },
   "outputs": [],
   "source": [
    "import os, sys\n",
    "import numpy as np\n",
    "import matplotlib.pyplot as plt\n",
    "from matplotlib.pyplot import *\n",
    "%matplotlib inline"
   ]
  },
  {
   "cell_type": "code",
   "execution_count": 2,
   "metadata": {
    "collapsed": true
   },
   "outputs": [],
   "source": [
    "def extract_num(lines0):\n",
    "\n",
    "    valid_loss_str     = lines0[-5]\n",
    "    valid_accuracy_str = lines0[-6]\n",
    "    train_loss_str     = lines0[-8]\n",
    "    train_accuracy_str = lines0[-9]\n",
    "    run_time_str       = lines0[-10]\n",
    "\n",
    "    valid_loss     = float(valid_loss_str.split( )[-1])\n",
    "    valid_accuracy = float(valid_accuracy_str.split( )[-1])\n",
    "    train_loss     = float(train_loss_str.split( )[-1])\n",
    "    train_accuracy = float(train_accuracy_str.split( )[-1])\n",
    "    run_time       = float(run_time_str.split( )[-1])\n",
    "    \n",
    "    return valid_loss, valid_accuracy, train_loss, train_accuracy, run_time"
   ]
  },
  {
   "cell_type": "code",
   "execution_count": 10,
   "metadata": {},
   "outputs": [
    {
     "name": "stdout",
     "output_type": "stream",
     "text": [
      "[0, 250, 500, 750, 1000, 1250, 1500, 1750, 1900, 1950, 2000, 2050, 2100, 2250, 2500, 5000, 10000, 15000, 20000, 25000, 30000, 35000, 40000, 45000, 50000]\n",
      "0 dim:\n",
      "(4.97572, 0.5796, 0.112174, 0.96086, 184.707)\n",
      "\n",
      "250 dim:\n",
      "(1.90655, 0.318, 1.90521, 0.31826, 212.042)\n",
      "\n",
      "500 dim:\n",
      "(1.67792, 0.3904, 1.67412, 0.39842, 217.218)\n",
      "\n",
      "750 dim:\n",
      "(1.55566, 0.4478, 1.54047, 0.45106, 217.959)\n",
      "\n",
      "1000 dim:\n",
      "(1.51612, 0.4622, 1.48594, 0.47296, 208.912)\n",
      "\n",
      "1250 dim:\n",
      "(1.45248, 0.4857, 1.42595, 0.49468, 209.329)\n",
      "\n",
      "1500 dim:\n",
      "(1.44311, 0.4804, 1.40013, 0.49982, 250.536)\n",
      "\n",
      "1750 dim:\n",
      "(1.37514, 0.5181, 1.31392, 0.53806, 211.105)\n",
      "\n",
      "1900 dim:\n",
      "(1.39473, 0.5025, 1.33424, 0.52604, 223.799)\n",
      "\n",
      "1950 dim:\n",
      "(1.37309, 0.5108, 1.32478, 0.5303, 222.919)\n",
      "\n",
      "2000 dim:\n",
      "(1.35499, 0.514, 1.29992, 0.53972, 231.783)\n",
      "\n",
      "2050 dim:\n",
      "(1.3594, 0.5185, 1.30346, 0.54162, 231.263)\n",
      "\n",
      "2100 dim:\n",
      "(1.36086, 0.5206, 1.29395, 0.54252, 229.522)\n",
      "\n",
      "2250 dim:\n",
      "(1.32558, 0.528, 1.27493, 0.5487, 222.882)\n",
      "\n",
      "2500 dim:\n",
      "(1.32359, 0.5344, 1.26351, 0.55712, 252.905)\n",
      "\n",
      "5000 dim:\n",
      "(1.23719, 0.5661, 1.10628, 0.61232, 254.977)\n",
      "\n",
      "10000 dim:\n",
      "(1.15696, 0.6081, 0.894347, 0.68416, 325.688)\n",
      "\n",
      "15000 dim:\n",
      "(1.20768, 0.6072, 0.772271, 0.7278, 399.654)\n",
      "\n",
      "20000 dim:\n",
      "(1.29638, 0.6161, 0.668575, 0.7646, 473.679)\n",
      "\n",
      "25000 dim:\n",
      "(1.36316, 0.6163, 0.592406, 0.78838, 568.811)\n",
      "\n",
      "30000 dim:\n",
      "(1.58397, 0.595, 0.513422, 0.81548, 629.579)\n",
      "\n",
      "35000 dim:\n",
      "(1.84335, 0.609, 0.423732, 0.84598, 707.691)\n",
      "\n",
      "40000 dim:\n",
      "(2.1227, 0.5856, 0.385001, 0.8584, 773.699)\n",
      "\n",
      "45000 dim:\n",
      "(2.28262, 0.5864, 0.333573, 0.87906, 915.193)\n",
      "\n",
      "50000 dim:\n",
      "(2.58714, 0.5696, 0.331673, 0.87816, 986.543)\n",
      "\n",
      "Intrinsic dim is: 2250 for LeNet\n"
     ]
    }
   ],
   "source": [
    "results_dir = '../results/lenet_cifar_l2_0.001'\n",
    "\n",
    "# dim = [0,250,500,750,1000,1250,1500,1750,1900,1950,2000,2050,2100,2250,2500,3000,4000,5000,5250,5500,5750,6000,6250,6500,6750,7000,7250,7500,7750,8000,8250,8500,8750,9000,9250,9500,9750,10000,15000,20000,25000,30000,35000,40000,45000,50000]\n",
    "\n",
    "dim = [0,10,50,100,500,750,1000,1250,1500,1750,1900,1950,2000,2050,2100,2250,2500,5000,10000,15000]\n",
    "i = 0        \n",
    "\n",
    "# filename list of diary\n",
    "diary_names = []\n",
    "for subdir, dirs, files in os.walk(results_dir):\n",
    "    for file in files:\n",
    "        if file == 'diary':\n",
    "            fname = os.path.join(subdir, file)\n",
    "            diary_names.append(fname)\n",
    "\n",
    "dim_ = []            \n",
    "for f in diary_names: \n",
    "    dim_.append( int(f.split('_')[-2]) )         \n",
    "    \n",
    "dim = sorted(dim_) \n",
    "\n",
    "print dim\n",
    "            \n",
    "diary_names_ordered = []\n",
    "for d in dim:\n",
    "    for f in diary_names:\n",
    "        if d == int(f.split('_')[-2]):\n",
    "            # print \"%d is in\" % d + f\n",
    "            diary_names_ordered.append(f)        \n",
    "\n",
    "# intrinsic update method\n",
    "Rs, Acc = [], []\n",
    "i = 0\n",
    "for fname in diary_names_ordered:\n",
    "    with open(fname,'r') as ff:\n",
    "        lines0 = ff.readlines()\n",
    "        R = extract_num(lines0)\n",
    "        print \"%d dim:\\n\"%dim[i] + str(R) + \"\\n\"\n",
    "        i += 1\n",
    "\n",
    "        Rs.append(R)\n",
    "        Acc.append(R[1])\n",
    "                            \n",
    "Rs = np.array(Rs)\n",
    "Acc = np.array(Acc)\n",
    "\n",
    "# 2.2 construct acc_solved_all and dim_solved_all           \n",
    "\n",
    "for id_d in range(len(dim)):\n",
    "    d = dim[id_d]\n",
    "\n",
    "    r = Rs[id_d,1]\n",
    "    if d==0:\n",
    "        test_acc_bl = r        \n",
    "        # print \"Acc goal is: \" + str(test_acc_sl) + \" for network with depth \" + str(ll) + \" width \"+ str(w)\n",
    "    else:\n",
    "        test_acc = r\n",
    "        if test_acc>test_acc_bl*0.9:\n",
    "            acc_solved=test_acc\n",
    "            dim_solved=d\n",
    "            print \"Intrinsic dim is: \" + str(d) + \" for LeNet\"\n",
    "            # print \"\\n\"\n",
    "            break"
   ]
  },
  {
   "cell_type": "code",
   "execution_count": 8,
   "metadata": {},
   "outputs": [
    {
     "name": "stdout",
     "output_type": "stream",
     "text": [
      "[0, 0.5796],[250, 0.318],[500, 0.3904],[750, 0.4478],[1000, 0.4622],[1250, 0.4857],[1500, 0.4804],[1750, 0.5181],[1900, 0.5025],[1950, 0.5108],[2000, 0.514],[2050, 0.5185],[2100, 0.5206],[2250, 0.528],[2500, 0.5344],[5000, 0.5661],[10000, 0.6081],[15000, 0.6072],[20000, 0.6161],[25000, 0.6163],[30000, 0.595],[35000, 0.609],[40000, 0.5856],[45000, 0.5864],[50000, 0.5696]\n"
     ]
    }
   ],
   "source": [
    "print ','.join(['[%i, %s]' % (dim[n], Acc[n]) for n in xrange(len(Acc))])\n"
   ]
  },
  {
   "cell_type": "markdown",
   "metadata": {},
   "source": [
    "## Performance comparison with Baseline\n",
    "\n",
    "\"Baseline method\" indicates optimization in the parameter space.\n",
    "\n",
    "The proposed method first embeds parameters into the intrinisic space (via orthogonal matrix), and optimization is the new space.\n",
    "\n",
    "The dimension of intrinsic space indicates the degree of freedom in the weights of neural nets."
   ]
  },
  {
   "cell_type": "code",
   "execution_count": 5,
   "metadata": {},
   "outputs": [
    {
     "data": {
      "image/png": "[encoded data removed]",
      "text/plain": [
       "<matplotlib.figure.Figure at 0x7f2fcbbbbfd0>"
      ]
     },
     "metadata": {},
     "output_type": "display_data"
    }
   ],
   "source": [
    "fig, ax = subplots(figsize=(6,5) )\n",
    "  \n",
    "font = {'size'   : 12}\n",
    "matplotlib.rc('font', **font)\n",
    "\n",
    "\n",
    "plot(dim[1:], Rs[1:,1], 'o', mec='b', mfc=(.8,.8,1), ms=10)\n",
    "plot(dim_solved, acc_solved, 'o', mec='b', mfc='b', ms=10)\n",
    "axhline(Rs[0,1], ls='-', color='k',label='baseline')\n",
    "axhline(Rs[0,1] * .9, ls=':', color='k',label='solved')\n",
    "plt.legend()\n",
    "ax.set_xlabel('Subspace dim $d$')\n",
    "ax.set_ylabel('Validation accuracy')\n",
    "\n",
    "# ax.set_title('width %d, depth %d' %(width[i], depth[j]))\n",
    "plt.grid()\n",
    "ax.set_ylim([0.3,0.7])\n",
    "        \n",
    "fig.savefig(\"figs/lenet_cifar_dim.pdf\", bbox_inches='tight')"
   ]
  },
  {
   "cell_type": "markdown",
   "metadata": {},
   "source": [
    "The above figure show that updating in the intrinsic space can prevent overfitting.\n"
   ]
  },
  {
   "cell_type": "code",
   "execution_count": 6,
   "metadata": {},
   "outputs": [
    {
     "data": {
      "image/png": "[encoded data removed]",
      "text/plain": [
       "<matplotlib.figure.Figure at 0x7f2fc96d8290>"
      ]
     },
     "metadata": {},
     "output_type": "display_data"
    }
   ],
   "source": [
    "nn = len(Rs)-1\n",
    "fig, ax = subplots(figsize=(5,4) )\n",
    "                  \n",
    "plt.scatter(dim[1:], Rs[1:,0], edgecolor=\"k\", facecolor=\"w\" )\n",
    "ax.plot(dim[1:], Rs[0,0]*np.ones(nn)/0.9,'r-.', label=\"Testing: baseline\")\n",
    "ax.set_xlabel('Intrinsic Dim')\n",
    "ax.set_ylabel('Accuracy')\n",
    "plt.grid()\n",
    "# ax.set_ylim([-0.1,1.1])"
   ]
  },
  {
   "cell_type": "markdown",
   "metadata": {},
   "source": [
    "The above figure show that updating in the intrinsic space can prevent overfitting."
   ]
  },
  {
   "cell_type": "code",
   "execution_count": 21,
   "metadata": {},
   "outputs": [
    {
     "name": "stdout",
     "output_type": "stream",
     "text": [
      "['../results/lrb_lenet_cifar/170818_014656_6c7951e_lrb_lenet_cifar_dir_0/diary', '../results/lrb_lenet_cifar/170820_212952_6c7951e_lrb_lenet_cifar_lrb_18000/diary', '../results/lrb_lenet_cifar/170820_213003_6c7951e_lrb_lenet_cifar_lrb_17000/diary', '../results/lrb_lenet_cifar/170820_205254_6c7951e_lrb_lenet_cifar_lrb_10/diary', '../results/lrb_lenet_cifar/170818_021257_6c7951e_lrb_lenet_cifar_lrb_100000/diary', '../results/lrb_lenet_cifar/170820_204628_6c7951e_lrb_lenet_cifar_lrb_1500/diary', '../results/lrb_lenet_cifar/170820_204627_6c7951e_lrb_lenet_cifar_lrb_2000/diary', '../results/lrb_lenet_cifar/170820_205619_6c7951e_lrb_lenet_cifar_lrb_100/diary', '../results/lrb_lenet_cifar/170820_214922_6c7951e_lrb_lenet_cifar_lrb_25000/diary', '../results/lrb_lenet_cifar/170820_204647_6c7951e_lrb_lenet_cifar_lrb_4000/diary', '../results/lrb_lenet_cifar/170820_205142_6c7951e_lrb_lenet_cifar_lrb_50/diary', '../results/lrb_lenet_cifar/170818_030211_6c7951e_lrb_lenet_cifar_lrb_150000/diary', '../results/lrb_lenet_cifar/170820_205118_6c7951e_lrb_lenet_cifar_lrb_1750/diary', '../results/lrb_lenet_cifar/170820_213052_6c7951e_lrb_lenet_cifar_lrb_19000/diary', '../results/lrb_lenet_cifar/170820_204555_6c7951e_lrb_lenet_cifar_lrb_250/diary', '../results/lrb_lenet_cifar/170820_204616_6c7951e_lrb_lenet_cifar_lrb_5000/diary', '../results/lrb_lenet_cifar/170820_204616_6c7951e_lrb_lenet_cifar_lrb_750/diary', '../results/lrb_lenet_cifar/170818_021211_6c7951e_lrb_lenet_cifar_lrb_21000/diary', '../results/lrb_lenet_cifar/170818_021258_6c7951e_lrb_lenet_cifar_lrb_50000/diary', '../results/lrb_lenet_cifar/170820_205035_6c7951e_lrb_lenet_cifar_lrb_1000/diary', '../results/lrb_lenet_cifar/170818_024836_6c7951e_lrb_lenet_cifar_lrb_40000/diary', '../results/lrb_lenet_cifar/170820_213108_6c7951e_lrb_lenet_cifar_lrb_20000/diary', '../results/lrb_lenet_cifar/170820_213036_6c7951e_lrb_lenet_cifar_lrb_16000/diary', '../results/lrb_lenet_cifar/170820_205101_6c7951e_lrb_lenet_cifar_lrb_500/diary', '../results/lrb_lenet_cifar/170820_204603_6c7951e_lrb_lenet_cifar_lrb_1250/diary', '../results/lrb_lenet_cifar/170820_213130_6c7951e_lrb_lenet_cifar_lrb_45000/diary', '../results/lrb_lenet_cifar/170818_021311_6c7951e_lrb_lenet_cifar_lrb_30000/diary', '../results/lrb_lenet_cifar/170820_205131_6c7951e_lrb_lenet_cifar_lrb_3000/diary', '../results/lrb_lenet_cifar/170820_204547_6c7951e_lrb_lenet_cifar_lrb_10000/diary', '../results/lrb_lenet_cifar/170820_205141_6c7951e_lrb_lenet_cifar_lrb_15000/diary', '../results/lrb_lenet_cifar/170820_213029_6c7951e_lrb_lenet_cifar_lrb_35000/diary', '../results/lrb_lenet_cifar/170820_205019_6c7951e_lrb_lenet_cifar_lrb_2500/diary']\n",
      "[0, 10, 50, 100, 250, 500, 750, 1000, 1250, 1500, 1750, 2000, 2500, 3000, 4000, 5000, 10000, 15000, 16000, 17000, 18000, 19000, 20000, 21000, 25000, 30000, 35000, 40000, 45000, 50000, 100000, 150000]\n",
      "(32, 5)\n",
      "Intrinsic dim is: 40000 for LeNet\n"
     ]
    }
   ],
   "source": [
    "results_dir = '../results/lrb_lenet_cifar' \n",
    "i = 0        \n",
    "\n",
    "# filename list of diary\n",
    "diary_names = []\n",
    "for subdir, dirs, files in os.walk(results_dir):\n",
    "    for file in files:\n",
    "        if file == 'diary':\n",
    "            fname = os.path.join(subdir, file)\n",
    "            diary_names.append(fname)\n",
    "\n",
    "print diary_names            \n",
    "dim_ = []            \n",
    "for f in diary_names: \n",
    "    dim_.append( int(f.split('/')[-2].split('_')[-1]) )         \n",
    "    \n",
    "dim = sorted(dim_) \n",
    "\n",
    "print dim\n",
    "            \n",
    "diary_names_ordered = []\n",
    "for d in dim:\n",
    "    for f in diary_names:\n",
    "        if d ==  int(f.split('/')[-2].split('_')[-1]):\n",
    "            # print \"%d is in\" % d + f\n",
    "            diary_names_ordered.append(f)        \n",
    "\n",
    "# intrinsic update method\n",
    "Rs, Acc = [], []\n",
    "i = 0\n",
    "for fname in diary_names_ordered:\n",
    "    with open(fname,'r') as ff:\n",
    "        lines0 = ff.readlines()\n",
    "        R = extract_num(lines0)\n",
    "        # print \"%d dim:\\n\"%dim[i] + str(R) + \"\\n\"\n",
    "        i += 1\n",
    "\n",
    "        Rs.append(R)\n",
    "        Acc.append(R[1])\n",
    "                            \n",
    "Rs = np.array(Rs)\n",
    "Acc = np.array(Acc)\n",
    "\n",
    "print Rs.shape\n",
    "\n",
    "# 2.2 construct acc_solved_all and dim_solved_all           \n",
    "\n",
    "for id_d in range(len(dim)):\n",
    "    d = dim[id_d]\n",
    "\n",
    "    r = Rs[id_d,1]\n",
    "    if d==0:\n",
    "        test_acc_bl = r        \n",
    "        # print \"Acc goal is: \" + str(test_acc_sl) + \" for network with depth \" + str(ll) + \" width \"+ str(w)\n",
    "    else:\n",
    "        test_acc = r\n",
    "        if test_acc>test_acc_bl*0.9:\n",
    "            acc_solved=test_acc\n",
    "            dim_solved=d\n",
    "            print \"Intrinsic dim is: \" + str(d) + \" for LeNet\"\n",
    "            # print \"\\n\"\n",
    "            break"
   ]
  },
  {
   "cell_type": "code",
   "execution_count": 22,
   "metadata": {},
   "outputs": [
    {
     "name": "stdout",
     "output_type": "stream",
     "text": [
      "[0, 0.6469],[10, 0.1176],[50, 0.1026],[100, 0.1049],[250, 0.1126],[500, 0.1674],[750, 0.2198],[1000, 0.2655],[1250, 0.2956],[1500, 0.3113],[1750, 0.3207],[2000, 0.3613],[2500, 0.333],[3000, 0.3506],[4000, 0.3959],[5000, 0.4146],[10000, 0.5138],[15000, 0.5377],[16000, 0.5384],[17000, 0.5239],[18000, 0.5364],[19000, 0.5355],[20000, 0.5514],[21000, 0.5423],[25000, 0.5521],[30000, 0.5752],[35000, 0.5747],[40000, 0.5881],[45000, 0.6003],[50000, 0.6058],[100000, 0.5749],[150000, 0.1627]\n"
     ]
    }
   ],
   "source": [
    "print ','.join(['[%i, %s]' % (dim[n], Acc[n]) for n in xrange(len(Acc))])\n"
   ]
  },
  {
   "cell_type": "code",
   "execution_count": 54,
   "metadata": {
    "collapsed": true
   },
   "outputs": [],
   "source": [
    "\"\"\" Extract final stats from resman's diary file\"\"\"\n",
    "def extract_num(lines0, is_reg=False):\n",
    "\n",
    "    if is_reg:\n",
    "        valid_loss_str     = lines0[-5]\n",
    "        valid_accuracy_str = lines0[-6]\n",
    "        train_loss_str     = lines0[-8]\n",
    "        train_accuracy_str = lines0[-9]\n",
    "        average_time_str   = lines0[-10]        \n",
    "        run_time_str       = lines0[-11]   \n",
    "        \n",
    "    else: \n",
    "        valid_loss_str     = lines0[-6]\n",
    "        valid_accuracy_str = lines0[-7]\n",
    "        train_loss_str     = lines0[-10]\n",
    "        train_accuracy_str = lines0[-11]\n",
    "        average_time_str   = lines0[-12]        \n",
    "        run_time_str       = lines0[-13]\n",
    "\n",
    "    valid_loss     = float(valid_loss_str.split( )[-1])\n",
    "    valid_accuracy = float(valid_accuracy_str.split( )[-1])\n",
    "    train_loss     = float(train_loss_str.split( )[-1])\n",
    "    train_accuracy = float(train_accuracy_str.split( )[-1])\n",
    "    run_time       = float(run_time_str.split( )[-1])\n",
    "    \n",
    "    return valid_loss, valid_accuracy, train_loss, train_accuracy, run_time\n",
    "\n",
    "\"\"\" Extract number of total parameters for each net config from resman's diary file\"\"\"\n",
    "def parse_num_params(lines0):\n",
    "    line_str = ''.join(lines0)\n",
    "    idx = line_str.find(\"Total params\")\n",
    "    param_str = line_str[idx+14:idx+14+20] # 14 is the length of string \"Total params: \"\n",
    "    param_num = param_str.split(\"\\n\")[0]\n",
    "    return int(locale.atof(param_num))\n",
    "\n",
    "def extract_perf_dim(results_dir):\n",
    "    # Dim: subspace dim\n",
    "    # Acc: Accuracy\n",
    "    \n",
    "    # filename list of diary\n",
    "    diary_names = []\n",
    "    for subdir, dirs, files in os.walk(results_dir):\n",
    "        for f in files:\n",
    "            if f == 'diary':\n",
    "                fname = os.path.join(subdir, f)\n",
    "                diary_names.append(fname)\n",
    "\n",
    "    # print diary_names   \n",
    "\n",
    "    dim = []\n",
    "    for f in diary_names:\n",
    "        # print f\n",
    "        tmp_str = f.split('/')[-2]\n",
    "        if tmp_str.split('_')[-3]=='LeNet':\n",
    "            d = int(tmp_str.split('_')[-2])\n",
    "            dim.append(d)\n",
    "\n",
    "    dim = list(set(dim))\n",
    "    dim = sorted(dim)  \n",
    "\n",
    "    # print dim\n",
    "\n",
    "    diary_names_ordered = []\n",
    "    for d in dim:\n",
    "        for f in diary_names:\n",
    "            if '_LeNet_'+str(d)+'_' in f and f.split('_')[-3]=='LeNet':\n",
    "                # print \"%d is in\" % d + f\n",
    "                diary_names_ordered.append(f)           \n",
    "    # print diary_names_ordered\n",
    "    # intrinsic update method\n",
    "    Dim= []\n",
    "    Acc = []\n",
    "\n",
    "    for fname in diary_names_ordered:\n",
    "        tmp_str = fname.split('/')[-2]\n",
    "        d = int(tmp_str.split('_')[-2])\n",
    "        with open(fname,'r') as ff:\n",
    "            lines0 = ff.readlines()\n",
    "\n",
    "            try: \n",
    "                r = extract_num(lines0,False)[1]\n",
    "                # print \"%d dim:\\n\"% d + str(r) + \"\\n\"\n",
    "                Dim.append(d)\n",
    "                Acc.append(r)\n",
    "\n",
    "            except ValueError:\n",
    "                print \"%d dim:\\n\"%d + \"Error \\n\"\n",
    "                pass\n",
    "\n",
    "    return Dim, Acc\n"
   ]
  },
  {
   "cell_type": "code",
   "execution_count": 58,
   "metadata": {
    "collapsed": true
   },
   "outputs": [],
   "source": [
    "def plot_perf_dim(Dim, Acc, Cx=None):\n",
    "    fig, ax = subplots(figsize=(6,5) )\n",
    "\n",
    "    font = {'size'   : 12}\n",
    "    matplotlib.rc('font', **font)\n",
    "\n",
    "    for i in range(len(Dim)):\n",
    "        if Cx == None:\n",
    "            if Acc[i]>Acc[0]*0.9 and i>10:\n",
    "                print \"d_{int}=\"+str(Dim[i]) + ', acc:' + str(Acc[i])\n",
    "                break\n",
    "        else: \n",
    "            if Acc[i]>Cx and i>10:\n",
    "                print \"d_{int}=\"+str(Dim[i]) + ', acc:' + str(Acc[i])\n",
    "                break\n",
    "                \n",
    "            \n",
    "    \n",
    "    plot(Dim[4:], Acc[4:], 'o', mec='b', mfc=(.8,.8,1), ms=10)\n",
    "    plot(Dim[i], Acc[i], 'o', mec='b', mfc='b', ms=10)\n",
    "    axhline(Acc[0], ls='-', color='k',label='baseline')\n",
    "    axhline(Acc[0] * .9, ls=':', color='k',label='solved')\n",
    "    plt.legend()\n",
    "    ax.set_xlabel('Subspace dimension $d$')\n",
    "    ax.set_ylabel('Validation accuracy')\n",
    "\n",
    "    # ax.set_title('Cifar: Untied_LeNet' )\n",
    "    plt.grid()\n",
    "    ax.set_ylim([0.0,1.01])\n",
    "    # fig.savefig(\"figs/fnn_mnistPL_W\"+str(width[i])+\"_L\"+str(depth[j])+\".pdf\", bbox_inches='tight')\n"
   ]
  },
  {
   "cell_type": "code",
   "execution_count": 59,
   "metadata": {},
   "outputs": [
    {
     "name": "stdout",
     "output_type": "stream",
     "text": [
      "d_{int}=1750, acc:0.5015\n"
     ]
    },
    {
     "data": {
      "image/png": "[encoded data removed]",
      "text/plain": [
       "<matplotlib.figure.Figure at 0x7f2fc95aaf90>"
      ]
     },
     "metadata": {},
     "output_type": "display_data"
    }
   ],
   "source": [
    "results_root = '/home/users/chunyuan.li/public_results/chun/'\n",
    "\n",
    "\n",
    "exp_folder = 'results_cifar_LeNet'\n",
    "results_dir = results_root + exp_folder\n",
    "Dim, Acc= extract_perf_dim(results_dir)\n",
    "# print Dim, Acc\n",
    "plot_perf_dim(Dim, Acc, 0.5)"
   ]
  },
  {
   "cell_type": "code",
   "execution_count": 61,
   "metadata": {},
   "outputs": [
    {
     "name": "stdout",
     "output_type": "stream",
     "text": [
      "[0, 0.5875],[0, 0.5754],[0, 0.589],[100, 0.2294],[100, 0.2295],[500, 0.3844],[500, 0.3832],[500, 0.3843],[750, 0.4264],[750, 0.4251],[750, 0.423],[1000, 0.4642],[1000, 0.4607],[1000, 0.4633],[1250, 0.4766],[1250, 0.4773],[1250, 0.4786],[1500, 0.4899],[1500, 0.4922],[1500, 0.4891],[1750, 0.5015],[1750, 0.5021],[1750, 0.5035],[1900, 0.497],[1900, 0.4996],[1900, 0.4979],[1950, 0.5034],[1950, 0.5022],[1950, 0.504],[2000, 0.506],[2000, 0.5057],[2000, 0.5037],[2050, 0.5038],[2050, 0.4999],[2050, 0.4999],[2100, 0.5095],[2100, 0.5087],[2100, 0.5088],[2250, 0.5084],[2250, 0.5076],[2250, 0.5072],[2400, 0.5112],[2400, 0.5165],[2400, 0.5146],[2500, 0.5173],[2500, 0.5184],[2500, 0.516],[2600, 0.5223],[2600, 0.5199],[2600, 0.5205],[2750, 0.5229],[2750, 0.5253],[2750, 0.5247],[2900, 0.533],[2900, 0.5317],[2900, 0.5375],[3000, 0.5324],[3000, 0.5327],[3000, 0.5316],[4000, 0.5578],[4000, 0.5572],[4000, 0.5565],[5000, 0.5599],[5000, 0.5646],[5000, 0.5629],[10000, 0.5967],[10000, 0.5987],[10000, 0.5993],[15000, 0.602],[15000, 0.6114],[15000, 0.6084],[20000, 0.6102],[20000, 0.5987],[20000, 0.6029],[25000, 0.6079],[25000, 0.6001],[25000, 0.5979],[30000, 0.5951],[30000, 0.5921],[30000, 0.5963],[35000, 0.6007],[35000, 0.598],[35000, 0.5918],[40000, 0.5952],[40000, 0.6011],[40000, 0.5935],[45000, 0.5892],[45000, 0.5886],[45000, 0.5916],[50000, 0.602],[50000, 0.5942],[50000, 0.6055],[55000, 0.5934],[55000, 0.5857],[55000, 0.5931],[60000, 0.5938],[60000, 0.5966],[60000, 0.5934],[62006, 0.5969],[62006, 0.5886],[62006, 0.5926]\n"
     ]
    }
   ],
   "source": [
    "print ','.join(['[%i, %s]' % (Dim[n], Acc[n]) for n in xrange(len(Dim))])"
   ]
  },
  {
   "cell_type": "code",
   "execution_count": null,
   "metadata": {
    "collapsed": true
   },
   "outputs": [],
   "source": []
  }
 ],
 "metadata": {
  "kernelspec": {
   "display_name": "Python 2",
   "language": "python",
   "name": "python2"
  },
  "language_info": {
   "codemirror_mode": {
    "name": "ipython",
    "version": 2
   },
   "file_extension": ".py",
   "mimetype": "text/x-python",
   "name": "python",
   "nbconvert_exporter": "python",
   "pygments_lexer": "ipython2",
   "version": "2.7.12"
  }
 },
 "nbformat": 4,
 "nbformat_minor": 2
}
