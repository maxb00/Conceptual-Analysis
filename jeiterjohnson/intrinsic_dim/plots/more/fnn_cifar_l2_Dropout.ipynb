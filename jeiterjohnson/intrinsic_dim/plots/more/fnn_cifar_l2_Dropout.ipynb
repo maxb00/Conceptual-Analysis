{
 "cells": [
  {
   "cell_type": "markdown",
   "metadata": {},
   "source": [
    "# 2-layer FNN on Cifar\n",
    "\n",
    "This is MLP (784-X^W-10) on MNIST. SGD algorithm (lr=0.1) with 100 epoches.\n",
    "\n",
    " "
   ]
  },
  {
   "cell_type": "code",
   "execution_count": 1,
   "metadata": {
    "collapsed": true
   },
   "outputs": [],
   "source": [
    "import os, sys\n",
    "import numpy as np\n",
    "from matplotlib.pyplot import *\n",
    "import locale\n",
    "locale.setlocale(locale.LC_ALL, 'en_US.UTF-8')\n",
    "\n",
    "import matplotlib.cm as cm\n",
    "import matplotlib.pyplot as plt\n",
    "import matplotlib.font_manager as font_manager\n",
    "import seaborn as sns\n",
    "import itertools\n",
    "\n",
    "\n",
    "%matplotlib inline"
   ]
  },
  {
   "cell_type": "code",
   "execution_count": 2,
   "metadata": {
    "collapsed": true
   },
   "outputs": [],
   "source": [
    "\"\"\" Extract final stats from resman's diary file\"\"\"\n",
    "def extract_num(lines0):\n",
    "\n",
    "    valid_loss_str     = lines0[-5]\n",
    "    valid_accuracy_str = lines0[-6]\n",
    "    train_loss_str     = lines0[-8]\n",
    "    train_accuracy_str = lines0[-9]\n",
    "    run_time_str       = lines0[-10]\n",
    "\n",
    "    valid_loss     = float(valid_loss_str.split( )[-1])\n",
    "    valid_accuracy = float(valid_accuracy_str.split( )[-1])\n",
    "    train_loss     = float(train_loss_str.split( )[-1])\n",
    "    train_accuracy = float(train_accuracy_str.split( )[-1])\n",
    "    run_time       = float(run_time_str.split( )[-1])\n",
    "    \n",
    "    return valid_loss, valid_accuracy, train_loss, train_accuracy, run_time\n",
    "\n",
    "\"\"\" Extract number of total parameters for each net config from resman's diary file\"\"\"\n",
    "def parse_num_params(line0):\n",
    "    line_str = ''.join(lines0)\n",
    "    idx = line_str.find(\"Total params\")\n",
    "    param_str = line_str[idx+14:idx+14+20] # 14 is the length of string \"Total params: \"\n",
    "    param_num = param_str.split(\"\\n\")[0]\n",
    "    return int(locale.atof(param_num))"
   ]
  },
  {
   "cell_type": "markdown",
   "metadata": {},
   "source": [
    "#### Extract results from diary file\n",
    "\n",
    "    1. Number of params\n",
    "    2. Loss/Accuarcy for training/testing\n",
    "    3. Runing time"
   ]
  },
  {
   "cell_type": "code",
   "execution_count": 53,
   "metadata": {
    "scrolled": true
   },
   "outputs": [],
   "source": [
    "results_dir = '../results/lrb_lenet_cifar_no_dropout'\n",
    "       \n",
    "depth = [2]\n",
    "width = [200]\n",
    "dim_   = [0,600,800,1000,1250,1500,2500,3500,4500,5500,6000,6500,7000,7250,7500,7750,8000,9000,10000,15000]\n",
    "\n",
    "sr=0.9 # solved ratio\n",
    "\n",
    "\n",
    "########## 1. filename list of diary ########################\n",
    "diary_names = []\n",
    "for subdir, dirs, files in os.walk(results_dir):\n",
    "    for file in files:\n",
    "        if file == 'diary':\n",
    "            fname = os.path.join(subdir, file)\n",
    "            diary_names.append(fname)\n",
    "            \n",
    "# print diary_names\n",
    "\n",
    "########## 2. Construct stats (width, depth, dim) ##########\n",
    "# acc_test_all : Tensor (width, depth, dim)\n",
    "# num_param_all: Tensor (width, depth)\n",
    "# acc_solved_all:  Tensor (width, depth)\n",
    "# dim_solved_all:  Tensor (width, depth)\n",
    "############################################################\n",
    "nw, nd, nn= len(width), len(depth), len(dim)\n",
    "\n",
    "acc_test_all  = np.zeros((len(width), len(depth), len(dim)))\n",
    "num_param_all = np.zeros((len(width), len(depth)))\n",
    "acc_solved_all = np.zeros((len(width), len(depth)))\n",
    "dim_solved_all = np.zeros((len(width), len(depth)))\n",
    "\n",
    "mode = 1         # {0: test loss, 1: test acc}\n",
    "error_files = [] #  record the error file\n",
    "\n",
    "# 2.1 construct acc_test_all and num_param_all\n",
    "\n",
    "            \n",
    "# 2.1.1 Read the results \n",
    "ll, ww, dim= depth[0], width[0], []\n",
    "results_ = []\n",
    "for f in diary_names:\n",
    "    fname = f.split('/')[-2]\n",
    "    d = int(fname.split('_')[-1])\n",
    "    dim.append(d)\n",
    "    # print str(d)+'_'+str(ll)+'_'+str(w)\n",
    "\n",
    "    with open(f,'r') as ff:\n",
    "        lines0 = ff.readlines()\n",
    "        try:\n",
    "            R = extract_num(lines0)\n",
    "            R = np.array(R)\n",
    "\n",
    "        except ValueError:\n",
    "            error_files.append((w,ll,d))\n",
    "            R = np.zeros(len(R))\n",
    "            print \"Error. Can not read config: depth %d, width %d and dim %d.\" % (ll, w, d) \n",
    "            # break\n",
    "            \n",
    "    results_.append(R)\n",
    "      \n",
    "idx = np.argsort(np.array(dim)) \n",
    "\n",
    "                   \n",
    "# 2.2 Assign the results, construct acc_solved_all and dim_solved_all           \n",
    "id_w,id_ll = 0,0\n",
    "results = []\n",
    "for id_d in range(len(dim)):\n",
    "    d = dim[id_d]\n",
    "    i = idx[id_d]\n",
    "    results.append(results_[i])\n",
    "    \n",
    "    \n",
    "    if d==0:\n",
    "        test_acc_bl = results_[i][1]        \n",
    "        # print \"Acc goal is: \" + str(test_acc_sl) + \" for network with depth \" + str(ll) + \" width \"+ str(w)\n",
    "    else:\n",
    "        test_acc = r\n",
    "        if test_acc>test_acc_bl*sr:\n",
    "            acc_solved_all[id_w,id_ll]=test_acc\n",
    "            dim_solved_all[id_w,id_ll]=d\n",
    "            # print \"Intrinsic dim is: \" + str(d) + \" for network with depth \" + str(ll) + \" width \"+ str(w)\n",
    "            # print \"\\n\"\n",
    "            # break\n",
    "            \n",
    "results = np.array(results)            \n",
    "\n",
    "########## 3. Construct Tensors for Analysis (width, depth, dim) ##########                    \n",
    "acc_base  = acc_test_all[:,:,0]\n",
    "acc_solve = acc_base*sr\n",
    "                                       "
   ]
  },
  {
   "cell_type": "code",
   "execution_count": 54,
   "metadata": {},
   "outputs": [
    {
     "name": "stdout",
     "output_type": "stream",
     "text": [
      "(30, 5)\n",
      "[    0    10    50   100   250   500   750  1000  1250  1500  1750  2000\n",
      "  2500  3000  4000  5000 10000 15000 16000 17000 18000 19000 20000 21000\n",
      " 25000 30000 35000 40000 45000 50000]\n",
      "Baseline results\n",
      "0.4857\n",
      "# Parmas\n",
      "[[ 0.]]\n",
      "Cross-line results\n",
      "[[ 0.]]\n",
      "Cross-line Dim\n",
      "[[ 0.]]\n",
      "Dim 50000 results\n",
      "[[ 0.]]\n"
     ]
    }
   ],
   "source": [
    "dim = np.sort(dim)\n",
    "print results.shape\n",
    "print dim\n",
    "\n",
    "print \"Baseline results\"\n",
    "print test_acc_bl\n",
    "\n",
    "print \"# Parmas\"\n",
    "print num_param_all\n",
    "\n",
    "print \"Cross-line results\"\n",
    "print acc_solved_all\n",
    "\n",
    "print \"Cross-line Dim\"\n",
    "print dim_solved_all\n",
    "\n",
    "print \"Dim %d results\" % dim[-1]\n",
    "print acc_test_all[:,:,-1]"
   ]
  },
  {
   "cell_type": "markdown",
   "metadata": {},
   "source": [
    "#### List the config of depth and width, which yields errors in training"
   ]
  },
  {
   "cell_type": "code",
   "execution_count": 45,
   "metadata": {},
   "outputs": [
    {
     "name": "stdout",
     "output_type": "stream",
     "text": [
      "Error in the following configs: width, depth and dim\n",
      "[]\n",
      "[]\n",
      "[]\n",
      "Shape of accuracy tensor: (1, 1, 19)\n"
     ]
    }
   ],
   "source": [
    "E_width, E_depth, E_dim = [],[],[]\n",
    "for item in error_files:\n",
    "    E_width.append(item[0]) \n",
    "    E_depth.append(item[1])\n",
    "    E_dim.append(item[2])\n",
    "\n",
    "str_E_width = \"\".join(str(E_width)).replace(',', '')\n",
    "str_E_depth = \"\".join(str(E_depth)).replace(',', '')\n",
    "str_E_dim   = \"\".join(str(E_dim)).replace(',', '')\n",
    "\n",
    "print \"Error in the following configs: width, depth and dim\"\n",
    "print str_E_width\n",
    "print str_E_depth\n",
    "print str_E_dim\n",
    "\n",
    "print \"Shape of accuracy tensor: \" + str(acc_test_all.shape)"
   ]
  },
  {
   "cell_type": "markdown",
   "metadata": {},
   "source": [
    "-------------------------"
   ]
  },
  {
   "cell_type": "markdown",
   "metadata": {},
   "source": [
    "#### Check the accuracy of specific depth and width, along different dim"
   ]
  },
  {
   "cell_type": "code",
   "execution_count": 46,
   "metadata": {
    "collapsed": true
   },
   "outputs": [],
   "source": [
    "def check_cfg_results (depth, width, lines0): \n",
    "    for d in dim:\n",
    "        # 1. read the results\n",
    "        for f in diary_names:\n",
    "            if '_'+str(d)+'_'+str(depth)+'_'+str(width)+'/' in f:\n",
    "                # print \"%d is in\" % d + f\n",
    "                diary_names_ordered.append(f)\n",
    "                with open(f,'r') as ff:\n",
    "                    lines0 = ff.readlines()\n",
    "                    try:\n",
    "                        # print lines0\n",
    "                        param_num = parse_num_params(lines0)\n",
    "                        R = extract_num(lines0)\n",
    "                        print R[1]\n",
    "\n",
    "                    except ValueError:\n",
    "                        print \"Error: Can not read\"\n",
    "                        break                                               "
   ]
  },
  {
   "cell_type": "markdown",
   "metadata": {},
   "source": [
    "Reshape the tensor to 1D for plots"
   ]
  },
  {
   "cell_type": "code",
   "execution_count": null,
   "metadata": {},
   "outputs": [],
   "source": []
  },
  {
   "cell_type": "markdown",
   "metadata": {},
   "source": [
    "### Testing Accuracy wrt. Width, Depth and Dim"
   ]
  },
  {
   "cell_type": "code",
   "execution_count": 48,
   "metadata": {},
   "outputs": [
    {
     "data": {
      "text/plain": [
       "<matplotlib.legend.Legend at 0x7fdf060c74d0>"
      ]
     },
     "execution_count": 48,
     "metadata": {},
     "output_type": "execute_result"
    },
    {
     "data": {
      "image/png": "[encoded data removed]",
      "text/plain": [
       "<matplotlib.figure.Figure at 0x7fdf058a9950>"
      ]
     },
     "metadata": {},
     "output_type": "display_data"
    }
   ],
   "source": [
    "import matplotlib.cm as cm\n",
    "import matplotlib.pyplot as plt\n",
    "import matplotlib.font_manager as font_manager\n",
    "import seaborn as sns\n",
    "\n",
    "plt.figure(figsize=(20,5.0))\n",
    "\n",
    "for i in range(acc_test_all.shape[2]):\n",
    "    acc = acc_test_all[:,:,i].reshape(len(depth)*len(width),order='F')\n",
    "    if i==0:\n",
    "        plt.scatter(fig_params_1d, acc, s=(np.array(fig_width)**1.8)/100, c=fig_depth, edgecolors='k') \n",
    "        plt.scatter(fig_params_1d, sr*acc, marker=\"_\", s=300, c='k', edgecolors='r') \n",
    "    else:\n",
    "        plt.scatter(fig_params_1d, acc, s=(np.array(fig_width)**1.8)/100, c=fig_depth, facecolors='None', linewidth=np.array(dim[i])/300.0) \n",
    "\n",
    "        \n",
    "ax = plt.gca()\n",
    "plt.colorbar(label=\"Depth\")\n",
    "\n",
    "ax.set_xscale('log')\n",
    "ax.grid(True)\n",
    "\n",
    "ax.set_ylim(0.1, 1.0)\n",
    "ax.set_xlim(0.3E5, 1.5E6)\n",
    "\n",
    "plt.xlabel('# parameters')\n",
    "plt.ylabel('# accuracy')\n",
    "\n",
    "#make a legend:\n",
    "pws = width\n",
    "for pw in pws:\n",
    "    plt.scatter([], [], s=(pw**1.8)/1000, c=\"k\",label=str(pw))\n",
    "\n",
    "h, l = plt.gca().get_legend_handles_labels()\n",
    "plt.legend(h[0:], l[0:], labelspacing=1.2, title=\"layer width\", borderpad=1, loc='best', bbox_to_anchor=(1.25, 1),\n",
    "             frameon=True, framealpha=0.6, edgecolor=\"k\", facecolor=\"w\")\n",
    "\n",
    " \n",
    "    "
   ]
  },
  {
   "cell_type": "markdown",
   "metadata": {},
   "source": [
    "#### Testing Accuracy of Intrinsic dim for #parameters"
   ]
  },
  {
   "cell_type": "code",
   "execution_count": 49,
   "metadata": {},
   "outputs": [
    {
     "data": {
      "text/plain": [
       "<matplotlib.legend.Legend at 0x7fdf05108550>"
      ]
     },
     "execution_count": 49,
     "metadata": {},
     "output_type": "execute_result"
    },
    {
     "data": {
      "image/png": "[encoded data removed]",
      "text/plain": [
       "<matplotlib.figure.Figure at 0x7fdf05470ad0>"
      ]
     },
     "metadata": {},
     "output_type": "display_data"
    }
   ],
   "source": [
    "plt.figure(figsize=(20,5))\n",
    "\n",
    "\n",
    "plt.scatter(fig_params_1d, acc_solved_all_1d, s=(np.array(fig_width)**2.0)/100, c=fig_depth, edgecolors='k') \n",
    "\n",
    "ax = plt.gca()\n",
    "plt.colorbar(label=\"Depth\")\n",
    "\n",
    "ax.set_xscale('log')\n",
    "ax.grid(True)\n",
    "\n",
    "ax.set_ylim(0.0, 1.0)\n",
    "ax.set_xlim(0.3E5, 1.5E6)\n",
    "\n",
    "\n",
    "plt.xlabel('# parameters')\n",
    "plt.ylabel('# accuracy')\n",
    "\n",
    "#make a legend:\n",
    "pws = width\n",
    "for pw in pws:\n",
    "    plt.scatter([], [], s=(pw**1.8)/100, c=\"k\",label=str(pw))\n",
    "\n",
    "h, l = plt.gca().get_legend_handles_labels()\n",
    "plt.legend(h[0:], l[0:], labelspacing=1.2, title=\"layer width\", borderpad=1, \n",
    "            frameon=True, framealpha=0.6, edgecolor=\"k\", facecolor=\"w\")"
   ]
  },
  {
   "cell_type": "code",
   "execution_count": null,
   "metadata": {
    "collapsed": true
   },
   "outputs": [],
   "source": []
  },
  {
   "cell_type": "markdown",
   "metadata": {},
   "source": [
    "#### Intrinsic dim for #parameters"
   ]
  },
  {
   "cell_type": "code",
   "execution_count": null,
   "metadata": {},
   "outputs": [],
   "source": []
  },
  {
   "cell_type": "markdown",
   "metadata": {},
   "source": [
    "## Performance comparison with Baseline"
   ]
  },
  {
   "cell_type": "code",
   "execution_count": 59,
   "metadata": {},
   "outputs": [
    {
     "data": {
      "image/png": "[encoded data removed]",
      "text/plain": [
       "<matplotlib.figure.Figure at 0x7f6d59288550>"
      ]
     },
     "metadata": {},
     "output_type": "display_data"
    },
    {
     "data": {
      "image/png": "[encoded data removed]",
      "text/plain": [
       "<matplotlib.figure.Figure at 0x7f6d595d5c10>"
      ]
     },
     "metadata": {},
     "output_type": "display_data"
    }
   ],
   "source": [
    "nn = len(dim)-1\n",
    "fig, ax = subplots(figsize=(5,4))\n",
    "ax.plot(dim[1:], results[1:,3], label=\"Train\")\n",
    "ax.plot(dim[1:], results[1:,1], label=\"Test\")\n",
    "ax.plot(dim[1:], results[0,3]*np.ones(nn),'b-.', label=\"Train: baseline\")\n",
    "ax.plot(dim[1:], results[0,1]*np.ones(nn),'r-.', label=\"Test: baseline\")\n",
    "ax.set_xlabel('Intrinsic Dim')\n",
    "ax.set_ylabel('Accuracy')\n",
    "plt.grid()\n",
    "ax.set_xlim([0,50000])\n",
    "# ax.set_ylim([0.05,0.8])\n",
    "plt.legend(labelspacing=0.0, borderpad=0.1,edgecolor=\"k\", facecolor=\"w\")\n",
    "fig.savefig(\"figs/lenet_cifar_l2_train_testacc.pdf\", bbox_inches='tight')\n",
    "\n",
    "fig, ax = subplots(figsize=(5,4))\n",
    "ax.plot(dim[1:], results[1:,2], label=\"Train\")\n",
    "ax.plot(dim[1:], results[1:,0], label=\"Test\")\n",
    "ax.plot(dim[1:], results[0,2]*np.ones(nn),'b-.', label=\"Train: baseline\")\n",
    "ax.plot(dim[1:], results[0,0]*np.ones(nn),'r-.', label=\"Test: baseline\")\n",
    "ax.set_xlabel('Intrinsic Dim')\n",
    "ax.set_ylabel('NLL')\n",
    "plt.grid()\n",
    "ax.set_xlim([0,50000])\n",
    "# ax.set_ylim([0.75,2.5])\n",
    "plt.legend(labelspacing=0.0, borderpad=0.1,edgecolor=\"k\", facecolor=\"w\")\n",
    "fig.savefig(\"figs/lenet_cifar_l2_train_test_nll.pdf\", bbox_inches='tight')"
   ]
  },
  {
   "cell_type": "code",
   "execution_count": null,
   "metadata": {
    "collapsed": true
   },
   "outputs": [],
   "source": []
  }
 ],
 "metadata": {
  "kernelspec": {
   "display_name": "Python 2",
   "language": "python",
   "name": "python2"
  },
  "language_info": {
   "codemirror_mode": {
    "name": "ipython",
    "version": 2
   },
   "file_extension": ".py",
   "mimetype": "text/x-python",
   "name": "python",
   "nbconvert_exporter": "python",
   "pygments_lexer": "ipython2",
   "version": "2.7.12"
  }
 },
 "nbformat": 4,
 "nbformat_minor": 2
}
