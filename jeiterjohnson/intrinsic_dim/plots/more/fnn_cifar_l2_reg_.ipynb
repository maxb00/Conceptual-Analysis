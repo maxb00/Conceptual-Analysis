{
 "cells": [
  {
   "cell_type": "markdown",
   "metadata": {},
   "source": [
    "# 2-layer FNN on Cifar\n",
    "\n",
    "This is MLP (784-X^W-10) on MNIST. SGD algorithm (lr=0.1) with 100 epoches.\n",
    "\n",
    " "
   ]
  },
  {
   "cell_type": "code",
   "execution_count": 2,
   "metadata": {
    "collapsed": true
   },
   "outputs": [],
   "source": [
    "import os, sys\n",
    "import numpy as np\n",
    "from matplotlib.pyplot import *\n",
    "import locale\n",
    "locale.setlocale(locale.LC_ALL, 'en_US.UTF-8')\n",
    "\n",
    "import matplotlib.cm as cm\n",
    "import matplotlib.pyplot as plt\n",
    "import matplotlib.font_manager as font_manager\n",
    "import seaborn as sns\n",
    "import itertools\n",
    "\n",
    "\n",
    "%matplotlib inline"
   ]
  },
  {
   "cell_type": "code",
   "execution_count": 3,
   "metadata": {
    "collapsed": true
   },
   "outputs": [],
   "source": [
    "\"\"\" Extract final stats from resman's diary file\"\"\"\n",
    "def extract_num(lines0):\n",
    "\n",
    "    valid_loss_str     = lines0[-5]\n",
    "    valid_accuracy_str = lines0[-6]\n",
    "    train_loss_str     = lines0[-8]\n",
    "    train_accuracy_str = lines0[-9]\n",
    "    run_time_str       = lines0[-10]\n",
    "\n",
    "    valid_loss     = float(valid_loss_str.split( )[-1])\n",
    "    valid_accuracy = float(valid_accuracy_str.split( )[-1])\n",
    "    train_loss     = float(train_loss_str.split( )[-1])\n",
    "    train_accuracy = float(train_accuracy_str.split( )[-1])\n",
    "    run_time       = float(run_time_str.split( )[-1])\n",
    "    \n",
    "    return valid_loss, valid_accuracy, train_loss, train_accuracy, run_time\n",
    "\n",
    "\"\"\" Extract number of total parameters for each net config from resman's diary file\"\"\"\n",
    "def parse_num_params(line0):\n",
    "    line_str = ''.join(lines0)\n",
    "    idx = line_str.find(\"Total params\")\n",
    "    param_str = line_str[idx+14:idx+14+20] # 14 is the length of string \"Total params: \"\n",
    "    param_num = param_str.split(\"\\n\")[0]\n",
    "    return int(locale.atof(param_num))"
   ]
  },
  {
   "cell_type": "markdown",
   "metadata": {},
   "source": [
    "#### Extract results from diary file\n",
    "\n",
    "    1. Number of params\n",
    "    2. Loss/Accuarcy for training/testing\n",
    "    3. Runing time"
   ]
  },
  {
   "cell_type": "code",
   "execution_count": 40,
   "metadata": {
    "scrolled": true
   },
   "outputs": [
    {
     "name": "stdout",
     "output_type": "stream",
     "text": [
      "['../results/fnn_mnist_l2_dir/171003_210513_9e4037a_lrb_fnn_mnist_sparse_dir_0_2_200_10/diary', '../results/fnn_mnist_l2_dir/171003_210328_9e4037a_lrb_fnn_mnist_sparse_dir_0_2_200_0.001/diary', '../results/fnn_mnist_l2_dir/171003_210513_9e4037a_lrb_fnn_mnist_sparse_dir_0_2_200_0.01/diary', '../results/fnn_mnist_l2_dir/171003_210342_9e4037a_lrb_fnn_mnist_sparse_dir_0_2_200_10000/diary', '../results/fnn_mnist_l2_dir/171003_210532_9e4037a_lrb_fnn_mnist_sparse_dir_0_2_200_100/diary', '../results/fnn_mnist_l2_dir/171003_210328_9e4037a_lrb_fnn_mnist_sparse_dir_0_2_200_0.1/diary', '../results/fnn_mnist_l2_dir/171003_210328_9e4037a_lrb_fnn_mnist_sparse_dir_0_2_200_0/diary', '../results/fnn_mnist_l2_dir/171003_210328_9e4037a_lrb_fnn_mnist_sparse_dir_0_2_200_1/diary', '../results/fnn_mnist_l2_dir/171003_210520_9e4037a_lrb_fnn_mnist_sparse_dir_0_2_200_0.0001/diary', '../results/fnn_mnist_l2_dir/171003_210335_9e4037a_lrb_fnn_mnist_sparse_dir_0_2_200_1000/diary']\n"
     ]
    }
   ],
   "source": [
    "l2_value = [10000,1000,100,10,1,0.1,0.01,0.001,0.0001,0] # [100,1,0.01,0]\n",
    "results_dir = '../results/fnn_cifar_l2_reg' # fnn_mnist_l2_dir, fnn_cifar_l2_0\n",
    "       \n",
    "depth = [2]\n",
    "width = [200]\n",
    "dim   = [0,250,500,750,1000,1250,1500,1750,1900,1950,2000,2050,2100,2250,2500,3000,4000,5000,5250,5500,5750,6000,6250,6500,6750,7000,7250,7500,7750,8000,8250,8500,8750,9000,9250,9500,9750,10000,15000,20000,25000,30000,35000,40000,45000,50000,100000,200000]\n",
    "\n",
    "########## 1. filename list of diary ########################\n",
    "diary_names = []\n",
    "for subdir, dirs, files in os.walk(results_dir):\n",
    "    for file in files:\n",
    "        if file == 'diary':\n",
    "            fname = os.path.join(subdir, file)\n",
    "            diary_names.append(fname)\n",
    "            \n",
    "print diary_names\n",
    "            \n",
    "########## 2. Construct stats (width, depth, dim) ##########\n",
    "# acc_test_all : Tensor (width, depth, dim)\n",
    "# num_param_all: Tensor (width, depth)\n",
    "############################################################\n",
    "nw, nd, nn, nl= len(width), len(depth), len(dim), len(l2_value)\n",
    "\n",
    "acc_test_all  = np.zeros((len(width), len(depth), len(l2_value)))\n",
    "num_param_all = np.zeros((len(width), len(depth)))\n",
    "\n",
    "mode = 1        # {0: test loss, 1: test acc}\n",
    "error_files = [] #  record the error file\n",
    "dim = []\n",
    "\n",
    "# 2.1 construct acc_test_all and num_param_all\n",
    "for i in range(len(l2_value)):\n",
    "    d = l2_value[i]\n",
    "\n",
    "    # 2.1.1 Read the results, \n",
    "    for f in diary_names:\n",
    "        if '_'+str(d)+'/' in f:\n",
    "            # print \"%d is in\" % d + f\n",
    "\n",
    "            str_tmp = f.split('_')\n",
    "            str_tmp[-1]\n",
    "\n",
    "            with open(f,'r') as ff:\n",
    "                lines0 = ff.readlines()\n",
    "                try:\n",
    "                    R = extract_num(lines0)\n",
    "                    R = np.array(R)\n",
    "\n",
    "                except ValueError:\n",
    "                    error_files.append((w,ll,d))\n",
    "                    R = np.zeros(len(R))\n",
    "                    print \"Error. Can not read config: depth %d, width %d and dim %d.\" % (ll, w, d) \n",
    "                    # break\n",
    "\n",
    "\n",
    "    # 2.1.2 Assign the results\n",
    "    r = R[mode]  \n",
    "    acc_test_all[0,0,i]=r\n",
    "\n",
    "########## 3. Construct Tensors for Analysis (width, depth, dim) ##########                    \n",
    "acc_base  = acc_test_all[:,:,0]\n",
    "\n",
    "                                       "
   ]
  },
  {
   "cell_type": "code",
   "execution_count": 41,
   "metadata": {},
   "outputs": [
    {
     "name": "stdout",
     "output_type": "stream",
     "text": [
      "Baseline results\n",
      "[ 0.9839  0.9836  0.9829  0.9831  0.9835  0.9829  0.9843  0.9839  0.9848\n",
      "  0.9836]\n"
     ]
    }
   ],
   "source": [
    "print \"Baseline results\"\n",
    "print acc_test_all[0,0,:] "
   ]
  },
  {
   "cell_type": "code",
   "execution_count": null,
   "metadata": {
    "collapsed": true
   },
   "outputs": [],
   "source": []
  },
  {
   "cell_type": "markdown",
   "metadata": {},
   "source": [
    "-------------------------"
   ]
  },
  {
   "cell_type": "code",
   "execution_count": null,
   "metadata": {
    "collapsed": true
   },
   "outputs": [],
   "source": []
  },
  {
   "cell_type": "markdown",
   "metadata": {},
   "source": [
    "### Testing Accuracy wrt. Width, Depth and Dim"
   ]
  },
  {
   "cell_type": "code",
   "execution_count": null,
   "metadata": {
    "collapsed": true
   },
   "outputs": [],
   "source": [
    "import matplotlib.cm as cm\n",
    "import matplotlib.pyplot as plt\n",
    "import matplotlib.font_manager as font_manager\n",
    "import seaborn as sns\n",
    "\n",
    "plt.figure(figsize=(20,5.0))\n",
    "\n",
    "for i in range(acc_test_all.shape[2]):\n",
    "    acc = acc_test_all[:,:,i].reshape(len(depth)*len(width),order='F')\n",
    "    if i==0:\n",
    "        plt.scatter(fig_params_1d, acc, s=(np.array(fig_width)**1.8)/100, c=fig_depth, edgecolors='k') \n",
    "        plt.scatter(fig_params_1d, sr*acc, marker=\"_\", s=300, c='k', edgecolors='r') \n",
    "    else:\n",
    "        plt.scatter(fig_params_1d, acc, s=(np.array(fig_width)**1.8)/100, c=fig_depth, facecolors='None', linewidth=np.array(dim[i])/300.0) \n",
    "\n",
    "        \n",
    "ax = plt.gca()\n",
    "plt.colorbar(label=\"Depth\")\n",
    "\n",
    "ax.set_xscale('log')\n",
    "ax.grid(True)\n",
    "\n",
    "ax.set_ylim(0.1, 1.0)\n",
    "ax.set_xlim(0.3E5, 1.5E6)\n",
    "\n",
    "plt.xlabel('# parameters')\n",
    "plt.ylabel('# accuracy')\n",
    "\n",
    "#make a legend:\n",
    "pws = width\n",
    "for pw in pws:\n",
    "    plt.scatter([], [], s=(pw**1.8)/1000, c=\"k\",label=str(pw))\n",
    "\n",
    "h, l = plt.gca().get_legend_handles_labels()\n",
    "plt.legend(h[0:], l[0:], labelspacing=1.2, title=\"layer width\", borderpad=1, loc='best', bbox_to_anchor=(1.25, 1),\n",
    "             frameon=True, framealpha=0.6, edgecolor=\"k\", facecolor=\"w\")\n",
    "\n",
    " \n",
    "    "
   ]
  },
  {
   "cell_type": "code",
   "execution_count": null,
   "metadata": {
    "collapsed": true
   },
   "outputs": [],
   "source": []
  },
  {
   "cell_type": "code",
   "execution_count": null,
   "metadata": {
    "collapsed": true
   },
   "outputs": [],
   "source": []
  },
  {
   "cell_type": "markdown",
   "metadata": {},
   "source": [
    "#### Intrinsic dim for #parameters"
   ]
  },
  {
   "cell_type": "code",
   "execution_count": 25,
   "metadata": {},
   "outputs": [
    {
     "ename": "NameError",
     "evalue": "name 'fig_params_1d' is not defined",
     "output_type": "error",
     "traceback": [
      "\u001b[0;31m---------------------------------------------------------------------------\u001b[0m",
      "\u001b[0;31mNameError\u001b[0m                                 Traceback (most recent call last)",
      "\u001b[0;32m<ipython-input-25-0894e4317b48>\u001b[0m in \u001b[0;36m<module>\u001b[0;34m()\u001b[0m\n\u001b[1;32m      1\u001b[0m \u001b[0mplt\u001b[0m\u001b[0;34m.\u001b[0m\u001b[0mfigure\u001b[0m\u001b[0;34m(\u001b[0m\u001b[0mfigsize\u001b[0m\u001b[0;34m=\u001b[0m\u001b[0;34m(\u001b[0m\u001b[0;36m20\u001b[0m\u001b[0;34m,\u001b[0m\u001b[0;36m5\u001b[0m\u001b[0;34m)\u001b[0m\u001b[0;34m)\u001b[0m\u001b[0;34m\u001b[0m\u001b[0m\n\u001b[1;32m      2\u001b[0m \u001b[0;34m\u001b[0m\u001b[0m\n\u001b[0;32m----> 3\u001b[0;31m \u001b[0mplt\u001b[0m\u001b[0;34m.\u001b[0m\u001b[0mscatter\u001b[0m\u001b[0;34m(\u001b[0m\u001b[0mfig_params_1d\u001b[0m\u001b[0;34m,\u001b[0m \u001b[0mdim_solved_all_1d\u001b[0m\u001b[0;34m,\u001b[0m \u001b[0ms\u001b[0m\u001b[0;34m=\u001b[0m\u001b[0;34m(\u001b[0m\u001b[0mnp\u001b[0m\u001b[0;34m.\u001b[0m\u001b[0marray\u001b[0m\u001b[0;34m(\u001b[0m\u001b[0mfig_width\u001b[0m\u001b[0;34m)\u001b[0m\u001b[0;34m**\u001b[0m\u001b[0;36m2.0\u001b[0m\u001b[0;34m)\u001b[0m\u001b[0;34m/\u001b[0m\u001b[0;36m100\u001b[0m\u001b[0;34m,\u001b[0m \u001b[0mc\u001b[0m\u001b[0;34m=\u001b[0m\u001b[0mfig_depth\u001b[0m\u001b[0;34m,\u001b[0m \u001b[0medgecolors\u001b[0m\u001b[0;34m=\u001b[0m\u001b[0;34m'k'\u001b[0m\u001b[0;34m)\u001b[0m\u001b[0;34m\u001b[0m\u001b[0m\n\u001b[0m\u001b[1;32m      4\u001b[0m \u001b[0;34m\u001b[0m\u001b[0m\n\u001b[1;32m      5\u001b[0m \u001b[0max\u001b[0m \u001b[0;34m=\u001b[0m \u001b[0mplt\u001b[0m\u001b[0;34m.\u001b[0m\u001b[0mgca\u001b[0m\u001b[0;34m(\u001b[0m\u001b[0;34m)\u001b[0m\u001b[0;34m\u001b[0m\u001b[0m\n",
      "\u001b[0;31mNameError\u001b[0m: name 'fig_params_1d' is not defined"
     ]
    },
    {
     "data": {
      "text/plain": [
       "<matplotlib.figure.Figure at 0x7f9067c9aa10>"
      ]
     },
     "metadata": {},
     "output_type": "display_data"
    }
   ],
   "source": [
    "plt.figure(figsize=(20,5))\n",
    "\n",
    "plt.scatter(fig_params_1d, dim_solved_all_1d, s=(np.array(fig_width)**2.0)/100, c=fig_depth, edgecolors='k') \n",
    "\n",
    "ax = plt.gca()\n",
    "plt.colorbar(label=\"Depth\")\n",
    "\n",
    "ax.set_xscale('log')\n",
    "\n",
    "ax.grid(True)\n",
    "ax.set_ylim(0, 700)\n",
    "\n",
    "plt.xlabel('# parameters')\n",
    "plt.ylabel('# dimension')\n",
    "ax.set_xlim(0.3E5, 1.5E6)\n",
    "\n",
    "#make a legend:\n",
    "pws = width\n",
    "for pw in pws:\n",
    "    plt.scatter([], [], s=(pw**1.8)/100, c=\"k\",label=str(pw))\n",
    "\n",
    "h, l = plt.gca().get_legend_handles_labels()\n",
    "plt.legend(h[0:], l[0:], labelspacing=1.2, title=\"layer width\", borderpad=1, \n",
    "            frameon=True, framealpha=0.6, edgecolor=\"k\", facecolor=\"w\")"
   ]
  },
  {
   "cell_type": "markdown",
   "metadata": {},
   "source": [
    "## Performance comparison with Baseline"
   ]
  },
  {
   "cell_type": "code",
   "execution_count": 36,
   "metadata": {},
   "outputs": [
    {
     "data": {
      "text/plain": [
       "<matplotlib.figure.Figure at 0x7f90658fe890>"
      ]
     },
     "metadata": {},
     "output_type": "display_data"
    },
    {
     "data": {
      "image/png": "[encoded data removed]",
      "text/plain": [
       "<matplotlib.figure.Figure at 0x7f9065b1c810>"
      ]
     },
     "metadata": {},
     "output_type": "display_data"
    }
   ],
   "source": [
    "fig = plt.figure(figsize=(5,4))\n",
    "fig.subplots_adjust(hspace=0.3)\n",
    "fig, ax = subplots(figsize=(5,4) )\n",
    "\n",
    "font = {'family' : 'normal',\n",
    "        'weight' : 'normal',\n",
    "        'size'   : 16}\n",
    "matplotlib.rc('font', **font)\n",
    "\n",
    "for i in range(nw):\n",
    "    for j in range(nd):\n",
    "        id = i*nd+j+1\n",
    "        ax = plt.subplot(nw, nd, id)\n",
    "\n",
    "        plt.scatter(l2_value, acc_test_all[i,j,:], edgecolor=\"k\", facecolor=\"w\" )\n",
    "        ax.set_xlabel('Intrinsic Dim')\n",
    "        ax.set_ylabel('Accuracy')\n",
    "        # ax.set_title('width %d, depth %d' %(width[i], depth[j]))\n",
    "        plt.grid()\n",
    "        ax.set_ylim([-0.1,1.1])\n",
    "        # ax.set_xscale('log')\n",
    "        \n",
    "#fig.savefig(\"fnn_cifar.pdf\", bbox_inches='tight')        \n"
   ]
  },
  {
   "cell_type": "code",
   "execution_count": null,
   "metadata": {
    "collapsed": true
   },
   "outputs": [],
   "source": []
  }
 ],
 "metadata": {
  "kernelspec": {
   "display_name": "Python 2",
   "language": "python",
   "name": "python2"
  },
  "language_info": {
   "codemirror_mode": {
    "name": "ipython",
    "version": 2
   },
   "file_extension": ".py",
   "mimetype": "text/x-python",
   "name": "python",
   "nbconvert_exporter": "python",
   "pygments_lexer": "ipython2",
   "version": "2.7.12"
  }
 },
 "nbformat": 4,
 "nbformat_minor": 2
}
