{
 "cells": [
  {
   "cell_type": "markdown",
   "metadata": {},
   "source": [
    "# Multi-layer FNN on MNIST\n",
    "\n",
    "This is MLP (784-X^W-10) on MNIST. SGD algorithm (lr=0.1) with 100 epoches.\n",
    "\n",
    " "
   ]
  },
  {
   "cell_type": "code",
   "execution_count": 1,
   "metadata": {
    "collapsed": true
   },
   "outputs": [],
   "source": [
    "import os, sys\n",
    "import numpy as np\n",
    "from matplotlib.pyplot import *\n",
    "import locale\n",
    "locale.setlocale(locale.LC_ALL, 'en_US.UTF-8')\n",
    "\n",
    "import matplotlib.cm as cm\n",
    "import matplotlib.pyplot as plt\n",
    "import matplotlib.font_manager as font_manager\n",
    "import seaborn as sns\n",
    "import itertools\n",
    "\n",
    "\n",
    "%matplotlib inline"
   ]
  },
  {
   "cell_type": "code",
   "execution_count": 2,
   "metadata": {
    "collapsed": true
   },
   "outputs": [],
   "source": [
    "\"\"\" Extract final stats from resman's diary file\"\"\"\n",
    "def extract_num(lines0):\n",
    "\n",
    "    valid_loss_str     = lines0[-5]\n",
    "    valid_accuracy_str = lines0[-6]\n",
    "    train_loss_str     = lines0[-8]\n",
    "    train_accuracy_str = lines0[-9]\n",
    "    run_time_str       = lines0[-10]\n",
    "\n",
    "    valid_loss     = float(valid_loss_str.split( )[-1])\n",
    "    valid_accuracy = float(valid_accuracy_str.split( )[-1])\n",
    "    train_loss     = float(train_loss_str.split( )[-1])\n",
    "    train_accuracy = float(train_accuracy_str.split( )[-1])\n",
    "    run_time       = float(run_time_str.split( )[-1])\n",
    "    \n",
    "    return valid_loss, valid_accuracy, train_loss, train_accuracy, run_time\n",
    "\n",
    "\"\"\" Extract number of total parameters for each net config from resman's diary file\"\"\"\n",
    "def parse_num_params(line0):\n",
    "    line_str = ''.join(lines0)\n",
    "    idx = line_str.find(\"Total params\")\n",
    "    param_str = line_str[idx+14:idx+14+20] # 14 is the length of string \"Total params: \"\n",
    "    param_num = param_str.split(\"\\n\")[0]\n",
    "    return int(locale.atof(param_num))"
   ]
  },
  {
   "cell_type": "code",
   "execution_count": 3,
   "metadata": {
    "collapsed": true
   },
   "outputs": [],
   "source": [
    "\"\"\" Extract accuracy at each epoch for each net config from resman's diary file\"\"\"\n",
    "def parse_acc(lines0):\n",
    "    line_str = ''.join(lines0)\n",
    "    # print lines0\n",
    "\n",
    "    idx = line_str.find(\"epochs\")\n",
    "    print idx\n",
    "    val_acc_str = line_str[idx+14:idx+14+20] # 14 is the length of string \"Total params: \"\n",
    "    param_num = param_str.split(\"\\n\")[0]\n",
    "    return int(run_time_str)"
   ]
  },
  {
   "cell_type": "markdown",
   "metadata": {},
   "source": [
    "#### Extract results from diary file\n",
    "\n",
    "    1. Number of params\n",
    "    2. Loss/Accuarcy for training/testing\n",
    "    3. Runing time"
   ]
  },
  {
   "cell_type": "code",
   "execution_count": 5,
   "metadata": {
    "collapsed": true,
    "scrolled": true
   },
   "outputs": [],
   "source": [
    "def read_results(results_dir):\n",
    "       \n",
    "    depth = [0,1,2,3,4,5,6,7,8,9,10]\n",
    "    width = [25,50]\n",
    "    dim   = [0,50,200,500,1000] #[1500,2000]#\n",
    "\n",
    "    ########## 1. filename list of diary ########################\n",
    "    diary_names = []\n",
    "    for subdir, dirs, files in os.walk(results_dir):\n",
    "        for file in files:\n",
    "            if file == 'diary':\n",
    "                fname = os.path.join(subdir, file)\n",
    "                diary_names.append(fname)\n",
    "\n",
    "    # print diary_names\n",
    "    ########## 2. Construct stats (width, depth, dim) ##########\n",
    "    # acc_test_all : Tensor (width, depth, dim)\n",
    "    # num_param_all: Tensor (width, depth)\n",
    "    # acc_solved_all:  Tensor (width, depth)\n",
    "    # dim_solved_all:  Tensor (width, depth)\n",
    "    ############################################################\n",
    "    nw, nd, nn= len(width), len(depth), len(dim)\n",
    "\n",
    "    acc_test_all  = np.zeros((len(width), len(depth), len(dim)))\n",
    "    nll_test_all  = np.zeros((len(width), len(depth), len(dim)))\n",
    "\n",
    "    mode = 1         # {0: test loss, 1: test acc}\n",
    "    error_files = [] #  record the error file\n",
    "    \n",
    "    # 2.1 construct acc_test_all and num_param_all\n",
    "    for id_w in range(len(width)):\n",
    "        w = width[id_w]\n",
    "        for id_ll in range(len(depth)):\n",
    "            ll = depth[id_ll]\n",
    "            for id_d in range(len(dim)):\n",
    "                d = dim[id_d]\n",
    "            \n",
    "                # 2.1.1 Read the results, \n",
    "                for f in diary_names:\n",
    "                    if '_'+str(d)+'_'+str(ll)+'_'+str(w)+'/' in f:\n",
    "                        # print \"%d is in\" % d + f\n",
    "\n",
    "                        with open(f,'r') as ff:\n",
    "                            lines0 = ff.readlines()\n",
    "                            try:\n",
    "                                R = extract_num(lines0)\n",
    "                                R = np.array(R)\n",
    "                                acc_test_all[id_w,id_ll,id_d]=R[1]\n",
    "                                nll_test_all[id_w,id_ll,id_d]=R[0]\n",
    "\n",
    "                            except ValueError:\n",
    "                                error_files.append((w,ll,d))\n",
    "                                R = np.zeros(len(R))\n",
    "                                print \"Error. Can not read config: depth %d, width %d and dim %d.\" % (ll, w, d) \n",
    "                                # break\n",
    "\n",
    "    return acc_test_all, nll_test_all                                       "
   ]
  },
  {
   "cell_type": "code",
   "execution_count": 6,
   "metadata": {},
   "outputs": [
    {
     "name": "stdout",
     "output_type": "stream",
     "text": [
      "../results/fnn_mnist_l2_depth_run1\n",
      "../results/fnn_mnist_l2_depth_run2\n",
      "../results/fnn_mnist_l2_depth_run3\n"
     ]
    }
   ],
   "source": [
    "# collect the results from given folders\n",
    "\n",
    "depth = [0,1,2,3,4,5,6,7,8,9,10]\n",
    "width = [25,50]\n",
    "dim   = [0,50,200,500,1000] #[1500,2000]#\n",
    "rep   = 3\n",
    "\n",
    "acc_test_all = np.zeros((len(width), len(depth), len(dim), rep))\n",
    "nll_test_all = np.zeros((len(width), len(depth), len(dim), rep))\n",
    "\n",
    "for j in range(rep):\n",
    "    results_dir = '../results/fnn_mnist_l2_depth_run' + str(j+1)\n",
    "    print results_dir\n",
    "    acc_test, nll_test = read_results(results_dir)\n",
    "    # print acc_test\n",
    "    acc_test_all[:,:,:,j] = acc_test\n",
    "    nll_test_all[:,:,:,j] = nll_test\n",
    "\n",
    "acc_test_all[1,6,0,1] = 0.1135\n",
    "nll_test_all[1,6,0,1] = 2.30402"
   ]
  },
  {
   "cell_type": "code",
   "execution_count": 10,
   "metadata": {},
   "outputs": [
    {
     "name": "stdout",
     "output_type": "stream",
     "text": [
      "(2, 11, 5, 3)\n",
      "(2, 11, 5, 3)\n",
      "Baseline results\n",
      "[[[ 0.30417   0.30417   0.30417 ]\n",
      "  [ 0.334128  0.387907  0.366588]\n",
      "  [ 0.364292  0.361124  0.321325]\n",
      "  [ 0.240187  0.290186  0.254357]\n",
      "  [ 2.30402   0.233375  0.270585]\n",
      "  [ 2.30402   2.30402   2.30402 ]\n",
      "  [ 2.30402   2.30402   2.30402 ]\n",
      "  [ 2.30402   2.30402   2.30402 ]\n",
      "  [ 2.30402   2.30402   2.30402 ]\n",
      "  [ 2.30402   2.30402   2.30402 ]\n",
      "  [ 2.30402   2.30402   2.30402 ]]\n",
      "\n",
      " [[ 0.30417   0.30417   0.30417 ]\n",
      "  [ 0.159873  0.160005  0.159284]\n",
      "  [ 0.38998   0.458935  0.448009]\n",
      "  [ 0.332698  0.346955  0.370342]\n",
      "  [ 2.30402   0.259171  2.30402 ]\n",
      "  [ 2.30402   2.30402   2.30402 ]\n",
      "  [ 2.30402   2.30402   2.30402 ]\n",
      "  [ 2.30402   2.30402   2.30402 ]\n",
      "  [ 2.30402   2.30402   2.30402 ]\n",
      "  [ 2.30402   2.30402   2.30402 ]\n",
      "  [ 2.30402   2.30402   2.30402 ]]]\n",
      "Dim 1000 results\n",
      "[[[ 0.958429  0.958429  0.958429]\n",
      "  [ 0.766261  0.766     0.766273]\n",
      "  [ 0.749182  0.748922  0.748428]\n",
      "  [ 0.700768  0.700749  0.700912]\n",
      "  [ 0.72018   0.717798  0.719586]\n",
      "  [ 0.763549  0.763274  0.764199]\n",
      "  [ 0.8008    0.754756  0.789289]\n",
      "  [ 0.785958  0.754371  0.793241]\n",
      "  [ 0.789602  0.835047  0.892361]\n",
      "  [ 0.81859   0.80207   0.835515]\n",
      "  [ 0.87561   0.877464  0.848808]]\n",
      "\n",
      " [[ 0.958429  0.958429  0.958429]\n",
      "  [ 0.76682   0.7       0.766634]\n",
      "  [ 0.694627  0.694659  0.69458 ]\n",
      "  [ 0.693899  0.693148  0.692669]\n",
      "  [ 0.773024  0.773421  0.773489]\n",
      "  [ 0.727472  0.726989  0.728133]\n",
      "  [ 0.720421  0.721329  0.729307]\n",
      "  [ 0.802233  0.802092  0.803131]\n",
      "  [ 0.811088  0.818609  0.783016]\n",
      "  [ 0.769275  0.785496  0.760698]\n",
      "  [ 0.806349  0.74539   0.818962]]]\n"
     ]
    }
   ],
   "source": [
    "# check the results\n",
    "print acc_test_all.shape\n",
    "print nll_test_all.shape\n",
    "print \"Baseline results\"\n",
    "print nll_test_all[:,:,0]\n",
    "\n",
    "print \"Dim %d results\" % dim[-1]\n",
    "print nll_test_all[:,:,2,:]"
   ]
  },
  {
   "cell_type": "markdown",
   "metadata": {},
   "source": [
    "-------------------------"
   ]
  },
  {
   "cell_type": "markdown",
   "metadata": {},
   "source": [
    "### Testing Accuracy wrt. Width, Depth and Dim"
   ]
  },
  {
   "cell_type": "markdown",
   "metadata": {},
   "source": [
    "#### Testing Accuracy of Intrinsic dim for #parameters"
   ]
  },
  {
   "cell_type": "code",
   "execution_count": 11,
   "metadata": {},
   "outputs": [
    {
     "name": "stdout",
     "output_type": "stream",
     "text": [
      "[[ 0.9182      0.4032      0.6907      0.8419      0.8962    ]\n",
      " [ 0.96526667  0.43105     0.7602285   0.88108333  0.92148333]\n",
      " [ 0.96123333  0.43866667  0.77203333  0.88268333  0.9213    ]\n",
      " [ 0.96176667  0.46271667  0.77878333  0.88485     0.92141667]\n",
      " [ 0.53905     0.37823333  0.76201667  0.8835      0.92026667]\n",
      " [ 0.1135      0.45585     0.76426667  0.86745     0.91396667]\n",
      " [ 0.1135      0.386       0.7616      0.86716667  0.91408333]\n",
      " [ 0.1135      0.4121      0.74358333  0.87158333  0.91005   ]\n",
      " [ 0.1135      0.42215     0.73593333  0.8616      0.91088333]\n",
      " [ 0.1135      0.41083333  0.7391      0.85133333  0.906     ]\n",
      " [ 0.1135      0.37543333  0.73353333  0.85888333  0.9074    ]]\n"
     ]
    },
    {
     "name": "stderr",
     "output_type": "stream",
     "text": [
      "/home/users/chunyuan.li/tensorflow/local/lib/python2.7/site-packages/matplotlib/font_manager.py:1297: UserWarning: findfont: Font family [u'normal'] not found. Falling back to DejaVu Sans\n",
      "  (prop.get_family(), self.defaultFamily[fontext]))\n"
     ]
    },
    {
     "data": {
      "image/png": "[encoded data removed]",
      "text/plain": [
       "<matplotlib.figure.Figure at 0x7fdc9602b050>"
      ]
     },
     "metadata": {},
     "output_type": "display_data"
    },
    {
     "data": {
      "image/png": "[encoded data removed]",
      "text/plain": [
       "<matplotlib.figure.Figure at 0x7fdc93f4ec50>"
      ]
     },
     "metadata": {},
     "output_type": "display_data"
    }
   ],
   "source": [
    "acc_mean = acc_test_all.mean(axis=(0,3))\n",
    "acc_std  = acc_test_all.std(axis=(0,3))\n",
    "\n",
    "nll_mean = nll_test_all.mean(axis=(0,3))\n",
    "nll_std  = nll_test_all.std(axis=(0,3))\n",
    "\n",
    "\n",
    "print acc_mean\n",
    "\n",
    "size_M = (10,5) \n",
    "\n",
    "font = {'family' : 'normal',\n",
    "        'weight' : 'normal',\n",
    "        'size'   : 16}\n",
    "matplotlib.rc('font', **font)\n",
    "\n",
    "nn = len(depth)\n",
    "\n",
    "stride = max( int(nn / 10), 1)\n",
    "stride2 = max( int(nn / 5), 1)\n",
    "\n",
    "\n",
    "# 2) Testing Accuracy: Acc \n",
    "fig = plt.figure(figsize=(6,4))\n",
    "\n",
    "for d in range(5):\n",
    "    if d==0:\n",
    "        label_name = \"direct\"\n",
    "        plot(depth, acc_mean[:,d], 'o-', color='k', lw=2, markevery=stride)\n",
    "        fill_between(depth, acc_mean[:,d]+acc_std[:,d], acc_mean[:,d]-acc_std[:,d],  color='k', alpha=0.3, label=label_name)\n",
    "    else:\n",
    "        label_name = \"$d=$\" + str(dim[d])\n",
    "        plot(depth, acc_mean[:,d], 'o-', lw=2, markevery=stride)\n",
    "        fill_between(depth, acc_mean[:,d]+acc_std[:,d], acc_mean[:,d]-acc_std[:,d], alpha=0.3, label=label_name)\n",
    "\n",
    "plt.xlabel('Depth')\n",
    "plt.ylabel('Testing Accuracy')\n",
    "# ax.set_title('width %d, depth %d' %(width[i], depth[j]))\n",
    "plt.grid()\n",
    "legend(loc='best', fancybox=True, framealpha=0.5)\n",
    "plt.xlim([0,10])\n",
    "plt.ylim([0,1.0])\n",
    "fig.savefig(\"figs/acc_fnn_mnist_depth.pdf\", bbox_inches='tight')        \n",
    "plt.show()\n",
    "\n",
    "\n",
    "# 3) Testing Loss: NLL \n",
    "fig = plt.figure(figsize=(6,4))\n",
    "for d in range(5):\n",
    "    if d==0:\n",
    "        label_name = \"direct\"\n",
    "        plot(depth, nll_mean[:,d], 'o-', color='k', lw=2, markevery=stride)\n",
    "        fill_between(depth, nll_mean[:,d]+nll_std[:,d], nll_mean[:,d]-nll_std[:,d],  color='k', alpha=0.3, label=label_name)\n",
    "    else:\n",
    "        label_name = \"$d=$\" + str(dim[d])\n",
    "        plot(depth, nll_mean[:,d], 'o-', lw=2, markevery=stride)\n",
    "        fill_between(depth, nll_mean[:,d]+nll_std[:,d], nll_mean[:,d]-nll_std[:,d], alpha=0.3, label=label_name)\n",
    "\n",
    "plt.xlabel('Depth')\n",
    "plt.ylabel('Testing NLL')\n",
    "# ax.set_title('width %d, depth %d' %(width[i], depth[j]))\n",
    "plt.grid()\n",
    "legend(loc='best', fancybox=True, framealpha=0.5)\n",
    "plt.xlim([0,10])\n",
    "plt.ylim([0,2.50])\n",
    "fig.savefig(\"figs/nll_fnn_mnist_depth.pdf\", bbox_inches='tight')        \n",
    "plt.show()\n",
    "\n"
   ]
  },
  {
   "cell_type": "code",
   "execution_count": null,
   "metadata": {
    "collapsed": true
   },
   "outputs": [],
   "source": []
  },
  {
   "cell_type": "markdown",
   "metadata": {},
   "source": [
    "#### Intrinsic dim for #parameters"
   ]
  },
  {
   "cell_type": "code",
   "execution_count": null,
   "metadata": {
    "collapsed": true
   },
   "outputs": [],
   "source": []
  },
  {
   "cell_type": "markdown",
   "metadata": {},
   "source": [
    "## Performance comparison with Baseline"
   ]
  },
  {
   "cell_type": "code",
   "execution_count": null,
   "metadata": {
    "collapsed": true
   },
   "outputs": [],
   "source": [
    "\n"
   ]
  },
  {
   "cell_type": "code",
   "execution_count": null,
   "metadata": {
    "collapsed": true
   },
   "outputs": [],
   "source": []
  },
  {
   "cell_type": "code",
   "execution_count": null,
   "metadata": {
    "collapsed": true
   },
   "outputs": [],
   "source": []
  },
  {
   "cell_type": "code",
   "execution_count": null,
   "metadata": {
    "collapsed": true
   },
   "outputs": [],
   "source": []
  }
 ],
 "metadata": {
  "kernelspec": {
   "display_name": "Python 2",
   "language": "python",
   "name": "python2"
  },
  "language_info": {
   "codemirror_mode": {
    "name": "ipython",
    "version": 2
   },
   "file_extension": ".py",
   "mimetype": "text/x-python",
   "name": "python",
   "nbconvert_exporter": "python",
   "pygments_lexer": "ipython2",
   "version": "2.7.12"
  }
 },
 "nbformat": 4,
 "nbformat_minor": 2
}
