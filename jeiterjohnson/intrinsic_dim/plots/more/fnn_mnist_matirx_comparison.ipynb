{
 "cells": [
  {
   "cell_type": "markdown",
   "metadata": {},
   "source": [
    "# Multi-layer FNN on MNIST\n",
    "\n",
    "This is MLP (784-X^W-10) on MNIST. SGD algorithm (lr=0.1) with 100 epoches.\n",
    "\n",
    " "
   ]
  },
  {
   "cell_type": "code",
   "execution_count": null,
   "metadata": {
    "collapsed": true
   },
   "outputs": [],
   "source": [
    "import os, sys\n",
    "import numpy as np\n",
    "from matplotlib.pyplot import *\n",
    "import locale\n",
    "locale.setlocale(locale.LC_ALL, 'en_US.UTF-8')\n",
    "\n",
    "import matplotlib.cm as cm\n",
    "import matplotlib.pyplot as plt\n",
    "import matplotlib.font_manager as font_manager\n",
    "import seaborn as sns\n",
    "import itertools\n",
    "\n",
    "\n",
    "%matplotlib inline"
   ]
  },
  {
   "cell_type": "code",
   "execution_count": 88,
   "metadata": {
    "collapsed": true
   },
   "outputs": [],
   "source": [
    "\"\"\" Extract final stats from resman's diary file\"\"\"\n",
    "def extract_num(lines0):\n",
    "\n",
    "    valid_loss_str     = lines0[-5]\n",
    "    valid_accuracy_str = lines0[-6]\n",
    "    train_loss_str     = lines0[-8]\n",
    "    train_accuracy_str = lines0[-9]\n",
    "    run_time_str       = lines0[-10]\n",
    "\n",
    "    valid_loss     = float(valid_loss_str.split( )[-1])\n",
    "    valid_accuracy = float(valid_accuracy_str.split( )[-1])\n",
    "    train_loss     = float(train_loss_str.split( )[-1])\n",
    "    train_accuracy = float(train_accuracy_str.split( )[-1])\n",
    "    run_time       = float(run_time_str.split( )[-1])\n",
    "    \n",
    "    return valid_loss, valid_accuracy, train_loss, train_accuracy, run_time\n",
    "\n",
    "\"\"\" Extract number of total parameters for each net config from resman's diary file\"\"\"\n",
    "def parse_num_params(lines0):\n",
    "    line_str = ''.join(lines0)\n",
    "    idx = line_str.find(\"Total params\")\n",
    "    param_str = line_str[idx+14:idx+14+20] # 14 is the length of string \"Total params: \"\n",
    "    param_num = param_str.split(\"\\n\")[0]\n",
    "    return int(locale.atof(param_num))"
   ]
  },
  {
   "cell_type": "code",
   "execution_count": null,
   "metadata": {
    "collapsed": true
   },
   "outputs": [],
   "source": []
  },
  {
   "cell_type": "code",
   "execution_count": 89,
   "metadata": {
    "collapsed": true
   },
   "outputs": [],
   "source": [
    "\"\"\" Extract total params for each net config from resman's diary file\"\"\"\n",
    "def parse_acc(lines0):\n",
    "    line_str = ''.join(lines0)\n",
    "    # print lines0\n",
    "\n",
    "    idx = line_str.find(\"Total params\")\n",
    "    # print idx\n",
    "    val_acc_str = line_str[idx+14:idx+14+30] # 14 is the length of string \"Total params: \"\n",
    "    param_num = val_acc_str.split(\"\\n\")[0].replace(\",\", \"\")\n",
    "    return int(param_num)"
   ]
  },
  {
   "cell_type": "markdown",
   "metadata": {},
   "source": [
    "#### Extract results from diary file\n",
    "\n",
    "    1. Number of params\n",
    "    2. Loss/Accuarcy for training/testing\n",
    "    3. Runing time"
   ]
  },
  {
   "cell_type": "code",
   "execution_count": 98,
   "metadata": {
    "collapsed": true,
    "scrolled": true
   },
   "outputs": [],
   "source": [
    "def contruct_results_tensors(results_dir):\n",
    "    depth = [1,2,3,4,5]\n",
    "    width = [50,100,200]\n",
    "    dim   = [0,10,50,100,200,300,350,375,400,425,450,475,500,525,550,575,600,625,650,675,700,725,750,775,800,850,900,1000,1250,1500]\n",
    "\n",
    "\n",
    "    ########## 1. filename list of diary ########################\n",
    "    diary_names = []\n",
    "    for subdir, dirs, files in os.walk(results_dir):\n",
    "        for file in files:\n",
    "            if file == 'diary':\n",
    "                fname = os.path.join(subdir, file)\n",
    "                diary_names.append(fname)\n",
    "\n",
    "\n",
    "    ########## 2. Construct stats (width, depth, dim) ##########\n",
    "    # acc_test_all : Tensor (width, depth, dim)\n",
    "    # num_param_all: Tensor (width, depth)\n",
    "    # acc_solved_all:  Tensor (width, depth)\n",
    "    # dim_solved_all:  Tensor (width, depth)\n",
    "    ############################################################\n",
    "    nw, nd, nn= len(width), len(depth), len(dim)\n",
    "\n",
    "    acc_test_all  = np.zeros((len(width), len(depth), len(dim)))\n",
    "    nll_test_all  = np.zeros((len(width), len(depth), len(dim)))\n",
    "    num_param_all = np.zeros((len(width), len(depth)))\n",
    "    run_time_all  = np.zeros((len(width), len(depth), len(dim)))\n",
    "\n",
    "\n",
    "    mode = 1         # {0: test loss, 1: test acc}\n",
    "    error_files = [] #  record the error file\n",
    "\n",
    "    # 2.1 construct acc_test_all and num_param_all\n",
    "    for id_w in range(len(width)):\n",
    "        w = width[id_w]\n",
    "        for id_ll in range(len(depth)):\n",
    "            ll = depth[id_ll]\n",
    "            for id_d in range(len(dim)):\n",
    "                d = dim[id_d]\n",
    "\n",
    "\n",
    "                # 2.1.1 Read the results, \n",
    "                for f in diary_names:\n",
    "                    if '_'+str(d)+'_'+str(ll)+'_'+str(w)+'/' in f:\n",
    "                        # print \"%d is in\" % d + f\n",
    "\n",
    "                        with open(f,'r') as ff:\n",
    "                            lines0 = ff.readlines()\n",
    "\n",
    "                            try:\n",
    "                                R = extract_num(lines0)\n",
    "                                R = np.array(R)\n",
    "                                params = parse_acc(lines0)\n",
    "\n",
    "                            except ValueError:\n",
    "                                error_files.append((w,ll,d))\n",
    "                                R = np.zeros(len(R))\n",
    "                                print \"Error. Can not read config: depth %d, width %d and dim %d.\" % (ll, w, d) \n",
    "                                # break\n",
    "\n",
    "\n",
    "                # 2.1.2 Assign the results\n",
    "                nll = R[0]\n",
    "                r = R[1]\n",
    "                t = R[4]\n",
    "                acc_test_all[id_w,id_ll,id_d]=r\n",
    "                nll_test_all[id_w,id_ll,id_d]=nll\n",
    "                run_time_all[id_w,id_ll,id_d]=t\n",
    "                if d==0:\n",
    "                    num_param_all[id_w,id_ll]=parse_num_params(lines0) \n",
    "\n",
    "    return nll_test_all, acc_test_all, run_time_all, num_param_all"
   ]
  },
  {
   "cell_type": "code",
   "execution_count": 104,
   "metadata": {
    "collapsed": true
   },
   "outputs": [],
   "source": [
    "depth = [1,2,3,4,5]\n",
    "width = [50,100,200]\n",
    "dim   = [0,10,50,100,200,300,350,375,400,425,450,475,500,525,550,575,600,625,650,675,700,725,750,775,800,850,900,1000,1250,1500]\n",
    "\n",
    "results_dir = '../results/fnn_mnist_l2_sparse'\n",
    "nll_test_sparse, acc_test_sparse, run_time_sparse, num_param_sparse = contruct_results_tensors(results_dir)\n",
    "\n",
    "results_dir = '../results/fnn_mnist_l2_dense'\n",
    "nll_test_dense, acc_test_dense, run_time_dense, num_param_dense = contruct_results_tensors(results_dir)\n"
   ]
  },
  {
   "cell_type": "code",
   "execution_count": 25,
   "metadata": {
    "collapsed": true
   },
   "outputs": [],
   "source": [
    "# 2.2 construct acc_solved_all and dim_solved_all           \n",
    "\n",
    "acc_solved_all = np.zeros((len(width), len(depth)))\n",
    "dim_solved_all = np.zeros((len(width), len(depth)))\n",
    "    \n",
    "for id_w in range(len(width)):\n",
    "    w = width[id_w]\n",
    "    for id_ll in range(len(depth)):\n",
    "        ll = depth[id_ll]\n",
    "        for id_d in range(len(dim)):\n",
    "            d = dim[id_d]\n",
    "\n",
    "            r = acc_test_all[id_w,id_ll,id_d]\n",
    "            if d==0:\n",
    "                test_acc_bl = 1.0 # r        \n",
    "                # print \"Acc goal is: \" + str(test_acc_sl) + \" for network with depth \" + str(ll) + \" width \"+ str(w)\n",
    "            else:\n",
    "                test_acc = r\n",
    "                if test_acc>test_acc_bl*0.9:\n",
    "                    acc_solved_all[id_w,id_ll]=test_acc\n",
    "                    dim_solved_all[id_w,id_ll]=d\n",
    "                    # print \"Intrinsic dim is: \" + str(d) + \" for network with depth \" + str(ll) + \" width \"+ str(w)\n",
    "                    # print \"\\n\"\n",
    "                    break\n",
    "\n",
    "########## 3. Construct Tensors for Analysis (width, depth, dim) ##########                    \n",
    "acc_base  = acc_test_all[:,:,0]\n",
    "acc_solve = acc_base*0.9"
   ]
  },
  {
   "cell_type": "code",
   "execution_count": 26,
   "metadata": {},
   "outputs": [
    {
     "name": "stdout",
     "output_type": "stream",
     "text": [
      "Baseline results\n",
      "[[ 0.9758  0.969   0.9646  0.9692  0.1135]\n",
      " [ 0.9799  0.9831  0.9823  0.9811  0.9784]\n",
      " [ 0.9823  0.9829  0.9843  0.9831  0.9831]\n",
      " [ 0.983   0.9852  0.9843  0.9856  0.983 ]]\n",
      "# Parmas\n",
      "<function parse_num_params at 0x7f532db8a2a8>\n",
      "Cross-line results\n",
      "[[ 0.9001  0.901   0.9004  0.9072  0.9119]\n",
      " [ 0.9038  0.9045  0.901   0.903   0.9013]\n",
      " [ 0.9004  0.9003  0.9012  0.9083  0.9032]\n",
      " [ 0.9021  0.9007  0.9005  0.904   0.9001]]\n",
      "Cross-line Dim\n",
      "[[ 650.  575.  650.  675.  675.]\n",
      " [ 675.  625.  625.  625.  625.]\n",
      " [ 650.  625.  650.  650.  625.]\n",
      " [ 775.  650.  650.  725.  675.]]\n",
      "Dim 1250 results\n",
      "[[ 0.9324  0.9329  0.935   0.9292  0.923 ]\n",
      " [ 0.9308  0.9338  0.9309  0.9345  0.9285]\n",
      " [ 0.9243  0.9316  0.9298  0.9311  0.9261]\n",
      " [ 0.928   0.9278  0.9291  0.9261  0.9256]]\n",
      "[[ 114.078  284.308  141.664  156.886  166.606]\n",
      " [ 128.59   134.432  138.162  153.425  167.141]\n",
      " [ 120.698  125.524  147.943  186.251  176.528]\n",
      " [ 120.02   131.825  162.468  229.579  196.215]]\n"
     ]
    }
   ],
   "source": [
    "print \"Baseline results\"\n",
    "print acc_test_all[:,:,0]\n",
    "\n",
    "print \"# Parmas\"\n",
    "print num_param_all\n",
    "\n",
    "print \"Cross-line results\"\n",
    "print acc_solved_all\n",
    "\n",
    "print \"Cross-line Dim\"\n",
    "print dim_solved_all\n",
    "\n",
    "print \"Dim %d results\" % dim[-2]\n",
    "print acc_test_all[:,:,-2]  \n",
    "print run_time_all[:,:,-2]  \n"
   ]
  },
  {
   "cell_type": "markdown",
   "metadata": {},
   "source": [
    "#### List the config of depth and width, which yields errors in training"
   ]
  },
  {
   "cell_type": "code",
   "execution_count": null,
   "metadata": {
    "collapsed": true
   },
   "outputs": [],
   "source": [
    "E_width, E_depth, E_dim = [],[],[]\n",
    "for item in error_files:\n",
    "    E_width.append(item[0]) \n",
    "    E_depth.append(item[1])\n",
    "    E_dim.append(item[2])\n",
    "\n",
    "str_E_width = \"\".join(str(E_width)).replace(',', '')\n",
    "str_E_depth = \"\".join(str(E_depth)).replace(',', '')\n",
    "str_E_dim   = \"\".join(str(E_dim)).replace(',', '')\n",
    "\n",
    "print \"Error in the following configs: width, depth and dim\"\n",
    "print str_E_width\n",
    "print str_E_depth\n",
    "print str_E_dim\n",
    "\n",
    "print \"Shape of accuracy tensor: \" + str(acc_test_all.shape)"
   ]
  },
  {
   "cell_type": "markdown",
   "metadata": {},
   "source": [
    "-------------------------"
   ]
  },
  {
   "cell_type": "markdown",
   "metadata": {},
   "source": [
    "#### Check the accuracy of specific depth and width, along different dim"
   ]
  },
  {
   "cell_type": "code",
   "execution_count": null,
   "metadata": {
    "collapsed": true
   },
   "outputs": [],
   "source": [
    "def check_cfg_results(depth, width, lines0): \n",
    "    for d in dim:\n",
    "        # 1. read the results\n",
    "        for f in diary_names:\n",
    "            if '_'+str(d)+'_'+str(depth)+'_'+str(width)+'/' in f:\n",
    "                # print \"%d is in\" % d + f\n",
    "                diary_names_ordered.append(f)\n",
    "                with open(f,'r') as ff:\n",
    "                    lines0 = ff.readlines()\n",
    "                    try:\n",
    "                        # print lines0\n",
    "                        param_num = parse_num_params(lines0)\n",
    "                        R = extract_num(lines0)\n",
    "                        print R[1]\n",
    "\n",
    "                    except ValueError:\n",
    "                        print \"Error: Can not read\"\n",
    "                        break\n",
    "\n",
    "check_cfg_results(2, 200, lines0)                     "
   ]
  },
  {
   "cell_type": "markdown",
   "metadata": {},
   "source": [
    "Reshape the tensor to 1D for plots"
   ]
  },
  {
   "cell_type": "code",
   "execution_count": null,
   "metadata": {
    "collapsed": true
   },
   "outputs": [],
   "source": [
    "fig_width = width*len(depth)\n",
    "fig_depth = list(itertools.chain.from_iterable(itertools.repeat(x, len(width)) for x in depth))\n",
    "\n",
    "print fig_width\n",
    "print fig_depth\n",
    "print num_param_all\n",
    "print dim_solved_all\n",
    "fig_params_1d = num_param_all.reshape(len(depth)*len(width),order='F')\n",
    "dim_solved_all_1d = dim_solved_all.reshape(len(depth)*len(width),order='F')\n",
    "acc_solved_all_1d = acc_solved_all.reshape(len(depth)*len(width),order='F')\n",
    "print fig_params_1d\n",
    "print dim_solved_all_1d"
   ]
  },
  {
   "cell_type": "markdown",
   "metadata": {},
   "source": [
    "### Testing Accuracy wrt. Width, Depth and Dim"
   ]
  },
  {
   "cell_type": "code",
   "execution_count": null,
   "metadata": {
    "collapsed": true
   },
   "outputs": [],
   "source": [
    "import matplotlib.cm as cm\n",
    "import matplotlib.pyplot as plt\n",
    "import matplotlib.font_manager as font_manager\n",
    "import seaborn as sns\n",
    "\n",
    "plt.figure(figsize=(20,5.0))\n",
    "\n",
    "for i in range(acc_test_all.shape[2]):\n",
    "    acc = acc_test_all[:,:,i].reshape(len(depth)*len(width),order='F')\n",
    "    if i==0:\n",
    "        plt.scatter(fig_params_1d, acc, s=(np.array(fig_width)**1.8)/100, c=fig_depth, edgecolors='k') \n",
    "        plt.scatter(fig_params_1d, 0.9*acc, marker=\"_\", s=300, c='k', edgecolors='r') \n",
    "    else:\n",
    "        plt.scatter(fig_params_1d, acc, s=(np.array(fig_width)**1.8)/100, c=fig_depth, facecolors='None', linewidth=np.array(dim[i])/300.0) \n",
    "\n",
    "        \n",
    "ax = plt.gca()\n",
    "plt.colorbar(label=\"Depth\")\n",
    "\n",
    "ax.set_xscale('log')\n",
    "ax.grid(True)\n",
    "\n",
    "ax.set_ylim(0.8, 1.0)\n",
    "ax.set_xlim(0.3E4, 1.5E6)\n",
    "\n",
    "plt.xlabel('# parameters')\n",
    "plt.ylabel('# accuracy')\n",
    "\n",
    "#make a legend:\n",
    "pws = width\n",
    "for pw in pws:\n",
    "    plt.scatter([], [], s=(pw**1.8)/1000, c=\"k\",label=str(pw))\n",
    "\n",
    "h, l = plt.gca().get_legend_handles_labels()\n",
    "plt.legend(h[0:], l[0:], labelspacing=1.2, title=\"layer width\", borderpad=1, loc='best', bbox_to_anchor=(1.25, 1),\n",
    "             frameon=True, framealpha=0.6, edgecolor=\"k\", facecolor=\"w\")\n",
    "\n",
    " \n",
    "    "
   ]
  },
  {
   "cell_type": "markdown",
   "metadata": {},
   "source": [
    "#### Testing Accuracy of Intrinsic dim for #parameters"
   ]
  },
  {
   "cell_type": "code",
   "execution_count": null,
   "metadata": {
    "collapsed": true
   },
   "outputs": [],
   "source": [
    "fig = plt.figure(figsize=(16,5))\n",
    "\n",
    "font = {'family' : 'normal',\n",
    "        'weight' : 'normal',\n",
    "        'size'   : 16}\n",
    "\n",
    "matplotlib.rc('font', **font)\n",
    "\n",
    "plt.scatter(fig_params_1d, acc_solved_all_1d, s=(np.array(fig_width)**2.0)/100, c=fig_depth, edgecolors='k') \n",
    "\n",
    "ax = plt.gca()\n",
    "plt.colorbar(label=\"Depth\")\n",
    "\n",
    "ax.set_xscale('log')\n",
    "ax.grid(True)\n",
    "\n",
    "ax.set_ylim(0.0, 1.0)\n",
    "ax.set_xlim(0.3E5, 1.5E6)\n",
    "\n",
    "\n",
    "plt.xlabel('# parameters')\n",
    "plt.ylabel('# accuracy')\n",
    "\n",
    "#make a legend:\n",
    "pws = width\n",
    "for pw in pws:\n",
    "    plt.scatter([], [], s=(pw**1.8)/100, c=\"k\",label=str(pw))\n",
    "\n",
    "h, l = plt.gca().get_legend_handles_labels()\n",
    "plt.legend(h[0:], l[0:], labelspacing=1.2, title=\"layer width\", borderpad=1, \n",
    "            frameon=True, framealpha=0.6, edgecolor=\"k\", facecolor=\"w\")"
   ]
  },
  {
   "cell_type": "code",
   "execution_count": null,
   "metadata": {
    "collapsed": true
   },
   "outputs": [],
   "source": []
  },
  {
   "cell_type": "markdown",
   "metadata": {},
   "source": [
    "#### Intrinsic dim for #parameters"
   ]
  },
  {
   "cell_type": "code",
   "execution_count": null,
   "metadata": {
    "collapsed": true
   },
   "outputs": [],
   "source": [
    "fig = plt.figure(figsize=(16,5))\n",
    "\n",
    "font = {'family' : 'normal',\n",
    "        'weight' : 'normal',\n",
    "        'size'   : 16}\n",
    "\n",
    "matplotlib.rc('font', **font)\n",
    "\n",
    "plt.scatter(fig_params_1d, dim_solved_all_1d, s=(np.array(fig_width)**2.0)/100, c=fig_depth, edgecolors='k') \n",
    "\n",
    "ax = plt.gca()\n",
    "plt.colorbar(label=\"Depth\")\n",
    "\n",
    "ax.set_xscale('log')\n",
    "\n",
    "ax.grid(True)\n",
    "ax.set_ylim(0, 900)\n",
    "\n",
    "plt.xlabel('# parameters')\n",
    "plt.ylabel('# dimension')\n",
    "ax.set_xlim(0.3E5, 1.5E6)\n",
    "\n",
    "#make a legend:\n",
    "pws = width\n",
    "for pw in pws:\n",
    "    plt.scatter([], [], s=(pw**1.8)/100, c=\"k\",label=str(pw))\n",
    "\n",
    "h, l = plt.gca().get_legend_handles_labels()\n",
    "plt.legend(h[0:], l[0:], labelspacing=1.2, title=\"layer width\", borderpad=1, \n",
    "            frameon=True, framealpha=0.6, edgecolor=\"k\", facecolor=\"w\",loc='best')\n",
    "\n",
    "fig.savefig(\"fnn_dim_global_sparseM.pdf\", bbox_inches='tight')"
   ]
  },
  {
   "cell_type": "markdown",
   "metadata": {},
   "source": [
    "## Performance comparison with Baseline"
   ]
  },
  {
   "cell_type": "code",
   "execution_count": null,
   "metadata": {
    "collapsed": true
   },
   "outputs": [],
   "source": [
    "fig = plt.figure(figsize=(35,25))\n",
    "fig.subplots_adjust(hspace=0.3)\n",
    "\n",
    "font = {'family' : 'normal',\n",
    "        'weight' : 'normal',\n",
    "        'size'   : 16}\n",
    "matplotlib.rc('font', **font)\n",
    "\n",
    "for i in range(nw):\n",
    "    for j in range(nd):\n",
    "        if j>0:\n",
    "            id = i*nd+j+1\n",
    "            ax = plt.subplot(nw, nd, id)\n",
    "\n",
    "            plt.scatter(dim, acc_test_all[i,j,:], edgecolor=\"k\", facecolor=\"w\", s=60 )\n",
    "            ax.plot(dim, acc_test_all[i,j,0]*np.ones(nn)*0.9,'r-.', label=\"Testing: baseline\")\n",
    "            ax.set_xlabel('Intrinsic Dim')\n",
    "            ax.set_ylabel('Accuracy')\n",
    "            ax.set_title('width %d, depth %d' %(width[i], depth[j]))\n",
    "            plt.grid()\n",
    "            ax.set_ylim([-0.1,1.1])\n",
    "\n",
    "fig.savefig(\"fnn_all_configs_sparseM.pdf\", bbox_inches='tight')"
   ]
  },
  {
   "cell_type": "code",
   "execution_count": null,
   "metadata": {
    "collapsed": true
   },
   "outputs": [],
   "source": [
    "fig = plt.figure(figsize=(35,18))\n",
    "# fig, ax = subplots(figsize=(5,4))\n",
    "\n",
    "font = {'family' : 'normal',\n",
    "        'weight' : 'normal',\n",
    "        'size'   : 16}\n",
    "matplotlib.rc('font', **font)\n",
    "\n",
    "nn = len(dim)\n",
    "\n",
    "sr = acc_test_all[2,2,0]*0.9\n",
    "\n",
    "ax = plt.subplot(nw, nd, id)\n",
    "\n",
    "plt.scatter(dim[1:], acc_test_all[2,2,1:], edgecolor=\"k\", facecolor=\"w\" )\n",
    "ax.plot(dim, acc_test_all[i,j,0]*np.ones(nn)*sr,'r-.', label=\"Testing: baseline\")\n",
    "ax.set_xlabel('Intrinsic Dim')\n",
    "ax.set_ylabel('Accuracy')\n",
    "# ax.set_title('width %d, depth %d' %(width[i], depth[j]))\n",
    "plt.grid()\n",
    "ax.set_ylim([-0.1,1.1])\n",
    "# fig.set_size_inches(5, 4)\n",
    "        \n",
    "fig.savefig(\"fnn_mnist_sparseM.pdf\", bbox_inches='tight')        \n"
   ]
  },
  {
   "cell_type": "code",
   "execution_count": null,
   "metadata": {
    "collapsed": true
   },
   "outputs": [],
   "source": [
    "import matplotlib.cm as cm\n",
    "import matplotlib.pyplot as plt\n",
    "import matplotlib.font_manager as font_manager\n",
    "import seaborn as sns\n",
    "\n",
    "plt.figure(figsize=(20,5.0))\n",
    "\n",
    "for i in range(run_time_all.shape[2]):\n",
    "    acc = run_time_all[:,:,i].reshape(len(depth)*len(width),order='F')\n",
    "    if i==0:\n",
    "        plt.scatter(fig_params_1d, acc, s=(np.array(fig_width)**1.8)/100, c=fig_depth, edgecolors='k') \n",
    "        # plt.scatter(fig_params_1d, 0.9*acc, marker=\"_\", s=300, c='k', edgecolors='r') \n",
    "    else:\n",
    "        plt.scatter(fig_params_1d, acc, s=(np.array(fig_width)**1.8)/100, c=fig_depth, facecolors='None', linewidth=np.array(dim[i])/300.0) \n",
    "\n",
    "        \n",
    "ax = plt.gca()\n",
    "plt.colorbar(label=\"Depth\")\n",
    "\n",
    "ax.set_xscale('log')\n",
    "ax.grid(True)\n",
    "\n",
    "# ax.set_ylim(0.8, 1.0)\n",
    "ax.set_xlim(0.3E4, 1.5E6)\n",
    "\n",
    "plt.xlabel('#Parameters')\n",
    "plt.ylabel('Run time (second)')\n",
    "\n",
    "#make a legend:\n",
    "pws = width\n",
    "for pw in pws:\n",
    "    plt.scatter([], [], s=(pw**1.8)/1000, c=\"k\",label=str(pw))\n",
    "\n",
    "h, l = plt.gca().get_legend_handles_labels()\n",
    "plt.legend(h[0:], l[0:], labelspacing=1.2, title=\"layer width\", borderpad=1, loc='best', bbox_to_anchor=(1.25, 1),\n",
    "             frameon=True, framealpha=0.6, edgecolor=\"k\", facecolor=\"w\")\n"
   ]
  },
  {
   "cell_type": "code",
   "execution_count": 105,
   "metadata": {},
   "outputs": [
    {
     "data": {
      "image/png": "[encoded data removed]",
      "text/plain": [
       "<matplotlib.figure.Figure at 0x7f532db36350>"
      ]
     },
     "metadata": {},
     "output_type": "display_data"
    },
    {
     "data": {
      "image/png": "[encoded data removed]",
      "text/plain": [
       "<matplotlib.figure.Figure at 0x7f532b32ad50>"
      ]
     },
     "metadata": {},
     "output_type": "display_data"
    },
    {
     "data": {
      "image/png": "[encoded data removed]",
      "text/plain": [
       "<matplotlib.figure.Figure at 0x7f532b2c7750>"
      ]
     },
     "metadata": {},
     "output_type": "display_data"
    }
   ],
   "source": [
    "mean_nll_s = nll_test_sparse.mean((0,1))\n",
    "std_nll_s  = nll_test_sparse.std((0,1))\n",
    "\n",
    "mean_time_s = run_time_sparse.mean((0,1))\n",
    "std_time_s  = run_time_sparse.std((0,1))\n",
    "\n",
    "mean_acc_s = acc_test_sparse.mean((0,1))*100\n",
    "std_acc_s  = acc_test_sparse.std((0,1))*100\n",
    "\n",
    "\n",
    "mean_time_d = run_time_dense.mean((0,1))\n",
    "std_time_d  = run_time_dense.std((0,1))\n",
    "\n",
    "mean_acc_d = acc_test_dense.mean((0,1))*100\n",
    "std_acc_d  = acc_test_dense.std((0,1))*100\n",
    "\n",
    "mean_nll_d = nll_test_dense.mean((0,1))\n",
    "std_nll_d  = nll_test_dense.std((0,1))\n",
    "\n",
    "\n",
    "\n",
    "font = {'family' : 'normal',\n",
    "        'weight' : 'normal',\n",
    "        'size'   : 16}\n",
    "matplotlib.rc('font', **font)\n",
    "\n",
    "nn = len(dim)\n",
    "\n",
    "stride = max( int(nn / 10), 1)\n",
    "stride2 = max( int(nn / 5), 1)\n",
    "\n",
    "# 1) Running to finish the experiment\n",
    "fig = plt.figure(figsize=(6,4))\n",
    "plot(dim, mean_time_d,  'o-', lw=2, label='Dense', color='blue', markevery=stride)\n",
    "fill_between(dim, mean_time_d+std_time_d, mean_time_d-std_time_d, facecolor='blue', alpha=0.3)\n",
    "plot(dim, mean_time_s,  's-', lw=2, label='Sparse', color='orange', markevery=stride)\n",
    "fill_between(dim, mean_time_s+std_time_s, mean_time_s-std_time_s, facecolor='orange', alpha=0.3)\n",
    "plt.xlabel('Intrinsic Dim')\n",
    "plt.ylabel('Run Time (second)')\n",
    "# ax.set_title('width %d, depth %d' %(width[i], depth[j]))\n",
    "plt.grid()\n",
    "legend(loc='best', fancybox=True, framealpha=0.5)\n",
    "plt.xlim([-20,1500])\n",
    "# plt.ylim([-0.1,1.1])\n",
    "fig.savefig(\"fnn_mnist_time_sparse_dense.pdf\", bbox_inches='tight')        \n",
    "plt.show()\n",
    "\n",
    "\n",
    "\n",
    "# 2) Testing Accuracy: Acc \n",
    "fig = plt.figure(figsize=(6,4))\n",
    "\n",
    "plot(dim, mean_acc_d[0]*np.ones(nn), 'o-',lw=2, label='Dense', color='blue', markevery=stride)\n",
    "fill_between(dim, (mean_acc_d[0]+std_acc_d[0])*np.ones(nn), (mean_acc_d[0]-std_acc_d[0])*np.ones(nn), facecolor='blue', alpha=0.1)\n",
    "plot(dim[1:], mean_acc_d[1:], 'o-', lw=2, color='blue', markevery=stride)\n",
    "fill_between(dim[1:], mean_acc_d[1:]+std_acc_d[1:], mean_acc_d[1:]-std_acc_d[1:], facecolor='blue', alpha=0.1)\n",
    "\n",
    "plot(dim, mean_acc_s[0]*np.ones(nn),'s-', lw=2,label='Sparse', color='orange', markevery=stride2)\n",
    "fill_between(dim, (mean_acc_s[0]+std_acc_s[0])*np.ones(nn), (mean_acc_s[0]-std_acc_s[0])*np.ones(nn), facecolor='orange', alpha=0.1)\n",
    "plot(dim[1:], mean_acc_s[1:], 's-', lw=2, color='orange', markevery=stride2)\n",
    "fill_between(dim[1:], mean_acc_s[1:]+std_acc_s[1:], mean_acc_s[1:]-std_acc_s[1:], facecolor='orange', alpha=0.1)\n",
    "\n",
    "plt.xlabel('Intrinsic Dim')\n",
    "plt.ylabel('Testing Accuracy (%)')\n",
    "# ax.set_title('width %d, depth %d' %(width[i], depth[j]))\n",
    "plt.grid()\n",
    "legend(loc='best', fancybox=True, framealpha=0.5)\n",
    "plt.xlim([-5,1500])\n",
    "plt.ylim([10,100])\n",
    "fig.savefig(\"fnn_mnist_acc_sparse_dense.pdf\", bbox_inches='tight')        \n",
    "plt.show()\n",
    "\n",
    "\n",
    "# 3) Testing Loss: NLL \n",
    "fig = plt.figure(figsize=(6,4))\n",
    "plot(dim, mean_nll_d[0]*np.ones(nn), 'o-',lw=2, label='Dense', color='blue', markevery=stride)\n",
    "fill_between(dim, (mean_nll_d[0]+std_nll_d[0])*np.ones(nn), (mean_nll_d[0]-std_nll_d[0])*np.ones(nn), facecolor='blue', alpha=0.1)\n",
    "plot(dim[1:], mean_nll_d[1:], 'o-', lw=2, color='blue', markevery=stride)\n",
    "fill_between(dim[1:], mean_nll_d[1:]+std_nll_d[1:], mean_nll_d[1:]-std_nll_d[1:], facecolor='blue', alpha=0.1)\n",
    "\n",
    "plot(dim, mean_nll_s[0]*np.ones(nn),'s-', lw=2,label='Sparse', color='orange', markevery=stride2)\n",
    "fill_between(dim, (mean_nll_s[0]+std_nll_s[0])*np.ones(nn), (mean_nll_s[0]-std_nll_s[0])*np.ones(nn), facecolor='orange', alpha=0.1)\n",
    "plot(dim[1:], mean_nll_s[1:], 's-', lw=2, color='orange', markevery=stride2)\n",
    "fill_between(dim[1:], mean_nll_s[1:]+std_nll_s[1:], mean_nll_s[1:]-std_nll_s[1:], facecolor='orange', alpha=0.1)\n",
    "\n",
    "plt.xlabel('Intrinsic Dim')\n",
    "plt.ylabel('Testing NLL')\n",
    "# ax.set_title('width %d, depth %d' %(width[i], depth[j]))\n",
    "plt.grid()\n",
    "legend(loc='best', fancybox=True, framealpha=0.5)\n",
    "plt.xlim([0,1500])\n",
    "plt.ylim([0.0,2.3])\n",
    "fig.savefig(\"fnn_mnist_nll_sparse_dense.pdf\", bbox_inches='tight')        \n",
    "plt.show()\n",
    "\n"
   ]
  },
  {
   "cell_type": "code",
   "execution_count": 101,
   "metadata": {},
   "outputs": [
    {
     "name": "stdout",
     "output_type": "stream",
     "text": [
      "[[ 179.564  611.431  205.606  199.965  219.243]\n",
      " [ 333.152  206.894  190.112  239.077  203.656]\n",
      " [ 238.67   205.017  360.31   521.668  246.512]]\n",
      "[[ 100.478   108.957   106.248   112.534   113.493 ]\n",
      " [  93.8947   96.3711  109.9     113.502   120.818 ]\n",
      " [ 101.307   108.224   118.039   118.069   121.025 ]]\n"
     ]
    }
   ],
   "source": [
    "print run_time_dense[:,:,0]\n",
    "print run_time_sparse[:,:,0]"
   ]
  },
  {
   "cell_type": "code",
   "execution_count": 52,
   "metadata": {},
   "outputs": [
    {
     "name": "stdout",
     "output_type": "stream",
     "text": [
      "[ 21.58527578   3.20531683   2.49994044   2.45833223   1.10384097\n",
      "   0.50835421   0.50190127   0.70524196   0.58372596   0.51385947\n",
      "   0.40416938   0.30025471   0.51759959   0.36329725   0.49204968\n",
      "   0.47547684   0.44360944   0.36021969   0.33203347   0.44045734\n",
      "   0.51420964   0.35804407   0.32605657   0.40974247   0.40321706\n",
      "   0.37767476   0.39395093   0.28205594   0.344186     0.30929741]\n",
      "[ 21.56515616   2.52041478   2.97534939   1.56217029   0.81700972\n",
      "   0.79665021   0.64138253   0.41243774   0.41398873   0.44825588\n",
      "   0.47275364   0.51625403   0.37199761   0.45251593   0.43100915\n",
      "   0.4416283    0.36108725   0.36272794   0.36700954   0.48034247\n",
      "   0.51051869   0.40722148   0.38257839   0.29954336   0.3229957\n",
      "   0.36373617   0.45871511   0.35387003   0.38521798   0.312299  ]\n"
     ]
    }
   ],
   "source": [
    "print std_acc_s\n",
    "print std_acc_d"
   ]
  },
  {
   "cell_type": "code",
   "execution_count": null,
   "metadata": {
    "collapsed": true
   },
   "outputs": [],
   "source": []
  }
 ],
 "metadata": {
  "kernelspec": {
   "display_name": "Python 2",
   "language": "python",
   "name": "python2"
  },
  "language_info": {
   "codemirror_mode": {
    "name": "ipython",
    "version": 2
   },
   "file_extension": ".py",
   "mimetype": "text/x-python",
   "name": "python",
   "nbconvert_exporter": "python",
   "pygments_lexer": "ipython2",
   "version": "2.7.12"
  }
 },
 "nbformat": 4,
 "nbformat_minor": 2
}
