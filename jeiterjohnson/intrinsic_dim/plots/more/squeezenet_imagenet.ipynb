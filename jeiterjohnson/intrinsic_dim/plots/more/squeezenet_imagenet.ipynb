{
 "cells": [
  {
   "cell_type": "markdown",
   "metadata": {},
   "source": [
    "# SqueezeNet on ImageNet\n",
    "\n",
    "This is SqueezeNet on Imagenet. SGD algorithm.\n",
    "\n",
    "\n",
    "#### Direct SqeezeNet\n",
    "\n",
    "    Total params: 1,248,424\n",
    "    Trainable params: 1,248,424\n",
    "    Non-trainable params: 0\n",
    "\n",
    "\n",
    "####  Sqeeze with 50K intrinsic dim\n",
    "\n",
    "    Total params: 7,589,881\n",
    "    Trainable params: 50,000\n",
    "    Non-trainable params: 7,539,881\n",
    "    \n",
    "####  Sqeeze with 100K intrinsic dim\n",
    "\n",
    "    Total params: 7,639,881\n",
    "    Trainable params: 100,000\n",
    "    Non-trainable params: 7,539,881\n",
    "\n",
    "####  Sqeeze with 200K intrinsic dim\n",
    "\n",
    "    Total params: 7,739,881\n",
    "    Trainable params: 200,000\n",
    "    Non-trainable params: 7,539,881\n",
    "\n",
    "####  Sqeeze with 500K intrinsic dim\n",
    "\n",
    "    Total params: 8,039,881\n",
    "    Trainable params: 500,000\n",
    "    Non-trainable params: 7,539,881\n"
   ]
  },
  {
   "cell_type": "code",
   "execution_count": null,
   "metadata": {
    "collapsed": true
   },
   "outputs": [],
   "source": []
  },
  {
   "cell_type": "code",
   "execution_count": 2,
   "metadata": {},
   "outputs": [],
   "source": [
    "import os, sys\n",
    "import numpy as np\n",
    "import matplotlib.pyplot as plt\n",
    "from matplotlib.pyplot import *\n",
    "%matplotlib inline"
   ]
  },
  {
   "cell_type": "markdown",
   "metadata": {},
   "source": [
    "Find the right directory  with\n",
    "\n",
    "    `ll | grep direct`\n",
    "    `ll | grep vsize50k`\n",
    "    `ll | grep vsize100m`\n",
    "    ...\n",
    "    \n",
    "Go to the most recent one, grep validation accuracies with e.g.\n",
    "\n",
    "     `grep val: 171023_044314_a9c117e_lrb_squz_dist4_direct_cont_3x/diary`\n",
    "    ...\n",
    "    \n",
    "    \n",
    "Copy the best accuracy numbers (4 of them due to 4-GPU distributed training)"
   ]
  },
  {
   "cell_type": "markdown",
   "metadata": {},
   "source": [
    "#### Direct\n",
    "\n",
    "(ml)rosanne@opusgpu168-wbu2 [/mnt/share/public/results/rosanne/171019_sqznet] $ grep val: 171023_044314_a9c117e_lrb_squz_dist4_direct_cont_3x/diary\n",
    "\n",
    "17.10.23.04.44.13.557   505404 (worker 3) val:   l:  2.0153, l_xe:  2.0153, acc:  0.5481 (0.126s/i)\n",
    "\n",
    "17.10.23.04.44.14.129   505404 (worker 1) val:   l:  2.0145, l_xe:  2.0145, acc:  0.5510 (0.129s/i)\n",
    "\n",
    "17.10.23.04.44.14.190   505404 (worker 0) val:   l:  2.0251, l_xe:  2.0251, acc:  0.5469 (0.129s/i)\n",
    "\n",
    "17.10.23.04.44.14.500   505404 (worker 2) val:   l:  2.0019, l_xe:  2.0019, acc:  0.5504 (0.129s/i)\n",
    "\n",
    "\n",
    "#### intrinsic 50k\n",
    "\n",
    "(ml)rosanne@opusgpu168-wbu2 [/mnt/share/public/results/rosanne/171019_sqznet] $ grep val: 171023_151800_a9c117e_lrb_squz_dist4_fastfood_vsize50k_cont2_cont3_cont_cont/diary\n",
    "\n",
    "17.10.23.15.18.46.406   275220 (worker 3) val:   l:  4.6874, l_xe:  4.6874, acc:  0.1371 (0.0738s/i)\n",
    "\n",
    "17.10.23.15.18.46.884   275220 (worker 1) val:   l:  4.6705, l_xe:  4.6705, acc:  0.1377 (0.0729s/i)\n",
    "\n",
    "17.10.23.15.18.53.147   275220 (worker 0) val:   l:  4.6823, l_xe:  4.6823, acc:  0.1373 (0.107s/i)\n",
    "\n",
    "17.10.23.15.18.53.510   275220 (worker 2) val:   l:  4.6737, l_xe:  4.6737, acc:  0.1387 (0.107s/i)\n",
    "\n",
    "#### intrinsic 100k\n",
    "\n",
    "(ml)rosanne@opusgpu168-wbu2 [/mnt/share/public/results/rosanne/171019_sqznet] $ grep val: 171023_152032_a9c117e_lrb_squz_dist4_fastfood_vsize100k_cont_cont_cont2_cont_2x/diary\n",
    "\n",
    "17.10.23.15.21.41.945   565452 (worker 0) val:   l:  3.9296, l_xe:  3.9296, acc:  0.2381 (0.148s/i)\n",
    "\n",
    "17.10.23.15.21.42.234   565452 (worker 2) val:   l:  3.9113, l_xe:  3.9113, acc:  0.2385 (0.15s/i)\n",
    "\n",
    "17.10.23.15.21.42.444   565452 (worker 1) val:   l:  3.9138, l_xe:  3.9138, acc:  0.2397 (0.152s/i)\n",
    "\n",
    "17.10.23.15.21.42.522   565452 (worker 3) val:   l:  3.9388, l_xe:  3.9388, acc:  0.2377 (0.154s/i)\n",
    "\n",
    "#### intrinsic 200k\n",
    "\n",
    "(ml)rosanne@opusgpu168-wbu2 [/mnt/share/public/results/rosanne/171019_sqznet] $ grep val: 171023_152741_a9c117e_lrb_squz_dist4_fastfood_vsize200k_cont_6x/diary\n",
    "\n",
    "17.10.23.19.00.57.030   680544 (worker 0) val:   l:  3.6063, l_xe:  3.6063, acc:  0.2820 (0.139s/i)\n",
    "\n",
    "17.10.23.19.00.57.035   680544 (worker 2) val:   l:  3.5659, l_xe:  3.5659, acc:  0.2871 (0.139s/i)\n",
    "\n",
    "17.10.23.19.00.57.085   680544 (worker 1) val:   l:  3.5694, l_xe:  3.5694, acc:  0.2843 (0.139s/i)\n",
    "\n",
    "17.10.23.19.00.57.092   680544 (worker 3) val:   l:  3.6047, l_xe:  3.6047, acc:  0.2870 (0.139s/i)\n",
    "\n",
    "\n",
    "#### intrinsic 500k\n",
    "\n",
    "(ml)rosanne@opusgpu168-wbu2 [/mnt/share/public/results/rosanne/171019_sqznet] $ grep val: 171023_152544_a9c117e_lrb_squz_dist4_fastfood_vsize500k_cont2_cont3/diary\n",
    "\n",
    "17.10.23.18.57.14.485   360288 (worker 0) val:   l:  3.4111, l_xe:  3.4111, acc:  0.3177 (0.121s/i)\n",
    "\n",
    "17.10.23.18.57.14.530   360288 (worker 2) val:   l:  3.3885, l_xe:  3.3885, acc:  0.3151 (0.122s/i)\n",
    "\n",
    "17.10.23.18.57.14.544   360288 (worker 1) val:   l:  3.3623, l_xe:  3.3623, acc:  0.3232 (0.122s/i)\n",
    "\n",
    "17.10.23.18.57.14.566   360288 (worker 3) val:   l:  3.3980, l_xe:  3.3980, acc:  0.3153 (0.122s/i)\n",
    "\n",
    "\n",
    "#### intrinsic 500k with large batch\n",
    "\n",
    "(ml)rosanne@opusgpu168-wbu2 [/mnt/share/public/results/rosanne/171019_sqznet] $ grep val: 171023_005007_a9c117e_lrb_squz_dist4_fastfood_vsize500k_mb900_cont_cont2/diary\n",
    "\n",
    "17.10.23.13.07.12.374   125224 (worker 1) val:   l:  3.2953, l_xe:  3.2953, acc:  0.3360 (2.39s/i)\n",
    "\n",
    "17.10.23.13.07.12.375   125224 (worker 3) val:   l:  3.3209, l_xe:  3.3209, acc:  0.3354 (2.39s/i)\n",
    "\n",
    "17.10.23.13.09.21.004   125224 (worker 2) val:   l:  3.3296, l_xe:  3.3296, acc:  0.3270 (4.73s/i)\n",
    "\n",
    "17.10.23.13.09.21.072   125224 (worker 0) val:   l:  3.2987, l_xe:  3.2987, acc:  0.3270 (4.73s/i)"
   ]
  },
  {
   "cell_type": "code",
   "execution_count": 6,
   "metadata": {},
   "outputs": [],
   "source": [
    "dim = [0,50000,100000,200000,500000,500001]"
   ]
  },
  {
   "cell_type": "code",
   "execution_count": 4,
   "metadata": {},
   "outputs": [],
   "source": [
    "Rs = [\n",
    "    np.mean([0.5481, 0.5510,0.5469, 0.5504]), # direct, or dim 0\n",
    "    np.mean([0.1371, 0.1377,0.1373, 0.1387]), # dim 50k\n",
    "    np.mean([0.2381, 0.2385,0.2397, 0.2377]), # dim 100k\n",
    "    np.mean([0.2820, 0.2871,0.2843, 0.2870]), # dim 200k\n",
    "    np.mean([0.3177, 0.3151,0.3232, 0.3153]), # dim 500k\n",
    "    np.mean([0.3360, 0.3354,0.3270, 0.3270]), # dim 500k with large batch\n",
    "]\n",
    "\n",
    "Rs = np.array(Rs)\n"
   ]
  },
  {
   "cell_type": "code",
   "execution_count": 5,
   "metadata": {},
   "outputs": [
    {
     "data": {
      "text/plain": [
       "array([ 0.5491  ,  0.1377  ,  0.2385  ,  0.2851  ,  0.317825,  0.33135 ])"
      ]
     },
     "execution_count": 5,
     "metadata": {},
     "output_type": "execute_result"
    }
   ],
   "source": [
    "Rs"
   ]
  },
  {
   "cell_type": "markdown",
   "metadata": {},
   "source": [
    "## Performance comparison with Baseline\n",
    "\n",
    "\"Baseline method\" indicates optimization in the parameter space.\n",
    "\n",
    "The proposed method first embeds parameters into the intrinisic space (via orthogonal matrix), and optimization is the new space.\n",
    "\n",
    "The dimension of intrinsic space indicates the degree of freedom in the weights of neural nets."
   ]
  },
  {
   "cell_type": "code",
   "execution_count": 27,
   "metadata": {},
   "outputs": [],
   "source": [
    "matplotlib.rcParams.update({'font.size': 16})"
   ]
  },
  {
   "cell_type": "code",
   "execution_count": 31,
   "metadata": {},
   "outputs": [
    {
     "data": {
      "image/png": "[encoded data removed]",
      "text/plain": [
       "<matplotlib.figure.Figure at 0x7f126a531590>"
      ]
     },
     "metadata": {},
     "output_type": "display_data"
    }
   ],
   "source": [
    "nn = len(Rs)-1\n",
    "fig, ax = subplots(figsize=(5,4) )\n",
    "  \n",
    "   \n",
    "plt.scatter(dim[1:], Rs[1:], edgecolor=\"b\", facecolor=\"c\",s=150 )\n",
    "ax.plot(dim[1:], Rs[0]*np.ones(nn)*0.9,'k-.', label=\"Testing: 0.9*baseline\")\n",
    "ax.plot(dim[1:], Rs[0]*np.ones(nn),'k-', label=\"Testing: baseline\")\n",
    "ax.set_xlabel('Intrinsic Dim')\n",
    "ax.set_ylabel('Top 1 Accuracy')\n",
    "plt.grid()\n",
    "ax.legend()\n",
    "ax.set_ylim([-0.0,0.8])\n",
    "ax.set_xlim([0,530000])\n",
    "fig.set_size_inches(10, 6)"
   ]
  },
  {
   "cell_type": "code",
   "execution_count": null,
   "metadata": {
    "collapsed": true
   },
   "outputs": [],
   "source": []
  }
 ],
 "metadata": {
  "kernelspec": {
   "display_name": "Python 2",
   "language": "python",
   "name": "python2"
  },
  "language_info": {
   "codemirror_mode": {
    "name": "ipython",
    "version": 2
   },
   "file_extension": ".py",
   "mimetype": "text/x-python",
   "name": "python",
   "nbconvert_exporter": "python",
   "pygments_lexer": "ipython2",
   "version": "2.7.9"
  }
 },
 "nbformat": 4,
 "nbformat_minor": 2
}
