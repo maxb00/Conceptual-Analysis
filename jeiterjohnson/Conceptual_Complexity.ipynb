{
 "cells": [
  {
   "cell_type": "markdown",
   "metadata": {},
   "source": [
    "# Machine Learning and Conceptual Complexity - Computational Methods for Music, Media, and Minds REU"
   ]
  },
  {
   "cell_type": "markdown",
   "metadata": {},
   "source": [
    "By Jens Kipper, Max Barlow, Sara Jo Jeiter-Johnson, and Tianyi Ma"
   ]
  }
 ],
 "metadata": {
  "interpreter": {
   "hash": "5bc4e0d8c80a46683db44d5f27f3acefa8fbd5cfb58a17aa0a6dbfd83b51e145"
  },
  "kernelspec": {
   "display_name": "Python 3.10.4 ('reu')",
   "language": "python",
   "name": "python3"
  },
  "language_info": {
   "codemirror_mode": {
    "name": "ipython",
    "version": 3
   },
   "file_extension": ".py",
   "mimetype": "text/x-python",
   "name": "python",
   "nbconvert_exporter": "python",
   "pygments_lexer": "ipython3",
   "version": "3.10.4"
  },
  "orig_nbformat": 4
 },
 "nbformat": 4,
 "nbformat_minor": 2
}
